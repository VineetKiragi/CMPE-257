{
  "nbformat": 4,
  "nbformat_minor": 0,
  "metadata": {
    "colab": {
      "provenance": []
    },
    "kernelspec": {
      "name": "python3",
      "display_name": "Python 3"
    },
    "language_info": {
      "name": "python"
    }
  },
  "cells": [
    {
      "cell_type": "code",
      "execution_count": 42,
      "metadata": {
        "id": "OxiCZrsBej62"
      },
      "outputs": [],
      "source": [
        "import numpy as np, pandas as pd\n",
        "import json\n",
        "import ast \n",
        "from textblob import TextBlob\n",
        "import nltk\n",
        "import torch\n",
        "import pickle\n",
        "from scipy import spatial\n",
        "import warnings\n",
        "warnings.filterwarnings('ignore')\n",
        "import spacy\n",
        "from nltk import Tree\n",
        "#en_nlp = spacy.load('en')\n",
        "from nltk.stem.lancaster import LancasterStemmer\n",
        "st = LancasterStemmer()\n",
        "from sklearn.feature_extraction.text import TfidfVectorizer, TfidfTransformer"
      ]
    },
    {
      "cell_type": "code",
      "source": [
        "train = pd.read_csv(\"data.csv\")"
      ],
      "metadata": {
        "id": "lXTxShKBetUg"
      },
      "execution_count": 43,
      "outputs": []
    },
    {
      "cell_type": "code",
      "source": [
        "train.shape"
      ],
      "metadata": {
        "colab": {
          "base_uri": "https://localhost:8080/"
        },
        "id": "usABDNIJexG2",
        "outputId": "9d9cc2da-3a52-4bc3-d481-da87e013b29f"
      },
      "execution_count": 44,
      "outputs": [
        {
          "output_type": "execute_result",
          "data": {
            "text/plain": [
              "(363, 4)"
            ]
          },
          "metadata": {},
          "execution_count": 44
        }
      ]
    },
    {
      "cell_type": "markdown",
      "source": [
        "Loading Embedding dictionary"
      ],
      "metadata": {
        "id": "Iz0G3illX7nq"
      }
    },
    {
      "cell_type": "code",
      "source": [
        "with open(\"/content/dict_embeddings1.pickle\", \"rb\") as f:\n",
        "    d1 = pickle.load(f)"
      ],
      "metadata": {
        "id": "M0eb0JRKX7-_"
      },
      "execution_count": 45,
      "outputs": []
    },
    {
      "cell_type": "code",
      "source": [
        "with open(\"/content/dict_embeddings2.pickle\", \"rb\") as f:\n",
        "    d2 = pickle.load(f)"
      ],
      "metadata": {
        "id": "3VHkutjKX9sp"
      },
      "execution_count": 46,
      "outputs": []
    },
    {
      "cell_type": "code",
      "source": [
        "dict_emb = dict(d1)\n",
        "dict_emb.update(d2)"
      ],
      "metadata": {
        "id": "g0DH59FsYFsm"
      },
      "execution_count": 47,
      "outputs": []
    },
    {
      "cell_type": "code",
      "source": [
        "len(dict_emb)"
      ],
      "metadata": {
        "colab": {
          "base_uri": "https://localhost:8080/"
        },
        "id": "ZGTxnbhuYJOM",
        "outputId": "4ae7a163-e1fc-4585-8ba7-b1a544372aea"
      },
      "execution_count": 48,
      "outputs": [
        {
          "output_type": "execute_result",
          "data": {
            "text/plain": [
              "464"
            ]
          },
          "metadata": {},
          "execution_count": 48
        }
      ]
    },
    {
      "cell_type": "code",
      "source": [
        "del d1, d2"
      ],
      "metadata": {
        "id": "q4zc0RK6YNr8"
      },
      "execution_count": 49,
      "outputs": []
    },
    {
      "cell_type": "markdown",
      "source": [
        "Data Processing"
      ],
      "metadata": {
        "id": "D4eyNii0YSEL"
      }
    },
    {
      "cell_type": "code",
      "source": [
        "def get_target(x):\n",
        "    idx = -1\n",
        "    for i in range(len(x[\"sentences\"])):\n",
        "        if x[\"answer\"] in x[\"sentences\"][i]: idx = i\n",
        "    return idx"
      ],
      "metadata": {
        "id": "UwikLKQ9YPzz"
      },
      "execution_count": 53,
      "outputs": []
    },
    {
      "cell_type": "code",
      "source": [
        "train.head(3)"
      ],
      "metadata": {
        "colab": {
          "base_uri": "https://localhost:8080/",
          "height": 239
        },
        "id": "2RmWiaxeYUF9",
        "outputId": "f6cec912-8678-4279-ef39-f2c1223aaf0b"
      },
      "execution_count": 50,
      "outputs": [
        {
          "output_type": "execute_result",
          "data": {
            "text/plain": [
              "                                                text  \\\n",
              "0  Los Angeles is a sprawling Southern California...   \n",
              "1  Los Angeles is a sprawling Southern California...   \n",
              "2  Los Angeles is a sprawling Southern California...   \n",
              "\n",
              "                                     question  \\\n",
              "0              In which state is Los Angeles?   \n",
              "1       What more can be told about the city?   \n",
              "2  What are some iconic thing about the city?   \n",
              "\n",
              "                                              answer  answer_start  \n",
              "0                                         California            36  \n",
              "1  TCL Chinese Theatre displays celebrities’ hand...           266  \n",
              "2  Paramount Pictures, Universal and Warner Brothers           161  "
            ],
            "text/html": [
              "\n",
              "  <div id=\"df-0952628e-c555-44a1-9726-1355f92c44e6\">\n",
              "    <div class=\"colab-df-container\">\n",
              "      <div>\n",
              "<style scoped>\n",
              "    .dataframe tbody tr th:only-of-type {\n",
              "        vertical-align: middle;\n",
              "    }\n",
              "\n",
              "    .dataframe tbody tr th {\n",
              "        vertical-align: top;\n",
              "    }\n",
              "\n",
              "    .dataframe thead th {\n",
              "        text-align: right;\n",
              "    }\n",
              "</style>\n",
              "<table border=\"1\" class=\"dataframe\">\n",
              "  <thead>\n",
              "    <tr style=\"text-align: right;\">\n",
              "      <th></th>\n",
              "      <th>text</th>\n",
              "      <th>question</th>\n",
              "      <th>answer</th>\n",
              "      <th>answer_start</th>\n",
              "    </tr>\n",
              "  </thead>\n",
              "  <tbody>\n",
              "    <tr>\n",
              "      <th>0</th>\n",
              "      <td>Los Angeles is a sprawling Southern California...</td>\n",
              "      <td>In which state is Los Angeles?</td>\n",
              "      <td>California</td>\n",
              "      <td>36</td>\n",
              "    </tr>\n",
              "    <tr>\n",
              "      <th>1</th>\n",
              "      <td>Los Angeles is a sprawling Southern California...</td>\n",
              "      <td>What more can be told about the city?</td>\n",
              "      <td>TCL Chinese Theatre displays celebrities’ hand...</td>\n",
              "      <td>266</td>\n",
              "    </tr>\n",
              "    <tr>\n",
              "      <th>2</th>\n",
              "      <td>Los Angeles is a sprawling Southern California...</td>\n",
              "      <td>What are some iconic thing about the city?</td>\n",
              "      <td>Paramount Pictures, Universal and Warner Brothers</td>\n",
              "      <td>161</td>\n",
              "    </tr>\n",
              "  </tbody>\n",
              "</table>\n",
              "</div>\n",
              "      <button class=\"colab-df-convert\" onclick=\"convertToInteractive('df-0952628e-c555-44a1-9726-1355f92c44e6')\"\n",
              "              title=\"Convert this dataframe to an interactive table.\"\n",
              "              style=\"display:none;\">\n",
              "        \n",
              "  <svg xmlns=\"http://www.w3.org/2000/svg\" height=\"24px\"viewBox=\"0 0 24 24\"\n",
              "       width=\"24px\">\n",
              "    <path d=\"M0 0h24v24H0V0z\" fill=\"none\"/>\n",
              "    <path d=\"M18.56 5.44l.94 2.06.94-2.06 2.06-.94-2.06-.94-.94-2.06-.94 2.06-2.06.94zm-11 1L8.5 8.5l.94-2.06 2.06-.94-2.06-.94L8.5 2.5l-.94 2.06-2.06.94zm10 10l.94 2.06.94-2.06 2.06-.94-2.06-.94-.94-2.06-.94 2.06-2.06.94z\"/><path d=\"M17.41 7.96l-1.37-1.37c-.4-.4-.92-.59-1.43-.59-.52 0-1.04.2-1.43.59L10.3 9.45l-7.72 7.72c-.78.78-.78 2.05 0 2.83L4 21.41c.39.39.9.59 1.41.59.51 0 1.02-.2 1.41-.59l7.78-7.78 2.81-2.81c.8-.78.8-2.07 0-2.86zM5.41 20L4 18.59l7.72-7.72 1.47 1.35L5.41 20z\"/>\n",
              "  </svg>\n",
              "      </button>\n",
              "      \n",
              "  <style>\n",
              "    .colab-df-container {\n",
              "      display:flex;\n",
              "      flex-wrap:wrap;\n",
              "      gap: 12px;\n",
              "    }\n",
              "\n",
              "    .colab-df-convert {\n",
              "      background-color: #E8F0FE;\n",
              "      border: none;\n",
              "      border-radius: 50%;\n",
              "      cursor: pointer;\n",
              "      display: none;\n",
              "      fill: #1967D2;\n",
              "      height: 32px;\n",
              "      padding: 0 0 0 0;\n",
              "      width: 32px;\n",
              "    }\n",
              "\n",
              "    .colab-df-convert:hover {\n",
              "      background-color: #E2EBFA;\n",
              "      box-shadow: 0px 1px 2px rgba(60, 64, 67, 0.3), 0px 1px 3px 1px rgba(60, 64, 67, 0.15);\n",
              "      fill: #174EA6;\n",
              "    }\n",
              "\n",
              "    [theme=dark] .colab-df-convert {\n",
              "      background-color: #3B4455;\n",
              "      fill: #D2E3FC;\n",
              "    }\n",
              "\n",
              "    [theme=dark] .colab-df-convert:hover {\n",
              "      background-color: #434B5C;\n",
              "      box-shadow: 0px 1px 3px 1px rgba(0, 0, 0, 0.15);\n",
              "      filter: drop-shadow(0px 1px 2px rgba(0, 0, 0, 0.3));\n",
              "      fill: #FFFFFF;\n",
              "    }\n",
              "  </style>\n",
              "\n",
              "      <script>\n",
              "        const buttonEl =\n",
              "          document.querySelector('#df-0952628e-c555-44a1-9726-1355f92c44e6 button.colab-df-convert');\n",
              "        buttonEl.style.display =\n",
              "          google.colab.kernel.accessAllowed ? 'block' : 'none';\n",
              "\n",
              "        async function convertToInteractive(key) {\n",
              "          const element = document.querySelector('#df-0952628e-c555-44a1-9726-1355f92c44e6');\n",
              "          const dataTable =\n",
              "            await google.colab.kernel.invokeFunction('convertToInteractive',\n",
              "                                                     [key], {});\n",
              "          if (!dataTable) return;\n",
              "\n",
              "          const docLinkHtml = 'Like what you see? Visit the ' +\n",
              "            '<a target=\"_blank\" href=https://colab.research.google.com/notebooks/data_table.ipynb>data table notebook</a>'\n",
              "            + ' to learn more about interactive tables.';\n",
              "          element.innerHTML = '';\n",
              "          dataTable['output_type'] = 'display_data';\n",
              "          await google.colab.output.renderOutput(dataTable, element);\n",
              "          const docLink = document.createElement('div');\n",
              "          docLink.innerHTML = docLinkHtml;\n",
              "          element.appendChild(docLink);\n",
              "        }\n",
              "      </script>\n",
              "    </div>\n",
              "  </div>\n",
              "  "
            ]
          },
          "metadata": {},
          "execution_count": 50
        }
      ]
    },
    {
      "cell_type": "code",
      "source": [
        "train.dropna(inplace=True)"
      ],
      "metadata": {
        "id": "sCjng4H-YWJ6"
      },
      "execution_count": 51,
      "outputs": []
    },
    {
      "cell_type": "code",
      "source": [
        "train.shape\n"
      ],
      "metadata": {
        "colab": {
          "base_uri": "https://localhost:8080/"
        },
        "id": "dRmIDJA4Yax-",
        "outputId": "207f0256-62bf-4be2-b0d8-c8dbe4b7f0a9"
      },
      "execution_count": 52,
      "outputs": [
        {
          "output_type": "execute_result",
          "data": {
            "text/plain": [
              "(363, 4)"
            ]
          },
          "metadata": {},
          "execution_count": 52
        }
      ]
    },
    {
      "cell_type": "code",
      "source": [
        "def process_data(train):\n",
        "    \n",
        "    print(\"step 1\")\n",
        "    train['sentences'] = train['text'].apply(lambda x: [item.raw for item in TextBlob(x).sentences])\n",
        "    \n",
        "    print(\"step 2\")\n",
        "    train[\"target\"] = train.apply(get_target, axis = 1)\n",
        "    \n",
        "    print(\"step 3\")\n",
        "    train['sent_emb'] = train['sentences'].apply(lambda x: [dict_emb[item][0] if item in\\\n",
        "                                                           dict_emb else np.zeros(4096) for item in x])\n",
        "    print(\"step 4\")\n",
        "    train['quest_emb'] = train['question'].apply(lambda x: dict_emb[x] if x in dict_emb else np.zeros(4096) )\n",
        "        \n",
        "    return train   "
      ],
      "metadata": {
        "id": "fjJGCWm1YeJb"
      },
      "execution_count": 54,
      "outputs": []
    },
    {
      "cell_type": "code",
      "source": [
        "train = process_data(train)"
      ],
      "metadata": {
        "colab": {
          "base_uri": "https://localhost:8080/"
        },
        "id": "hFPLBY0GYlug",
        "outputId": "df862d8b-e357-4e65-d178-ca9f5a4e4c32"
      },
      "execution_count": 55,
      "outputs": [
        {
          "output_type": "stream",
          "name": "stdout",
          "text": [
            "step 1\n",
            "step 2\n",
            "step 3\n",
            "step 4\n"
          ]
        }
      ]
    },
    {
      "cell_type": "code",
      "source": [
        "train.head()"
      ],
      "metadata": {
        "colab": {
          "base_uri": "https://localhost:8080/",
          "height": 510
        },
        "id": "oZma3bNyZd_J",
        "outputId": "d30b6dc3-250c-4da9-9583-98ea2cf339c8"
      },
      "execution_count": 56,
      "outputs": [
        {
          "output_type": "execute_result",
          "data": {
            "text/plain": [
              "                                                text  \\\n",
              "0  Los Angeles is a sprawling Southern California...   \n",
              "1  Los Angeles is a sprawling Southern California...   \n",
              "2  Los Angeles is a sprawling Southern California...   \n",
              "3  New York City comprises 5 boroughs sitting whe...   \n",
              "4  New York City comprises 5 boroughs sitting whe...   \n",
              "\n",
              "                                        question  \\\n",
              "0                 In which state is Los Angeles?   \n",
              "1          What more can be told about the city?   \n",
              "2     What are some iconic thing about the city?   \n",
              "3     What are some iconic thing about the city?   \n",
              "4  What could be said the geography of the city?   \n",
              "\n",
              "                                              answer  answer_start  \\\n",
              "0                                         California            36   \n",
              "1  TCL Chinese Theatre displays celebrities’ hand...           266   \n",
              "2  Paramount Pictures, Universal and Warner Brothers           161   \n",
              "3   Empire State Building and sprawling Central Park           269   \n",
              "4  comprises 5 boroughs sitting where the Hudson ...            14   \n",
              "\n",
              "                                           sentences  target  \\\n",
              "0  [Los Angeles is a sprawling Southern Californi...       0   \n",
              "1  [Los Angeles is a sprawling Southern Californi...       2   \n",
              "2  [Los Angeles is a sprawling Southern Californi...       1   \n",
              "3  [New York City comprises 5 boroughs sitting wh...       2   \n",
              "4  [New York City comprises 5 boroughs sitting wh...       0   \n",
              "\n",
              "                                            sent_emb  \\\n",
              "0  [[0.12785082, 0.23619145, 0.12586468, -0.00088...   \n",
              "1  [[0.12785082, 0.23619145, 0.12586468, -0.00088...   \n",
              "2  [[0.12785082, 0.23619145, 0.12586468, -0.00088...   \n",
              "3  [[0.0, 0.0, 0.0, 0.0, 0.0, 0.0, 0.0, 0.0, 0.0,...   \n",
              "4  [[0.0, 0.0, 0.0, 0.0, 0.0, 0.0, 0.0, 0.0, 0.0,...   \n",
              "\n",
              "                                           quest_emb  \n",
              "0  [[0.06884657, 0.087404236, 0.12076794, -0.0216...  \n",
              "1  [[0.0794738, 0.07783784, 0.073144525, 0.018132...  \n",
              "2  [[0.08044811, 0.06524622, 0.121971734, 0.00339...  \n",
              "3  [[0.08044811, 0.06524622, 0.121971734, 0.00339...  \n",
              "4  [[0.037272844, 0.08949425, 0.048594367, 0.0261...  "
            ],
            "text/html": [
              "\n",
              "  <div id=\"df-860331f0-b92b-4904-9ef5-a8bd9763c4bc\">\n",
              "    <div class=\"colab-df-container\">\n",
              "      <div>\n",
              "<style scoped>\n",
              "    .dataframe tbody tr th:only-of-type {\n",
              "        vertical-align: middle;\n",
              "    }\n",
              "\n",
              "    .dataframe tbody tr th {\n",
              "        vertical-align: top;\n",
              "    }\n",
              "\n",
              "    .dataframe thead th {\n",
              "        text-align: right;\n",
              "    }\n",
              "</style>\n",
              "<table border=\"1\" class=\"dataframe\">\n",
              "  <thead>\n",
              "    <tr style=\"text-align: right;\">\n",
              "      <th></th>\n",
              "      <th>text</th>\n",
              "      <th>question</th>\n",
              "      <th>answer</th>\n",
              "      <th>answer_start</th>\n",
              "      <th>sentences</th>\n",
              "      <th>target</th>\n",
              "      <th>sent_emb</th>\n",
              "      <th>quest_emb</th>\n",
              "    </tr>\n",
              "  </thead>\n",
              "  <tbody>\n",
              "    <tr>\n",
              "      <th>0</th>\n",
              "      <td>Los Angeles is a sprawling Southern California...</td>\n",
              "      <td>In which state is Los Angeles?</td>\n",
              "      <td>California</td>\n",
              "      <td>36</td>\n",
              "      <td>[Los Angeles is a sprawling Southern Californi...</td>\n",
              "      <td>0</td>\n",
              "      <td>[[0.12785082, 0.23619145, 0.12586468, -0.00088...</td>\n",
              "      <td>[[0.06884657, 0.087404236, 0.12076794, -0.0216...</td>\n",
              "    </tr>\n",
              "    <tr>\n",
              "      <th>1</th>\n",
              "      <td>Los Angeles is a sprawling Southern California...</td>\n",
              "      <td>What more can be told about the city?</td>\n",
              "      <td>TCL Chinese Theatre displays celebrities’ hand...</td>\n",
              "      <td>266</td>\n",
              "      <td>[Los Angeles is a sprawling Southern Californi...</td>\n",
              "      <td>2</td>\n",
              "      <td>[[0.12785082, 0.23619145, 0.12586468, -0.00088...</td>\n",
              "      <td>[[0.0794738, 0.07783784, 0.073144525, 0.018132...</td>\n",
              "    </tr>\n",
              "    <tr>\n",
              "      <th>2</th>\n",
              "      <td>Los Angeles is a sprawling Southern California...</td>\n",
              "      <td>What are some iconic thing about the city?</td>\n",
              "      <td>Paramount Pictures, Universal and Warner Brothers</td>\n",
              "      <td>161</td>\n",
              "      <td>[Los Angeles is a sprawling Southern Californi...</td>\n",
              "      <td>1</td>\n",
              "      <td>[[0.12785082, 0.23619145, 0.12586468, -0.00088...</td>\n",
              "      <td>[[0.08044811, 0.06524622, 0.121971734, 0.00339...</td>\n",
              "    </tr>\n",
              "    <tr>\n",
              "      <th>3</th>\n",
              "      <td>New York City comprises 5 boroughs sitting whe...</td>\n",
              "      <td>What are some iconic thing about the city?</td>\n",
              "      <td>Empire State Building and sprawling Central Park</td>\n",
              "      <td>269</td>\n",
              "      <td>[New York City comprises 5 boroughs sitting wh...</td>\n",
              "      <td>2</td>\n",
              "      <td>[[0.0, 0.0, 0.0, 0.0, 0.0, 0.0, 0.0, 0.0, 0.0,...</td>\n",
              "      <td>[[0.08044811, 0.06524622, 0.121971734, 0.00339...</td>\n",
              "    </tr>\n",
              "    <tr>\n",
              "      <th>4</th>\n",
              "      <td>New York City comprises 5 boroughs sitting whe...</td>\n",
              "      <td>What could be said the geography of the city?</td>\n",
              "      <td>comprises 5 boroughs sitting where the Hudson ...</td>\n",
              "      <td>14</td>\n",
              "      <td>[New York City comprises 5 boroughs sitting wh...</td>\n",
              "      <td>0</td>\n",
              "      <td>[[0.0, 0.0, 0.0, 0.0, 0.0, 0.0, 0.0, 0.0, 0.0,...</td>\n",
              "      <td>[[0.037272844, 0.08949425, 0.048594367, 0.0261...</td>\n",
              "    </tr>\n",
              "  </tbody>\n",
              "</table>\n",
              "</div>\n",
              "      <button class=\"colab-df-convert\" onclick=\"convertToInteractive('df-860331f0-b92b-4904-9ef5-a8bd9763c4bc')\"\n",
              "              title=\"Convert this dataframe to an interactive table.\"\n",
              "              style=\"display:none;\">\n",
              "        \n",
              "  <svg xmlns=\"http://www.w3.org/2000/svg\" height=\"24px\"viewBox=\"0 0 24 24\"\n",
              "       width=\"24px\">\n",
              "    <path d=\"M0 0h24v24H0V0z\" fill=\"none\"/>\n",
              "    <path d=\"M18.56 5.44l.94 2.06.94-2.06 2.06-.94-2.06-.94-.94-2.06-.94 2.06-2.06.94zm-11 1L8.5 8.5l.94-2.06 2.06-.94-2.06-.94L8.5 2.5l-.94 2.06-2.06.94zm10 10l.94 2.06.94-2.06 2.06-.94-2.06-.94-.94-2.06-.94 2.06-2.06.94z\"/><path d=\"M17.41 7.96l-1.37-1.37c-.4-.4-.92-.59-1.43-.59-.52 0-1.04.2-1.43.59L10.3 9.45l-7.72 7.72c-.78.78-.78 2.05 0 2.83L4 21.41c.39.39.9.59 1.41.59.51 0 1.02-.2 1.41-.59l7.78-7.78 2.81-2.81c.8-.78.8-2.07 0-2.86zM5.41 20L4 18.59l7.72-7.72 1.47 1.35L5.41 20z\"/>\n",
              "  </svg>\n",
              "      </button>\n",
              "      \n",
              "  <style>\n",
              "    .colab-df-container {\n",
              "      display:flex;\n",
              "      flex-wrap:wrap;\n",
              "      gap: 12px;\n",
              "    }\n",
              "\n",
              "    .colab-df-convert {\n",
              "      background-color: #E8F0FE;\n",
              "      border: none;\n",
              "      border-radius: 50%;\n",
              "      cursor: pointer;\n",
              "      display: none;\n",
              "      fill: #1967D2;\n",
              "      height: 32px;\n",
              "      padding: 0 0 0 0;\n",
              "      width: 32px;\n",
              "    }\n",
              "\n",
              "    .colab-df-convert:hover {\n",
              "      background-color: #E2EBFA;\n",
              "      box-shadow: 0px 1px 2px rgba(60, 64, 67, 0.3), 0px 1px 3px 1px rgba(60, 64, 67, 0.15);\n",
              "      fill: #174EA6;\n",
              "    }\n",
              "\n",
              "    [theme=dark] .colab-df-convert {\n",
              "      background-color: #3B4455;\n",
              "      fill: #D2E3FC;\n",
              "    }\n",
              "\n",
              "    [theme=dark] .colab-df-convert:hover {\n",
              "      background-color: #434B5C;\n",
              "      box-shadow: 0px 1px 3px 1px rgba(0, 0, 0, 0.15);\n",
              "      filter: drop-shadow(0px 1px 2px rgba(0, 0, 0, 0.3));\n",
              "      fill: #FFFFFF;\n",
              "    }\n",
              "  </style>\n",
              "\n",
              "      <script>\n",
              "        const buttonEl =\n",
              "          document.querySelector('#df-860331f0-b92b-4904-9ef5-a8bd9763c4bc button.colab-df-convert');\n",
              "        buttonEl.style.display =\n",
              "          google.colab.kernel.accessAllowed ? 'block' : 'none';\n",
              "\n",
              "        async function convertToInteractive(key) {\n",
              "          const element = document.querySelector('#df-860331f0-b92b-4904-9ef5-a8bd9763c4bc');\n",
              "          const dataTable =\n",
              "            await google.colab.kernel.invokeFunction('convertToInteractive',\n",
              "                                                     [key], {});\n",
              "          if (!dataTable) return;\n",
              "\n",
              "          const docLinkHtml = 'Like what you see? Visit the ' +\n",
              "            '<a target=\"_blank\" href=https://colab.research.google.com/notebooks/data_table.ipynb>data table notebook</a>'\n",
              "            + ' to learn more about interactive tables.';\n",
              "          element.innerHTML = '';\n",
              "          dataTable['output_type'] = 'display_data';\n",
              "          await google.colab.output.renderOutput(dataTable, element);\n",
              "          const docLink = document.createElement('div');\n",
              "          docLink.innerHTML = docLinkHtml;\n",
              "          element.appendChild(docLink);\n",
              "        }\n",
              "      </script>\n",
              "    </div>\n",
              "  </div>\n",
              "  "
            ]
          },
          "metadata": {},
          "execution_count": 56
        }
      ]
    },
    {
      "cell_type": "markdown",
      "source": [
        "Predicted Cosine & Euclidean Index"
      ],
      "metadata": {
        "id": "d6I3bqhDaCCz"
      }
    },
    {
      "cell_type": "code",
      "source": [
        "def cosine_sim(x):\n",
        "    li = []\n",
        "    for item in x[\"sent_emb\"]:\n",
        "        li.append(spatial.distance.cosine(item,x[\"quest_emb\"][0]))\n",
        "    return li   "
      ],
      "metadata": {
        "id": "0qJBl6PvaDHZ"
      },
      "execution_count": 57,
      "outputs": []
    },
    {
      "cell_type": "code",
      "source": [
        "def pred_idx(distances):\n",
        "    return np.argmin(distances)  "
      ],
      "metadata": {
        "id": "xtmNlH6WaFsE"
      },
      "execution_count": 58,
      "outputs": []
    },
    {
      "cell_type": "code",
      "source": [
        "def predictions(train):\n",
        "    \n",
        "    train[\"cosine_sim\"] = train.apply(cosine_sim, axis = 1)\n",
        "    train[\"diff\"] = (train[\"quest_emb\"] - train[\"sent_emb\"])**2\n",
        "    train[\"euclidean_dis\"] = train[\"diff\"].apply(lambda x: list(np.sum(x, axis = 1)))\n",
        "    del train[\"diff\"]\n",
        "    \n",
        "    print(\"cosine start\")\n",
        "    \n",
        "    train[\"pred_idx_cos\"] = train[\"cosine_sim\"].apply(lambda x: pred_idx(x))\n",
        "    train[\"pred_idx_euc\"] = train[\"euclidean_dis\"].apply(lambda x: pred_idx(x))\n",
        "    \n",
        "    return train"
      ],
      "metadata": {
        "id": "8K9Kw1MuaIHb"
      },
      "execution_count": 59,
      "outputs": []
    },
    {
      "cell_type": "code",
      "source": [
        "predicted = predictions(train)"
      ],
      "metadata": {
        "colab": {
          "base_uri": "https://localhost:8080/"
        },
        "id": "LX8pufjIaKsr",
        "outputId": "cb7771af-8548-4fbf-b431-353e7b622248"
      },
      "execution_count": 60,
      "outputs": [
        {
          "output_type": "stream",
          "name": "stdout",
          "text": [
            "cosine start\n"
          ]
        }
      ]
    },
    {
      "cell_type": "code",
      "source": [
        "predicted.head(3)"
      ],
      "metadata": {
        "colab": {
          "base_uri": "https://localhost:8080/",
          "height": 450
        },
        "id": "K4lDVr7WaNmS",
        "outputId": "82f3d2cc-2e38-4808-f850-b1c2827e8b98"
      },
      "execution_count": 61,
      "outputs": [
        {
          "output_type": "execute_result",
          "data": {
            "text/plain": [
              "                                                text  \\\n",
              "0  Los Angeles is a sprawling Southern California...   \n",
              "1  Los Angeles is a sprawling Southern California...   \n",
              "2  Los Angeles is a sprawling Southern California...   \n",
              "\n",
              "                                     question  \\\n",
              "0              In which state is Los Angeles?   \n",
              "1       What more can be told about the city?   \n",
              "2  What are some iconic thing about the city?   \n",
              "\n",
              "                                              answer  answer_start  \\\n",
              "0                                         California            36   \n",
              "1  TCL Chinese Theatre displays celebrities’ hand...           266   \n",
              "2  Paramount Pictures, Universal and Warner Brothers           161   \n",
              "\n",
              "                                           sentences  target  \\\n",
              "0  [Los Angeles is a sprawling Southern Californi...       0   \n",
              "1  [Los Angeles is a sprawling Southern Californi...       2   \n",
              "2  [Los Angeles is a sprawling Southern Californi...       1   \n",
              "\n",
              "                                            sent_emb  \\\n",
              "0  [[0.12785082, 0.23619145, 0.12586468, -0.00088...   \n",
              "1  [[0.12785082, 0.23619145, 0.12586468, -0.00088...   \n",
              "2  [[0.12785082, 0.23619145, 0.12586468, -0.00088...   \n",
              "\n",
              "                                           quest_emb  \\\n",
              "0  [[0.06884657, 0.087404236, 0.12076794, -0.0216...   \n",
              "1  [[0.0794738, 0.07783784, 0.073144525, 0.018132...   \n",
              "2  [[0.08044811, 0.06524622, 0.121971734, 0.00339...   \n",
              "\n",
              "                                     cosine_sim  \\\n",
              "0  [0.35271120071411133, 0.4922119379043579, 0]   \n",
              "1  [0.48899638652801514, 0.5336130857467651, 0]   \n",
              "2  [0.40747690200805664, 0.4056297540664673, 0]   \n",
              "\n",
              "                                       euclidean_dis  pred_idx_cos  \\\n",
              "0  [14.929879565052445, 19.573356675737674, 12.83...             2   \n",
              "1  [19.393929070613257, 20.445223101884604, 10.96...             2   \n",
              "2  [16.765251823931877, 16.32315254212644, 11.834...             2   \n",
              "\n",
              "   pred_idx_euc  \n",
              "0             2  \n",
              "1             2  \n",
              "2             2  "
            ],
            "text/html": [
              "\n",
              "  <div id=\"df-9824aa72-297b-44dd-92ed-bcc43dce97e4\">\n",
              "    <div class=\"colab-df-container\">\n",
              "      <div>\n",
              "<style scoped>\n",
              "    .dataframe tbody tr th:only-of-type {\n",
              "        vertical-align: middle;\n",
              "    }\n",
              "\n",
              "    .dataframe tbody tr th {\n",
              "        vertical-align: top;\n",
              "    }\n",
              "\n",
              "    .dataframe thead th {\n",
              "        text-align: right;\n",
              "    }\n",
              "</style>\n",
              "<table border=\"1\" class=\"dataframe\">\n",
              "  <thead>\n",
              "    <tr style=\"text-align: right;\">\n",
              "      <th></th>\n",
              "      <th>text</th>\n",
              "      <th>question</th>\n",
              "      <th>answer</th>\n",
              "      <th>answer_start</th>\n",
              "      <th>sentences</th>\n",
              "      <th>target</th>\n",
              "      <th>sent_emb</th>\n",
              "      <th>quest_emb</th>\n",
              "      <th>cosine_sim</th>\n",
              "      <th>euclidean_dis</th>\n",
              "      <th>pred_idx_cos</th>\n",
              "      <th>pred_idx_euc</th>\n",
              "    </tr>\n",
              "  </thead>\n",
              "  <tbody>\n",
              "    <tr>\n",
              "      <th>0</th>\n",
              "      <td>Los Angeles is a sprawling Southern California...</td>\n",
              "      <td>In which state is Los Angeles?</td>\n",
              "      <td>California</td>\n",
              "      <td>36</td>\n",
              "      <td>[Los Angeles is a sprawling Southern Californi...</td>\n",
              "      <td>0</td>\n",
              "      <td>[[0.12785082, 0.23619145, 0.12586468, -0.00088...</td>\n",
              "      <td>[[0.06884657, 0.087404236, 0.12076794, -0.0216...</td>\n",
              "      <td>[0.35271120071411133, 0.4922119379043579, 0]</td>\n",
              "      <td>[14.929879565052445, 19.573356675737674, 12.83...</td>\n",
              "      <td>2</td>\n",
              "      <td>2</td>\n",
              "    </tr>\n",
              "    <tr>\n",
              "      <th>1</th>\n",
              "      <td>Los Angeles is a sprawling Southern California...</td>\n",
              "      <td>What more can be told about the city?</td>\n",
              "      <td>TCL Chinese Theatre displays celebrities’ hand...</td>\n",
              "      <td>266</td>\n",
              "      <td>[Los Angeles is a sprawling Southern Californi...</td>\n",
              "      <td>2</td>\n",
              "      <td>[[0.12785082, 0.23619145, 0.12586468, -0.00088...</td>\n",
              "      <td>[[0.0794738, 0.07783784, 0.073144525, 0.018132...</td>\n",
              "      <td>[0.48899638652801514, 0.5336130857467651, 0]</td>\n",
              "      <td>[19.393929070613257, 20.445223101884604, 10.96...</td>\n",
              "      <td>2</td>\n",
              "      <td>2</td>\n",
              "    </tr>\n",
              "    <tr>\n",
              "      <th>2</th>\n",
              "      <td>Los Angeles is a sprawling Southern California...</td>\n",
              "      <td>What are some iconic thing about the city?</td>\n",
              "      <td>Paramount Pictures, Universal and Warner Brothers</td>\n",
              "      <td>161</td>\n",
              "      <td>[Los Angeles is a sprawling Southern Californi...</td>\n",
              "      <td>1</td>\n",
              "      <td>[[0.12785082, 0.23619145, 0.12586468, -0.00088...</td>\n",
              "      <td>[[0.08044811, 0.06524622, 0.121971734, 0.00339...</td>\n",
              "      <td>[0.40747690200805664, 0.4056297540664673, 0]</td>\n",
              "      <td>[16.765251823931877, 16.32315254212644, 11.834...</td>\n",
              "      <td>2</td>\n",
              "      <td>2</td>\n",
              "    </tr>\n",
              "  </tbody>\n",
              "</table>\n",
              "</div>\n",
              "      <button class=\"colab-df-convert\" onclick=\"convertToInteractive('df-9824aa72-297b-44dd-92ed-bcc43dce97e4')\"\n",
              "              title=\"Convert this dataframe to an interactive table.\"\n",
              "              style=\"display:none;\">\n",
              "        \n",
              "  <svg xmlns=\"http://www.w3.org/2000/svg\" height=\"24px\"viewBox=\"0 0 24 24\"\n",
              "       width=\"24px\">\n",
              "    <path d=\"M0 0h24v24H0V0z\" fill=\"none\"/>\n",
              "    <path d=\"M18.56 5.44l.94 2.06.94-2.06 2.06-.94-2.06-.94-.94-2.06-.94 2.06-2.06.94zm-11 1L8.5 8.5l.94-2.06 2.06-.94-2.06-.94L8.5 2.5l-.94 2.06-2.06.94zm10 10l.94 2.06.94-2.06 2.06-.94-2.06-.94-.94-2.06-.94 2.06-2.06.94z\"/><path d=\"M17.41 7.96l-1.37-1.37c-.4-.4-.92-.59-1.43-.59-.52 0-1.04.2-1.43.59L10.3 9.45l-7.72 7.72c-.78.78-.78 2.05 0 2.83L4 21.41c.39.39.9.59 1.41.59.51 0 1.02-.2 1.41-.59l7.78-7.78 2.81-2.81c.8-.78.8-2.07 0-2.86zM5.41 20L4 18.59l7.72-7.72 1.47 1.35L5.41 20z\"/>\n",
              "  </svg>\n",
              "      </button>\n",
              "      \n",
              "  <style>\n",
              "    .colab-df-container {\n",
              "      display:flex;\n",
              "      flex-wrap:wrap;\n",
              "      gap: 12px;\n",
              "    }\n",
              "\n",
              "    .colab-df-convert {\n",
              "      background-color: #E8F0FE;\n",
              "      border: none;\n",
              "      border-radius: 50%;\n",
              "      cursor: pointer;\n",
              "      display: none;\n",
              "      fill: #1967D2;\n",
              "      height: 32px;\n",
              "      padding: 0 0 0 0;\n",
              "      width: 32px;\n",
              "    }\n",
              "\n",
              "    .colab-df-convert:hover {\n",
              "      background-color: #E2EBFA;\n",
              "      box-shadow: 0px 1px 2px rgba(60, 64, 67, 0.3), 0px 1px 3px 1px rgba(60, 64, 67, 0.15);\n",
              "      fill: #174EA6;\n",
              "    }\n",
              "\n",
              "    [theme=dark] .colab-df-convert {\n",
              "      background-color: #3B4455;\n",
              "      fill: #D2E3FC;\n",
              "    }\n",
              "\n",
              "    [theme=dark] .colab-df-convert:hover {\n",
              "      background-color: #434B5C;\n",
              "      box-shadow: 0px 1px 3px 1px rgba(0, 0, 0, 0.15);\n",
              "      filter: drop-shadow(0px 1px 2px rgba(0, 0, 0, 0.3));\n",
              "      fill: #FFFFFF;\n",
              "    }\n",
              "  </style>\n",
              "\n",
              "      <script>\n",
              "        const buttonEl =\n",
              "          document.querySelector('#df-9824aa72-297b-44dd-92ed-bcc43dce97e4 button.colab-df-convert');\n",
              "        buttonEl.style.display =\n",
              "          google.colab.kernel.accessAllowed ? 'block' : 'none';\n",
              "\n",
              "        async function convertToInteractive(key) {\n",
              "          const element = document.querySelector('#df-9824aa72-297b-44dd-92ed-bcc43dce97e4');\n",
              "          const dataTable =\n",
              "            await google.colab.kernel.invokeFunction('convertToInteractive',\n",
              "                                                     [key], {});\n",
              "          if (!dataTable) return;\n",
              "\n",
              "          const docLinkHtml = 'Like what you see? Visit the ' +\n",
              "            '<a target=\"_blank\" href=https://colab.research.google.com/notebooks/data_table.ipynb>data table notebook</a>'\n",
              "            + ' to learn more about interactive tables.';\n",
              "          element.innerHTML = '';\n",
              "          dataTable['output_type'] = 'display_data';\n",
              "          await google.colab.output.renderOutput(dataTable, element);\n",
              "          const docLink = document.createElement('div');\n",
              "          docLink.innerHTML = docLinkHtml;\n",
              "          element.appendChild(docLink);\n",
              "        }\n",
              "      </script>\n",
              "    </div>\n",
              "  </div>\n",
              "  "
            ]
          },
          "metadata": {},
          "execution_count": 61
        }
      ]
    },
    {
      "cell_type": "code",
      "source": [
        "predicted[\"cosine_sim\"][0]"
      ],
      "metadata": {
        "colab": {
          "base_uri": "https://localhost:8080/"
        },
        "id": "OL4lMKToaQEa",
        "outputId": "278484c5-cfd1-4152-d983-58b9590cb00d"
      },
      "execution_count": 62,
      "outputs": [
        {
          "output_type": "execute_result",
          "data": {
            "text/plain": [
              "[0.35271120071411133, 0.4922119379043579, 0]"
            ]
          },
          "metadata": {},
          "execution_count": 62
        }
      ]
    },
    {
      "cell_type": "code",
      "source": [
        "predicted[\"euclidean_dis\"][0]"
      ],
      "metadata": {
        "colab": {
          "base_uri": "https://localhost:8080/"
        },
        "id": "9AwfX6EmaXBf",
        "outputId": "119b3806-b690-482e-9023-93550a37e547"
      },
      "execution_count": 63,
      "outputs": [
        {
          "output_type": "execute_result",
          "data": {
            "text/plain": [
              "[14.929879565052445, 19.573356675737674, 12.833425665780116]"
            ]
          },
          "metadata": {},
          "execution_count": 63
        }
      ]
    },
    {
      "cell_type": "markdown",
      "source": [
        "Accuracy"
      ],
      "metadata": {
        "id": "pre_RM2cackr"
      }
    },
    {
      "cell_type": "code",
      "source": [
        "def accuracy(target, predicted):\n",
        "    \n",
        "    acc = (target==predicted).sum()/len(target)\n",
        "    \n",
        "    return acc"
      ],
      "metadata": {
        "id": "_DmYGH4zadTS"
      },
      "execution_count": 64,
      "outputs": []
    },
    {
      "cell_type": "markdown",
      "source": [
        "Accuracy for euclidean Distance"
      ],
      "metadata": {
        "id": "1FwqVXZPaigm"
      }
    },
    {
      "cell_type": "code",
      "source": [
        "print(accuracy(predicted[\"target\"], predicted[\"pred_idx_euc\"]))"
      ],
      "metadata": {
        "colab": {
          "base_uri": "https://localhost:8080/"
        },
        "id": "Ik7tAAkdah2q",
        "outputId": "fc82ff9d-5d84-4276-cf08-7a75021a222f"
      },
      "execution_count": 65,
      "outputs": [
        {
          "output_type": "stream",
          "name": "stdout",
          "text": [
            "0.3278236914600551\n"
          ]
        }
      ]
    },
    {
      "cell_type": "markdown",
      "source": [
        "Accuracy for Cosine Similarity"
      ],
      "metadata": {
        "id": "Vt0KTlZdaoYf"
      }
    },
    {
      "cell_type": "code",
      "source": [
        "print(accuracy(predicted[\"target\"], predicted[\"pred_idx_cos\"]))"
      ],
      "metadata": {
        "colab": {
          "base_uri": "https://localhost:8080/"
        },
        "id": "ZyDmdzDCaffZ",
        "outputId": "ebee6e43-a1c2-42da-83d8-a6b123675ffd"
      },
      "execution_count": 66,
      "outputs": [
        {
          "output_type": "stream",
          "name": "stdout",
          "text": [
            "0.3774104683195592\n"
          ]
        }
      ]
    },
    {
      "cell_type": "code",
      "source": [],
      "metadata": {
        "id": "YA9j6IkFasK8"
      },
      "execution_count": null,
      "outputs": []
    }
  ]
}