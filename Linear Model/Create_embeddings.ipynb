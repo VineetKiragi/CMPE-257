{
  "nbformat": 4,
  "nbformat_minor": 0,
  "metadata": {
    "colab": {
      "provenance": []
    },
    "kernelspec": {
      "name": "python3",
      "display_name": "Python 3"
    },
    "language_info": {
      "name": "python"
    }
  },
  "cells": [
    {
      "cell_type": "code",
      "execution_count": 1,
      "metadata": {
        "id": "1jPCDmzPDVUm"
      },
      "outputs": [],
      "source": [
        "import warnings\n",
        "warnings.filterwarnings('ignore')\n",
        "import pickle\n",
        "import numpy as np\n",
        "import pandas as pd\n",
        "import json\n",
        "from textblob import TextBlob\n",
        "import nltk\n",
        "from scipy import spatial\n",
        "import torch\n",
        "import spacy\n",
        "#en_nlp = spacy.load('en')"
      ]
    },
    {
      "cell_type": "markdown",
      "source": [
        "Convert Json to Pandas Dataframe\n"
      ],
      "metadata": {
        "id": "qJOd0z12LSNt"
      }
    },
    {
      "cell_type": "code",
      "source": [
        "data= pd.read_json(\"merged_file.json\")"
      ],
      "metadata": {
        "id": "XaXIka4xDZA5"
      },
      "execution_count": 2,
      "outputs": []
    },
    {
      "cell_type": "code",
      "source": [
        "data.head"
      ],
      "metadata": {
        "colab": {
          "base_uri": "https://localhost:8080/"
        },
        "id": "l_6Gu_TzME5V",
        "outputId": "49dc020b-7bef-4d83-9873-cdc62c57293f"
      },
      "execution_count": 3,
      "outputs": [
        {
          "output_type": "execute_result",
          "data": {
            "text/plain": [
              "<bound method NDFrame.head of                                                   data\n",
              "0    {'paragraphs': [{'qas': [{'question': 'In whic...\n",
              "1    {'paragraphs': [{'qas': [{'question': 'What ar...\n",
              "2    {'paragraphs': [{'qas': [{'question': 'What ar...\n",
              "3    {'paragraphs': [{'qas': [{'question': 'In whic...\n",
              "4    {'paragraphs': [{'qas': [{'question': 'What ar...\n",
              "..                                                 ...\n",
              "146  {'paragraphs': [{'qas': [{'question': 'Where i...\n",
              "147  {'paragraphs': [{'qas': [{'question': 'Where i...\n",
              "148  {'paragraphs': [{'qas': [{'question': 'Where i...\n",
              "149  {'paragraphs': [{'qas': [{'question': 'Where i...\n",
              "150  {'paragraphs': [{'qas': [{'question': 'Where i...\n",
              "\n",
              "[151 rows x 1 columns]>"
            ]
          },
          "metadata": {},
          "execution_count": 3
        }
      ]
    },
    {
      "cell_type": "code",
      "source": [
        "train=data[:100]\n",
        "valid=data[100:150]"
      ],
      "metadata": {
        "id": "dVf5jklYLYWU"
      },
      "execution_count": 4,
      "outputs": []
    },
    {
      "cell_type": "code",
      "source": [
        "cols = [\"text\",\"question\",\"answer\",\"answer_start\"]\n",
        "comp_list = []\n",
        "for index, row in train.iterrows():\n",
        "    for i in range(len(row[\"data\"]['paragraphs'])):\n",
        "      for j in range(len(row[\"data\"]['paragraphs'][i]['qas'])):\n",
        "        temp_list = []\n",
        "        temp_list.append(row[\"data\"]['paragraphs'][i]['context'])\n",
        "        temp_list.append(row[\"data\"]['paragraphs'][i]['qas'][j]['question'])\n",
        "        if row[\"data\"]['paragraphs'][i]['qas'][j]['is_impossible']==False:\n",
        "          temp_list.append(row[\"data\"]['paragraphs'][i]['qas'][j]['answers'][0]['text'])\n",
        "          temp_list.append(row[\"data\"]['paragraphs'][i]['qas'][j]['answers'][0]['answer_start'])\n",
        "        comp_list.append(temp_list)\n",
        "new_df = pd.DataFrame(comp_list, columns = cols) \n",
        "new_df"
      ],
      "metadata": {
        "colab": {
          "base_uri": "https://localhost:8080/",
          "height": 641
        },
        "id": "d45xIM3TLivX",
        "outputId": "ab6cc093-a9e7-4fbe-9349-21948cb01c7f"
      },
      "execution_count": 5,
      "outputs": [
        {
          "output_type": "execute_result",
          "data": {
            "text/plain": [
              "                                                  text  \\\n",
              "0    Los Angeles is a sprawling Southern California...   \n",
              "1    Los Angeles is a sprawling Southern California...   \n",
              "2    Los Angeles is a sprawling Southern California...   \n",
              "3    New York City comprises 5 boroughs sitting whe...   \n",
              "4    New York City comprises 5 boroughs sitting whe...   \n",
              "..                                                 ...   \n",
              "368  Boise is the capital city of Idaho. The Boise ...   \n",
              "369  Fremont is a city in California's San Francisc...   \n",
              "370  Fremont is a city in California's San Francisc...   \n",
              "371  Fremont is a city in California's San Francisc...   \n",
              "372  Fremont is a city in California's San Francisc...   \n",
              "\n",
              "                                              question  \\\n",
              "0                       In which state is Los Angeles?   \n",
              "1                What more can be told about the city?   \n",
              "2           What are some iconic thing about the city?   \n",
              "3           What are some iconic thing about the city?   \n",
              "4        What could be said the geography of the city?   \n",
              "..                                                 ...   \n",
              "368  What are some of the famous attractions in Boi...   \n",
              "369                        Which state is the city in?   \n",
              "370                       Where is the city located?\\n   \n",
              "371                                  What is the city?   \n",
              "372                      What is the city known for?\\n   \n",
              "\n",
              "                                                answer  answer_start  \n",
              "0                                           California          36.0  \n",
              "1    TCL Chinese Theatre displays celebrities’ hand...         266.0  \n",
              "2    Paramount Pictures, Universal and Warner Brothers         161.0  \n",
              "3     Empire State Building and sprawling Central Park         269.0  \n",
              "4    comprises 5 boroughs sitting where the Hudson ...          14.0  \n",
              "..                                                 ...           ...  \n",
              "368  In an art deco building, downtown�s Boise Art ...         132.0  \n",
              "369                                         California          21.0  \n",
              "370                California's San Francisco Bay Area          21.0  \n",
              "371                                           Fremont            0.0  \n",
              "372  The Niles Essanay Silent Film Museum traces th...          58.0  \n",
              "\n",
              "[373 rows x 4 columns]"
            ],
            "text/html": [
              "\n",
              "  <div id=\"df-681e51db-d7be-415e-a9c1-2d9e094c705a\">\n",
              "    <div class=\"colab-df-container\">\n",
              "      <div>\n",
              "<style scoped>\n",
              "    .dataframe tbody tr th:only-of-type {\n",
              "        vertical-align: middle;\n",
              "    }\n",
              "\n",
              "    .dataframe tbody tr th {\n",
              "        vertical-align: top;\n",
              "    }\n",
              "\n",
              "    .dataframe thead th {\n",
              "        text-align: right;\n",
              "    }\n",
              "</style>\n",
              "<table border=\"1\" class=\"dataframe\">\n",
              "  <thead>\n",
              "    <tr style=\"text-align: right;\">\n",
              "      <th></th>\n",
              "      <th>text</th>\n",
              "      <th>question</th>\n",
              "      <th>answer</th>\n",
              "      <th>answer_start</th>\n",
              "    </tr>\n",
              "  </thead>\n",
              "  <tbody>\n",
              "    <tr>\n",
              "      <th>0</th>\n",
              "      <td>Los Angeles is a sprawling Southern California...</td>\n",
              "      <td>In which state is Los Angeles?</td>\n",
              "      <td>California</td>\n",
              "      <td>36.0</td>\n",
              "    </tr>\n",
              "    <tr>\n",
              "      <th>1</th>\n",
              "      <td>Los Angeles is a sprawling Southern California...</td>\n",
              "      <td>What more can be told about the city?</td>\n",
              "      <td>TCL Chinese Theatre displays celebrities’ hand...</td>\n",
              "      <td>266.0</td>\n",
              "    </tr>\n",
              "    <tr>\n",
              "      <th>2</th>\n",
              "      <td>Los Angeles is a sprawling Southern California...</td>\n",
              "      <td>What are some iconic thing about the city?</td>\n",
              "      <td>Paramount Pictures, Universal and Warner Brothers</td>\n",
              "      <td>161.0</td>\n",
              "    </tr>\n",
              "    <tr>\n",
              "      <th>3</th>\n",
              "      <td>New York City comprises 5 boroughs sitting whe...</td>\n",
              "      <td>What are some iconic thing about the city?</td>\n",
              "      <td>Empire State Building and sprawling Central Park</td>\n",
              "      <td>269.0</td>\n",
              "    </tr>\n",
              "    <tr>\n",
              "      <th>4</th>\n",
              "      <td>New York City comprises 5 boroughs sitting whe...</td>\n",
              "      <td>What could be said the geography of the city?</td>\n",
              "      <td>comprises 5 boroughs sitting where the Hudson ...</td>\n",
              "      <td>14.0</td>\n",
              "    </tr>\n",
              "    <tr>\n",
              "      <th>...</th>\n",
              "      <td>...</td>\n",
              "      <td>...</td>\n",
              "      <td>...</td>\n",
              "      <td>...</td>\n",
              "    </tr>\n",
              "    <tr>\n",
              "      <th>368</th>\n",
              "      <td>Boise is the capital city of Idaho. The Boise ...</td>\n",
              "      <td>What are some of the famous attractions in Boi...</td>\n",
              "      <td>In an art deco building, downtown�s Boise Art ...</td>\n",
              "      <td>132.0</td>\n",
              "    </tr>\n",
              "    <tr>\n",
              "      <th>369</th>\n",
              "      <td>Fremont is a city in California's San Francisc...</td>\n",
              "      <td>Which state is the city in?</td>\n",
              "      <td>California</td>\n",
              "      <td>21.0</td>\n",
              "    </tr>\n",
              "    <tr>\n",
              "      <th>370</th>\n",
              "      <td>Fremont is a city in California's San Francisc...</td>\n",
              "      <td>Where is the city located?\\n</td>\n",
              "      <td>California's San Francisco Bay Area</td>\n",
              "      <td>21.0</td>\n",
              "    </tr>\n",
              "    <tr>\n",
              "      <th>371</th>\n",
              "      <td>Fremont is a city in California's San Francisc...</td>\n",
              "      <td>What is the city?</td>\n",
              "      <td>Fremont</td>\n",
              "      <td>0.0</td>\n",
              "    </tr>\n",
              "    <tr>\n",
              "      <th>372</th>\n",
              "      <td>Fremont is a city in California's San Francisc...</td>\n",
              "      <td>What is the city known for?\\n</td>\n",
              "      <td>The Niles Essanay Silent Film Museum traces th...</td>\n",
              "      <td>58.0</td>\n",
              "    </tr>\n",
              "  </tbody>\n",
              "</table>\n",
              "<p>373 rows × 4 columns</p>\n",
              "</div>\n",
              "      <button class=\"colab-df-convert\" onclick=\"convertToInteractive('df-681e51db-d7be-415e-a9c1-2d9e094c705a')\"\n",
              "              title=\"Convert this dataframe to an interactive table.\"\n",
              "              style=\"display:none;\">\n",
              "        \n",
              "  <svg xmlns=\"http://www.w3.org/2000/svg\" height=\"24px\"viewBox=\"0 0 24 24\"\n",
              "       width=\"24px\">\n",
              "    <path d=\"M0 0h24v24H0V0z\" fill=\"none\"/>\n",
              "    <path d=\"M18.56 5.44l.94 2.06.94-2.06 2.06-.94-2.06-.94-.94-2.06-.94 2.06-2.06.94zm-11 1L8.5 8.5l.94-2.06 2.06-.94-2.06-.94L8.5 2.5l-.94 2.06-2.06.94zm10 10l.94 2.06.94-2.06 2.06-.94-2.06-.94-.94-2.06-.94 2.06-2.06.94z\"/><path d=\"M17.41 7.96l-1.37-1.37c-.4-.4-.92-.59-1.43-.59-.52 0-1.04.2-1.43.59L10.3 9.45l-7.72 7.72c-.78.78-.78 2.05 0 2.83L4 21.41c.39.39.9.59 1.41.59.51 0 1.02-.2 1.41-.59l7.78-7.78 2.81-2.81c.8-.78.8-2.07 0-2.86zM5.41 20L4 18.59l7.72-7.72 1.47 1.35L5.41 20z\"/>\n",
              "  </svg>\n",
              "      </button>\n",
              "      \n",
              "  <style>\n",
              "    .colab-df-container {\n",
              "      display:flex;\n",
              "      flex-wrap:wrap;\n",
              "      gap: 12px;\n",
              "    }\n",
              "\n",
              "    .colab-df-convert {\n",
              "      background-color: #E8F0FE;\n",
              "      border: none;\n",
              "      border-radius: 50%;\n",
              "      cursor: pointer;\n",
              "      display: none;\n",
              "      fill: #1967D2;\n",
              "      height: 32px;\n",
              "      padding: 0 0 0 0;\n",
              "      width: 32px;\n",
              "    }\n",
              "\n",
              "    .colab-df-convert:hover {\n",
              "      background-color: #E2EBFA;\n",
              "      box-shadow: 0px 1px 2px rgba(60, 64, 67, 0.3), 0px 1px 3px 1px rgba(60, 64, 67, 0.15);\n",
              "      fill: #174EA6;\n",
              "    }\n",
              "\n",
              "    [theme=dark] .colab-df-convert {\n",
              "      background-color: #3B4455;\n",
              "      fill: #D2E3FC;\n",
              "    }\n",
              "\n",
              "    [theme=dark] .colab-df-convert:hover {\n",
              "      background-color: #434B5C;\n",
              "      box-shadow: 0px 1px 3px 1px rgba(0, 0, 0, 0.15);\n",
              "      filter: drop-shadow(0px 1px 2px rgba(0, 0, 0, 0.3));\n",
              "      fill: #FFFFFF;\n",
              "    }\n",
              "  </style>\n",
              "\n",
              "      <script>\n",
              "        const buttonEl =\n",
              "          document.querySelector('#df-681e51db-d7be-415e-a9c1-2d9e094c705a button.colab-df-convert');\n",
              "        buttonEl.style.display =\n",
              "          google.colab.kernel.accessAllowed ? 'block' : 'none';\n",
              "\n",
              "        async function convertToInteractive(key) {\n",
              "          const element = document.querySelector('#df-681e51db-d7be-415e-a9c1-2d9e094c705a');\n",
              "          const dataTable =\n",
              "            await google.colab.kernel.invokeFunction('convertToInteractive',\n",
              "                                                     [key], {});\n",
              "          if (!dataTable) return;\n",
              "\n",
              "          const docLinkHtml = 'Like what you see? Visit the ' +\n",
              "            '<a target=\"_blank\" href=https://colab.research.google.com/notebooks/data_table.ipynb>data table notebook</a>'\n",
              "            + ' to learn more about interactive tables.';\n",
              "          element.innerHTML = '';\n",
              "          dataTable['output_type'] = 'display_data';\n",
              "          await google.colab.output.renderOutput(dataTable, element);\n",
              "          const docLink = document.createElement('div');\n",
              "          docLink.innerHTML = docLinkHtml;\n",
              "          element.appendChild(docLink);\n",
              "        }\n",
              "      </script>\n",
              "    </div>\n",
              "  </div>\n",
              "  "
            ]
          },
          "metadata": {},
          "execution_count": 5
        }
      ]
    },
    {
      "cell_type": "code",
      "source": [
        "new_df.dropna(inplace=True)"
      ],
      "metadata": {
        "id": "QkWa5CZxMA2L"
      },
      "execution_count": 6,
      "outputs": []
    },
    {
      "cell_type": "code",
      "source": [
        "new_df['answer_start'] = new_df['answer_start'].astype('int')"
      ],
      "metadata": {
        "id": "g5wDRUGVNhpq"
      },
      "execution_count": 7,
      "outputs": []
    },
    {
      "cell_type": "code",
      "source": [
        "new_df"
      ],
      "metadata": {
        "colab": {
          "base_uri": "https://localhost:8080/",
          "height": 641
        },
        "id": "wk1Qqj00Nm4l",
        "outputId": "28bfc936-b9d6-4018-c3ac-3b4ff0108148"
      },
      "execution_count": 8,
      "outputs": [
        {
          "output_type": "execute_result",
          "data": {
            "text/plain": [
              "                                                  text  \\\n",
              "0    Los Angeles is a sprawling Southern California...   \n",
              "1    Los Angeles is a sprawling Southern California...   \n",
              "2    Los Angeles is a sprawling Southern California...   \n",
              "3    New York City comprises 5 boroughs sitting whe...   \n",
              "4    New York City comprises 5 boroughs sitting whe...   \n",
              "..                                                 ...   \n",
              "368  Boise is the capital city of Idaho. The Boise ...   \n",
              "369  Fremont is a city in California's San Francisc...   \n",
              "370  Fremont is a city in California's San Francisc...   \n",
              "371  Fremont is a city in California's San Francisc...   \n",
              "372  Fremont is a city in California's San Francisc...   \n",
              "\n",
              "                                              question  \\\n",
              "0                       In which state is Los Angeles?   \n",
              "1                What more can be told about the city?   \n",
              "2           What are some iconic thing about the city?   \n",
              "3           What are some iconic thing about the city?   \n",
              "4        What could be said the geography of the city?   \n",
              "..                                                 ...   \n",
              "368  What are some of the famous attractions in Boi...   \n",
              "369                        Which state is the city in?   \n",
              "370                       Where is the city located?\\n   \n",
              "371                                  What is the city?   \n",
              "372                      What is the city known for?\\n   \n",
              "\n",
              "                                                answer  answer_start  \n",
              "0                                           California            36  \n",
              "1    TCL Chinese Theatre displays celebrities’ hand...           266  \n",
              "2    Paramount Pictures, Universal and Warner Brothers           161  \n",
              "3     Empire State Building and sprawling Central Park           269  \n",
              "4    comprises 5 boroughs sitting where the Hudson ...            14  \n",
              "..                                                 ...           ...  \n",
              "368  In an art deco building, downtown�s Boise Art ...           132  \n",
              "369                                         California            21  \n",
              "370                California's San Francisco Bay Area            21  \n",
              "371                                           Fremont              0  \n",
              "372  The Niles Essanay Silent Film Museum traces th...            58  \n",
              "\n",
              "[363 rows x 4 columns]"
            ],
            "text/html": [
              "\n",
              "  <div id=\"df-a10c1bd2-144e-4103-ab41-b2044990305c\">\n",
              "    <div class=\"colab-df-container\">\n",
              "      <div>\n",
              "<style scoped>\n",
              "    .dataframe tbody tr th:only-of-type {\n",
              "        vertical-align: middle;\n",
              "    }\n",
              "\n",
              "    .dataframe tbody tr th {\n",
              "        vertical-align: top;\n",
              "    }\n",
              "\n",
              "    .dataframe thead th {\n",
              "        text-align: right;\n",
              "    }\n",
              "</style>\n",
              "<table border=\"1\" class=\"dataframe\">\n",
              "  <thead>\n",
              "    <tr style=\"text-align: right;\">\n",
              "      <th></th>\n",
              "      <th>text</th>\n",
              "      <th>question</th>\n",
              "      <th>answer</th>\n",
              "      <th>answer_start</th>\n",
              "    </tr>\n",
              "  </thead>\n",
              "  <tbody>\n",
              "    <tr>\n",
              "      <th>0</th>\n",
              "      <td>Los Angeles is a sprawling Southern California...</td>\n",
              "      <td>In which state is Los Angeles?</td>\n",
              "      <td>California</td>\n",
              "      <td>36</td>\n",
              "    </tr>\n",
              "    <tr>\n",
              "      <th>1</th>\n",
              "      <td>Los Angeles is a sprawling Southern California...</td>\n",
              "      <td>What more can be told about the city?</td>\n",
              "      <td>TCL Chinese Theatre displays celebrities’ hand...</td>\n",
              "      <td>266</td>\n",
              "    </tr>\n",
              "    <tr>\n",
              "      <th>2</th>\n",
              "      <td>Los Angeles is a sprawling Southern California...</td>\n",
              "      <td>What are some iconic thing about the city?</td>\n",
              "      <td>Paramount Pictures, Universal and Warner Brothers</td>\n",
              "      <td>161</td>\n",
              "    </tr>\n",
              "    <tr>\n",
              "      <th>3</th>\n",
              "      <td>New York City comprises 5 boroughs sitting whe...</td>\n",
              "      <td>What are some iconic thing about the city?</td>\n",
              "      <td>Empire State Building and sprawling Central Park</td>\n",
              "      <td>269</td>\n",
              "    </tr>\n",
              "    <tr>\n",
              "      <th>4</th>\n",
              "      <td>New York City comprises 5 boroughs sitting whe...</td>\n",
              "      <td>What could be said the geography of the city?</td>\n",
              "      <td>comprises 5 boroughs sitting where the Hudson ...</td>\n",
              "      <td>14</td>\n",
              "    </tr>\n",
              "    <tr>\n",
              "      <th>...</th>\n",
              "      <td>...</td>\n",
              "      <td>...</td>\n",
              "      <td>...</td>\n",
              "      <td>...</td>\n",
              "    </tr>\n",
              "    <tr>\n",
              "      <th>368</th>\n",
              "      <td>Boise is the capital city of Idaho. The Boise ...</td>\n",
              "      <td>What are some of the famous attractions in Boi...</td>\n",
              "      <td>In an art deco building, downtown�s Boise Art ...</td>\n",
              "      <td>132</td>\n",
              "    </tr>\n",
              "    <tr>\n",
              "      <th>369</th>\n",
              "      <td>Fremont is a city in California's San Francisc...</td>\n",
              "      <td>Which state is the city in?</td>\n",
              "      <td>California</td>\n",
              "      <td>21</td>\n",
              "    </tr>\n",
              "    <tr>\n",
              "      <th>370</th>\n",
              "      <td>Fremont is a city in California's San Francisc...</td>\n",
              "      <td>Where is the city located?\\n</td>\n",
              "      <td>California's San Francisco Bay Area</td>\n",
              "      <td>21</td>\n",
              "    </tr>\n",
              "    <tr>\n",
              "      <th>371</th>\n",
              "      <td>Fremont is a city in California's San Francisc...</td>\n",
              "      <td>What is the city?</td>\n",
              "      <td>Fremont</td>\n",
              "      <td>0</td>\n",
              "    </tr>\n",
              "    <tr>\n",
              "      <th>372</th>\n",
              "      <td>Fremont is a city in California's San Francisc...</td>\n",
              "      <td>What is the city known for?\\n</td>\n",
              "      <td>The Niles Essanay Silent Film Museum traces th...</td>\n",
              "      <td>58</td>\n",
              "    </tr>\n",
              "  </tbody>\n",
              "</table>\n",
              "<p>363 rows × 4 columns</p>\n",
              "</div>\n",
              "      <button class=\"colab-df-convert\" onclick=\"convertToInteractive('df-a10c1bd2-144e-4103-ab41-b2044990305c')\"\n",
              "              title=\"Convert this dataframe to an interactive table.\"\n",
              "              style=\"display:none;\">\n",
              "        \n",
              "  <svg xmlns=\"http://www.w3.org/2000/svg\" height=\"24px\"viewBox=\"0 0 24 24\"\n",
              "       width=\"24px\">\n",
              "    <path d=\"M0 0h24v24H0V0z\" fill=\"none\"/>\n",
              "    <path d=\"M18.56 5.44l.94 2.06.94-2.06 2.06-.94-2.06-.94-.94-2.06-.94 2.06-2.06.94zm-11 1L8.5 8.5l.94-2.06 2.06-.94-2.06-.94L8.5 2.5l-.94 2.06-2.06.94zm10 10l.94 2.06.94-2.06 2.06-.94-2.06-.94-.94-2.06-.94 2.06-2.06.94z\"/><path d=\"M17.41 7.96l-1.37-1.37c-.4-.4-.92-.59-1.43-.59-.52 0-1.04.2-1.43.59L10.3 9.45l-7.72 7.72c-.78.78-.78 2.05 0 2.83L4 21.41c.39.39.9.59 1.41.59.51 0 1.02-.2 1.41-.59l7.78-7.78 2.81-2.81c.8-.78.8-2.07 0-2.86zM5.41 20L4 18.59l7.72-7.72 1.47 1.35L5.41 20z\"/>\n",
              "  </svg>\n",
              "      </button>\n",
              "      \n",
              "  <style>\n",
              "    .colab-df-container {\n",
              "      display:flex;\n",
              "      flex-wrap:wrap;\n",
              "      gap: 12px;\n",
              "    }\n",
              "\n",
              "    .colab-df-convert {\n",
              "      background-color: #E8F0FE;\n",
              "      border: none;\n",
              "      border-radius: 50%;\n",
              "      cursor: pointer;\n",
              "      display: none;\n",
              "      fill: #1967D2;\n",
              "      height: 32px;\n",
              "      padding: 0 0 0 0;\n",
              "      width: 32px;\n",
              "    }\n",
              "\n",
              "    .colab-df-convert:hover {\n",
              "      background-color: #E2EBFA;\n",
              "      box-shadow: 0px 1px 2px rgba(60, 64, 67, 0.3), 0px 1px 3px 1px rgba(60, 64, 67, 0.15);\n",
              "      fill: #174EA6;\n",
              "    }\n",
              "\n",
              "    [theme=dark] .colab-df-convert {\n",
              "      background-color: #3B4455;\n",
              "      fill: #D2E3FC;\n",
              "    }\n",
              "\n",
              "    [theme=dark] .colab-df-convert:hover {\n",
              "      background-color: #434B5C;\n",
              "      box-shadow: 0px 1px 3px 1px rgba(0, 0, 0, 0.15);\n",
              "      filter: drop-shadow(0px 1px 2px rgba(0, 0, 0, 0.3));\n",
              "      fill: #FFFFFF;\n",
              "    }\n",
              "  </style>\n",
              "\n",
              "      <script>\n",
              "        const buttonEl =\n",
              "          document.querySelector('#df-a10c1bd2-144e-4103-ab41-b2044990305c button.colab-df-convert');\n",
              "        buttonEl.style.display =\n",
              "          google.colab.kernel.accessAllowed ? 'block' : 'none';\n",
              "\n",
              "        async function convertToInteractive(key) {\n",
              "          const element = document.querySelector('#df-a10c1bd2-144e-4103-ab41-b2044990305c');\n",
              "          const dataTable =\n",
              "            await google.colab.kernel.invokeFunction('convertToInteractive',\n",
              "                                                     [key], {});\n",
              "          if (!dataTable) return;\n",
              "\n",
              "          const docLinkHtml = 'Like what you see? Visit the ' +\n",
              "            '<a target=\"_blank\" href=https://colab.research.google.com/notebooks/data_table.ipynb>data table notebook</a>'\n",
              "            + ' to learn more about interactive tables.';\n",
              "          element.innerHTML = '';\n",
              "          dataTable['output_type'] = 'display_data';\n",
              "          await google.colab.output.renderOutput(dataTable, element);\n",
              "          const docLink = document.createElement('div');\n",
              "          docLink.innerHTML = docLinkHtml;\n",
              "          element.appendChild(docLink);\n",
              "        }\n",
              "      </script>\n",
              "    </div>\n",
              "  </div>\n",
              "  "
            ]
          },
          "metadata": {},
          "execution_count": 8
        }
      ]
    },
    {
      "cell_type": "code",
      "source": [
        "new_df.shape"
      ],
      "metadata": {
        "colab": {
          "base_uri": "https://localhost:8080/"
        },
        "id": "AxZGuMPlNoBR",
        "outputId": "b0c7cf6d-376f-4fb5-c43d-49ee602f8045"
      },
      "execution_count": 9,
      "outputs": [
        {
          "output_type": "execute_result",
          "data": {
            "text/plain": [
              "(363, 4)"
            ]
          },
          "metadata": {},
          "execution_count": 9
        }
      ]
    },
    {
      "cell_type": "code",
      "source": [
        "new_df.to_csv(\"data.csv\", index = None)"
      ],
      "metadata": {
        "id": "fAhRGm8eNtP9"
      },
      "execution_count": 10,
      "outputs": []
    },
    {
      "cell_type": "markdown",
      "source": [
        "Create dictionary of sentence embeddings for faster computation\n"
      ],
      "metadata": {
        "id": "lB215QLrOFt7"
      }
    },
    {
      "cell_type": "code",
      "source": [
        "paras = list(new_df[\"text\"].drop_duplicates().reset_index(drop= True))"
      ],
      "metadata": {
        "id": "egb4YbM0NzSh"
      },
      "execution_count": 11,
      "outputs": []
    },
    {
      "cell_type": "code",
      "source": [
        "len(paras)"
      ],
      "metadata": {
        "colab": {
          "base_uri": "https://localhost:8080/"
        },
        "id": "7ndHnbcTOIFo",
        "outputId": "db6fa9df-48e4-4e34-e2c9-af1e030c4faa"
      },
      "execution_count": 12,
      "outputs": [
        {
          "output_type": "execute_result",
          "data": {
            "text/plain": [
              "100"
            ]
          },
          "metadata": {},
          "execution_count": 12
        }
      ]
    },
    {
      "cell_type": "code",
      "source": [
        "!python -m textblob.download_corpora"
      ],
      "metadata": {
        "colab": {
          "base_uri": "https://localhost:8080/"
        },
        "id": "XpFXtF1xOUcy",
        "outputId": "cd0477e6-2986-4b85-849a-2baa14f15be9"
      },
      "execution_count": 13,
      "outputs": [
        {
          "output_type": "stream",
          "name": "stdout",
          "text": [
            "[nltk_data] Downloading package brown to /root/nltk_data...\n",
            "[nltk_data]   Unzipping corpora/brown.zip.\n",
            "[nltk_data] Downloading package punkt to /root/nltk_data...\n",
            "[nltk_data]   Unzipping tokenizers/punkt.zip.\n",
            "[nltk_data] Downloading package wordnet to /root/nltk_data...\n",
            "[nltk_data] Downloading package averaged_perceptron_tagger to\n",
            "[nltk_data]     /root/nltk_data...\n",
            "[nltk_data]   Unzipping taggers/averaged_perceptron_tagger.zip.\n",
            "[nltk_data] Downloading package conll2000 to /root/nltk_data...\n",
            "[nltk_data]   Unzipping corpora/conll2000.zip.\n",
            "[nltk_data] Downloading package movie_reviews to /root/nltk_data...\n",
            "[nltk_data]   Unzipping corpora/movie_reviews.zip.\n",
            "Finished.\n"
          ]
        }
      ]
    },
    {
      "cell_type": "code",
      "source": [
        "blob = TextBlob(\" \".join(paras))\n",
        "sentences = [item.raw for item in blob.sentences]"
      ],
      "metadata": {
        "id": "feMCcr4kOOoK"
      },
      "execution_count": 14,
      "outputs": []
    },
    {
      "cell_type": "code",
      "source": [
        "len(sentences)"
      ],
      "metadata": {
        "colab": {
          "base_uri": "https://localhost:8080/"
        },
        "id": "WI60QbvxOQ1Q",
        "outputId": "33dbe8ca-76d1-4c78-b98f-cda1d7716cb5"
      },
      "execution_count": 15,
      "outputs": [
        {
          "output_type": "execute_result",
          "data": {
            "text/plain": [
              "370"
            ]
          },
          "metadata": {},
          "execution_count": 15
        }
      ]
    },
    {
      "cell_type": "code",
      "source": [
        "!mkdir GloVe"
      ],
      "metadata": {
        "id": "KjyCcju9OeGR"
      },
      "execution_count": 16,
      "outputs": []
    },
    {
      "cell_type": "code",
      "source": [
        "!curl -Lo GloVe/glove.840B.300d.zip http://nlp.stanford.edu/data/glove.840B.300d.zip\n",
        "!unzip GloVe/glove.840B.300d.zip -d GloVe/"
      ],
      "metadata": {
        "colab": {
          "base_uri": "https://localhost:8080/"
        },
        "id": "0RBRrgA3Jy_z",
        "outputId": "cf3d8c1c-2ff2-4b2a-f273-f9f00da412b3"
      },
      "execution_count": 17,
      "outputs": [
        {
          "output_type": "stream",
          "name": "stdout",
          "text": [
            "  % Total    % Received % Xferd  Average Speed   Time    Time     Time  Current\n",
            "                                 Dload  Upload   Total   Spent    Left  Speed\n",
            "\r  0     0    0     0    0     0      0      0 --:--:-- --:--:-- --:--:--     0\r  0     0    0     0    0     0      0      0 --:--:-- --:--:-- --:--:--     0\r  0   315    0     0    0     0      0      0 --:--:-- --:--:-- --:--:--     0\n",
            "  0   353    0     0    0     0      0      0 --:--:-- --:--:-- --:--:--     0\n",
            "100 2075M  100 2075M    0     0  5190k      0  0:06:49  0:06:49 --:--:-- 5113k\n",
            "Archive:  GloVe/glove.840B.300d.zip\n",
            "  inflating: GloVe/glove.840B.300d.txt  \n"
          ]
        }
      ]
    },
    {
      "cell_type": "code",
      "source": [
        "!mkdir fastText"
      ],
      "metadata": {
        "id": "u_qJSByxJ3FX"
      },
      "execution_count": 25,
      "outputs": []
    },
    {
      "cell_type": "code",
      "source": [
        "!curl -Lo fastText/crawl-300d-2M.vec.zip https://dl.fbaipublicfiles.com/fasttext/vectors-english/crawl-300d-2M.vec.zip\n",
        "!unzip fastText/crawl-300d-2M.vec.zip -d fastText/"
      ],
      "metadata": {
        "colab": {
          "base_uri": "https://localhost:8080/"
        },
        "id": "plLilQDaMM8A",
        "outputId": "8ddbb809-88c8-4fe9-9827-777c55bb0da2"
      },
      "execution_count": 26,
      "outputs": [
        {
          "output_type": "stream",
          "name": "stdout",
          "text": [
            "  % Total    % Received % Xferd  Average Speed   Time    Time     Time  Current\n",
            "                                 Dload  Upload   Total   Spent    Left  Speed\n",
            "100 1453M  100 1453M    0     0  20.7M      0  0:01:10  0:01:10 --:--:-- 21.6M\n",
            "Archive:  fastText/crawl-300d-2M.vec.zip\n",
            "  inflating: fastText/crawl-300d-2M.vec  \n"
          ]
        }
      ]
    },
    {
      "cell_type": "code",
      "source": [
        "!mkdir encoder"
      ],
      "metadata": {
        "id": "0Sl98NkNMSX9"
      },
      "execution_count": null,
      "outputs": []
    },
    {
      "cell_type": "code",
      "source": [
        "!curl -Lo encoder/infersent1.pkl https://dl.fbaipublicfiles.com/infersent/infersent1.pkl\n",
        "!curl -Lo encoder/infersent2.pkl https://dl.fbaipublicfiles.com/infersent/infersent2.pkl"
      ],
      "metadata": {
        "colab": {
          "base_uri": "https://localhost:8080/"
        },
        "id": "uRH4ZY2TMsAm",
        "outputId": "930121da-cda5-47c7-e085-edc1bcd1ced5"
      },
      "execution_count": 19,
      "outputs": [
        {
          "output_type": "stream",
          "name": "stdout",
          "text": [
            "  % Total    % Received % Xferd  Average Speed   Time    Time     Time  Current\n",
            "                                 Dload  Upload   Total   Spent    Left  Speed\n",
            "100  146M  100  146M    0     0  39.9M      0  0:00:03  0:00:03 --:--:-- 39.9M\n",
            "  % Total    % Received % Xferd  Average Speed   Time    Time     Time  Current\n",
            "                                 Dload  Upload   Total   Spent    Left  Speed\n",
            "100  146M  100  146M    0     0  35.2M      0  0:00:04  0:00:04 --:--:-- 35.2M\n"
          ]
        }
      ]
    },
    {
      "cell_type": "code",
      "source": [
        "import nltk\n",
        "nltk.download('punkt')"
      ],
      "metadata": {
        "colab": {
          "base_uri": "https://localhost:8080/"
        },
        "id": "tQI_ViwsMxFb",
        "outputId": "58b9ec26-9ca9-4e26-b3f9-35beb948d3a1"
      },
      "execution_count": 20,
      "outputs": [
        {
          "output_type": "stream",
          "name": "stderr",
          "text": [
            "[nltk_data] Downloading package punkt to /root/nltk_data...\n",
            "[nltk_data]   Package punkt is already up-to-date!\n"
          ]
        },
        {
          "output_type": "execute_result",
          "data": {
            "text/plain": [
              "True"
            ]
          },
          "metadata": {},
          "execution_count": 20
        }
      ]
    },
    {
      "cell_type": "code",
      "source": [
        "from models import InferSent\n",
        "V = 2\n",
        "MODEL_PATH = '/content/encoder/infersent1.pkl'\n",
        "params_model = {'bsize': 64, 'word_emb_dim': 300, 'enc_lstm_dim': 2048,\n",
        "                'pool_type': 'max', 'dpout_model': 0.0, 'version': V}\n",
        "infersent = InferSent(params_model)\n",
        "infersent.load_state_dict(torch.load(MODEL_PATH))"
      ],
      "metadata": {
        "colab": {
          "base_uri": "https://localhost:8080/"
        },
        "id": "XZwnfP8XM18X",
        "outputId": "e58c7206-314a-4e53-d25c-9624721d128d"
      },
      "execution_count": 29,
      "outputs": [
        {
          "output_type": "execute_result",
          "data": {
            "text/plain": [
              "<All keys matched successfully>"
            ]
          },
          "metadata": {},
          "execution_count": 29
        }
      ]
    },
    {
      "cell_type": "code",
      "source": [
        "W2V_PATH = 'fastText/crawl-300d-2M.vec'\n",
        "infersent.set_w2v_path(W2V_PATH)"
      ],
      "metadata": {
        "id": "6wv5YnXqNJNZ"
      },
      "execution_count": 30,
      "outputs": []
    },
    {
      "cell_type": "code",
      "source": [
        "# import stuff\n",
        "%load_ext autoreload\n",
        "%autoreload 2\n",
        "%matplotlib inline\n",
        "\n",
        "from random import randint\n",
        "import matplotlib\n",
        "\n",
        "import numpy as np\n",
        "import torch\n",
        "\n",
        "GLOVE_PATH = '/content/GloVe/glove.840B.300d.txt'"
      ],
      "metadata": {
        "colab": {
          "base_uri": "https://localhost:8080/"
        },
        "id": "23lQOu9YQrVq",
        "outputId": "57313142-054b-491d-aa98-1ebdcc55a492"
      },
      "execution_count": 43,
      "outputs": [
        {
          "output_type": "stream",
          "name": "stdout",
          "text": [
            "The autoreload extension is already loaded. To reload it, use:\n",
            "  %reload_ext autoreload\n"
          ]
        }
      ]
    },
    {
      "cell_type": "code",
      "source": [
        "!python models.py"
      ],
      "metadata": {
        "id": "RRcwjdVxEVw_"
      },
      "execution_count": 41,
      "outputs": []
    },
    {
      "cell_type": "code",
      "source": [
        "from models import InferSent\n",
        "model_version = 1\n",
        "MODEL_PATH = \"/content/encoder/infersent1.pkl\"\n",
        "params_model = {'bsize': 64, 'word_emb_dim': 300, 'enc_lstm_dim': 2048,\n",
        "                'pool_type': 'max', 'dpout_model': 0.0, 'version': model_version}\n",
        "model = InferSent(params_model)\n",
        "model.load_state_dict(torch.load(MODEL_PATH))"
      ],
      "metadata": {
        "colab": {
          "base_uri": "https://localhost:8080/"
        },
        "id": "TePjXSwIFdi4",
        "outputId": "039aa08a-65fe-44da-f543-53dab71fbf72"
      },
      "execution_count": 58,
      "outputs": [
        {
          "output_type": "execute_result",
          "data": {
            "text/plain": [
              "<All keys matched successfully>"
            ]
          },
          "metadata": {},
          "execution_count": 58
        }
      ]
    },
    {
      "cell_type": "code",
      "source": [
        "use_cuda = False\n",
        "model = model.cuda() if use_cuda else model"
      ],
      "metadata": {
        "id": "1EJpbVlwJ3Wb"
      },
      "execution_count": 59,
      "outputs": []
    },
    {
      "cell_type": "code",
      "source": [
        "W2V_PATH = 'GloVe/glove.840B.300d.txt' if model_version == 1 else 'fastText/crawl-300d-2M.vec'\n",
        "model.set_w2v_path(W2V_PATH)"
      ],
      "metadata": {
        "id": "qoL3l612J3T0"
      },
      "execution_count": 60,
      "outputs": []
    },
    {
      "cell_type": "code",
      "source": [
        "model.build_vocab_k_words(K=100000)"
      ],
      "metadata": {
        "colab": {
          "base_uri": "https://localhost:8080/"
        },
        "id": "XhDY_CTBJ_tW",
        "outputId": "fbd02d7a-6e08-4c7a-cafb-41b705e1c4dd"
      },
      "execution_count": 61,
      "outputs": [
        {
          "output_type": "stream",
          "name": "stdout",
          "text": [
            "Vocab size : 100000\n"
          ]
        }
      ]
    },
    {
      "cell_type": "code",
      "source": [
        "dict_embeddings = {}\n",
        "for i in range(len(sentences)):\n",
        "    print(i)\n",
        "    dict_embeddings[sentences[i]] = model.encode([sentences[i]], tokenize=True)\n",
        "    #dict_embeddings[sentences[i]] = infersent.encode([sentences[i]], tokenize=True)"
      ],
      "metadata": {
        "id": "AwnLL8FfMfa7"
      },
      "execution_count": null,
      "outputs": []
    },
    {
      "cell_type": "code",
      "source": [],
      "metadata": {
        "id": "SqZJWHdyM6kK"
      },
      "execution_count": null,
      "outputs": []
    },
    {
      "cell_type": "code",
      "source": [
        "questions = list(new_df[\"question\"])"
      ],
      "metadata": {
        "id": "PYBFOOrIKanL"
      },
      "execution_count": 64,
      "outputs": []
    },
    {
      "cell_type": "code",
      "source": [
        "len(questions)"
      ],
      "metadata": {
        "colab": {
          "base_uri": "https://localhost:8080/"
        },
        "id": "mbWYifFuLU_B",
        "outputId": "c9e879d8-62cd-401c-c31b-2c31084f0c88"
      },
      "execution_count": 65,
      "outputs": [
        {
          "output_type": "execute_result",
          "data": {
            "text/plain": [
              "363"
            ]
          },
          "metadata": {},
          "execution_count": 65
        }
      ]
    },
    {
      "cell_type": "code",
      "source": [
        "for i in range(len(questions)):\n",
        "    print(i)\n",
        "    dict_embeddings[questions[i]] = model.encode([questions[i]], tokenize=True)"
      ],
      "metadata": {
        "colab": {
          "base_uri": "https://localhost:8080/"
        },
        "id": "71v6FBKlLYcT",
        "outputId": "e817d7fe-e2fd-4778-d0b1-44b58195a737"
      },
      "execution_count": 69,
      "outputs": [
        {
          "output_type": "stream",
          "name": "stdout",
          "text": [
            "0\n",
            "1\n",
            "2\n",
            "3\n",
            "4\n",
            "5\n",
            "6\n",
            "7\n",
            "8\n",
            "9\n",
            "10\n",
            "11\n",
            "12\n",
            "13\n",
            "14\n",
            "15\n",
            "16\n",
            "17\n",
            "18\n",
            "19\n",
            "20\n",
            "21\n",
            "22\n",
            "23\n",
            "24\n",
            "25\n",
            "26\n",
            "27\n",
            "28\n",
            "29\n",
            "30\n",
            "31\n",
            "32\n",
            "33\n",
            "34\n",
            "35\n",
            "36\n",
            "37\n",
            "38\n",
            "39\n",
            "40\n",
            "41\n",
            "42\n",
            "43\n",
            "44\n",
            "45\n",
            "46\n",
            "47\n",
            "48\n",
            "49\n",
            "50\n",
            "51\n",
            "52\n",
            "53\n",
            "54\n",
            "55\n",
            "56\n",
            "57\n",
            "58\n",
            "59\n",
            "60\n",
            "61\n",
            "62\n",
            "63\n",
            "64\n",
            "65\n",
            "66\n",
            "67\n",
            "68\n",
            "69\n",
            "70\n",
            "71\n",
            "72\n",
            "73\n",
            "74\n",
            "75\n",
            "76\n",
            "77\n",
            "78\n",
            "79\n",
            "80\n",
            "81\n",
            "82\n",
            "83\n",
            "84\n",
            "85\n",
            "86\n",
            "87\n",
            "88\n",
            "89\n",
            "90\n",
            "91\n",
            "92\n",
            "93\n",
            "94\n",
            "95\n",
            "96\n",
            "97\n",
            "98\n",
            "99\n",
            "100\n",
            "101\n",
            "102\n",
            "103\n",
            "104\n",
            "105\n",
            "106\n",
            "107\n",
            "108\n",
            "109\n",
            "110\n",
            "111\n",
            "112\n",
            "113\n",
            "114\n",
            "115\n",
            "116\n",
            "117\n",
            "118\n",
            "119\n",
            "120\n",
            "121\n",
            "122\n",
            "123\n",
            "124\n",
            "125\n",
            "126\n",
            "127\n",
            "128\n",
            "129\n",
            "130\n",
            "131\n",
            "132\n",
            "133\n",
            "134\n",
            "135\n",
            "136\n",
            "137\n",
            "138\n",
            "139\n",
            "140\n",
            "141\n",
            "142\n",
            "143\n",
            "144\n",
            "145\n",
            "146\n",
            "147\n",
            "148\n",
            "149\n",
            "150\n",
            "151\n",
            "152\n",
            "153\n",
            "154\n",
            "155\n",
            "156\n",
            "157\n",
            "158\n",
            "159\n",
            "160\n",
            "161\n",
            "162\n",
            "163\n",
            "164\n",
            "165\n",
            "166\n",
            "167\n",
            "168\n",
            "169\n",
            "170\n",
            "171\n",
            "172\n",
            "173\n",
            "174\n",
            "175\n",
            "176\n",
            "177\n",
            "178\n",
            "179\n",
            "180\n",
            "181\n",
            "182\n",
            "183\n",
            "184\n",
            "185\n",
            "186\n",
            "187\n",
            "188\n",
            "189\n",
            "190\n",
            "191\n",
            "192\n",
            "193\n",
            "194\n",
            "195\n",
            "196\n",
            "197\n",
            "198\n",
            "199\n",
            "200\n",
            "201\n",
            "202\n",
            "203\n",
            "204\n",
            "205\n",
            "206\n",
            "207\n",
            "208\n",
            "209\n",
            "210\n",
            "211\n",
            "212\n",
            "213\n",
            "214\n",
            "215\n",
            "216\n",
            "217\n",
            "218\n",
            "219\n",
            "220\n",
            "221\n",
            "222\n",
            "223\n",
            "224\n",
            "225\n",
            "226\n",
            "227\n",
            "228\n",
            "229\n",
            "230\n",
            "231\n",
            "232\n",
            "233\n",
            "234\n",
            "235\n",
            "236\n",
            "237\n",
            "238\n",
            "239\n",
            "240\n",
            "241\n",
            "242\n",
            "243\n",
            "244\n",
            "245\n",
            "246\n",
            "247\n",
            "248\n",
            "249\n",
            "250\n",
            "251\n",
            "252\n",
            "253\n",
            "254\n",
            "255\n",
            "256\n",
            "257\n",
            "258\n",
            "259\n",
            "260\n",
            "261\n",
            "262\n",
            "263\n",
            "264\n",
            "265\n",
            "266\n",
            "267\n",
            "268\n",
            "269\n",
            "270\n",
            "271\n",
            "272\n",
            "273\n",
            "274\n",
            "275\n",
            "276\n",
            "277\n",
            "278\n",
            "279\n",
            "280\n",
            "281\n",
            "282\n",
            "283\n",
            "284\n",
            "285\n",
            "286\n",
            "287\n",
            "288\n",
            "289\n",
            "290\n",
            "291\n",
            "292\n",
            "293\n",
            "294\n",
            "295\n",
            "296\n",
            "297\n",
            "298\n",
            "299\n",
            "300\n",
            "301\n",
            "302\n",
            "303\n",
            "304\n",
            "305\n",
            "306\n",
            "307\n",
            "308\n",
            "309\n",
            "310\n",
            "311\n",
            "312\n",
            "313\n",
            "314\n",
            "315\n",
            "316\n",
            "317\n",
            "318\n",
            "319\n",
            "320\n",
            "321\n",
            "322\n",
            "323\n",
            "324\n",
            "325\n",
            "326\n",
            "327\n",
            "328\n",
            "329\n",
            "330\n",
            "331\n",
            "332\n",
            "333\n",
            "334\n",
            "335\n",
            "336\n",
            "337\n",
            "338\n",
            "339\n",
            "340\n",
            "341\n",
            "342\n",
            "343\n",
            "344\n",
            "345\n",
            "346\n",
            "347\n",
            "348\n",
            "349\n",
            "350\n",
            "351\n",
            "352\n",
            "353\n",
            "354\n",
            "355\n",
            "356\n",
            "357\n",
            "358\n",
            "359\n",
            "360\n",
            "361\n",
            "362\n"
          ]
        }
      ]
    },
    {
      "cell_type": "code",
      "source": [
        "d1 = {key:dict_embeddings[key] for i, key in enumerate(dict_embeddings) if i % 2 == 0}\n",
        "d2 = {key:dict_embeddings[key] for i, key in enumerate(dict_embeddings) if i % 2 == 1}\n"
      ],
      "metadata": {
        "id": "uwfMWfFiOTyN"
      },
      "execution_count": 70,
      "outputs": []
    },
    {
      "cell_type": "code",
      "source": [
        "d1"
      ],
      "metadata": {
        "colab": {
          "base_uri": "https://localhost:8080/"
        },
        "id": "sPxel7gKOUJI",
        "outputId": "01ad7789-64cd-42d8-f62d-f8ea033563c1"
      },
      "execution_count": 71,
      "outputs": [
        {
          "output_type": "execute_result",
          "data": {
            "text/plain": [
              "{'Los Angeles is a sprawling Southern California city and the center of the nation’s film and television industry.': array([[ 0.12785082,  0.23619145,  0.12586468, ...,  0.07998279,\n",
              "         -0.03814263,  0.04452515]], dtype=float32),\n",
              " 'On Hollywood Boulevard, TCL Chinese Theatre displays celebrities’ hand- and footprints, the Walk of Fame honors thousands of luminaries and vendors sell maps to stars’ homes New York City comprises 5 boroughs sitting where the Hudson River meets the Atlantic Ocean.': array([[ 0.14571707,  0.17790712,  0.1629303 , ...,  0.16522561,\n",
              "         -0.02339158,  0.09974831]], dtype=float32),\n",
              " 'Its iconic sites include skyscrapers such as the Empire State Building and sprawling Central Park.': array([[0.152361  , 0.11308052, 0.0921296 , ..., 0.06004412, 0.00242643,\n",
              "         0.00715252]], dtype=float32),\n",
              " 'Philadelphia, Pennsylvania’s largest city, is notable for its rich history, on display at the Liberty Bell, Independence Hall (where the Declaration of Independence and Constitution were signed) and other American Revolutionary sites.': array([[ 0.1369087 ,  0.09367051,  0.08636364, ...,  0.10895431,\n",
              "         -0.03814263,  0.08140108]], dtype=float32),\n",
              " 'Chicago, on Lake Michigan in Illinois, is among the largest cities in the U.S. Famed for its bold architecture, it has a skyline punctuated by skyscrapers such as the iconic John Hancock Center, 1,451-ft. Willis Tower (formerly the Sears Tower) and the neo-Gothic Tribune Tower.': array([[ 0.1177813 ,  0.1729668 ,  0.14658803, ...,  0.07711246,\n",
              "         -0.03814263,  0.16082074]], dtype=float32),\n",
              " 'Houston is a large metropolis in Texas, extending to Galveston Bay.': array([[ 0.11158587,  0.1511295 ,  0.0607818 , ...,  0.03527387,\n",
              "         -0.03814262,  0.09811808]], dtype=float32),\n",
              " 'The city’s relatively compact Downtown includes the Theater District, home to the renowned Houston Grand Opera, and the Historic District, with 19th-century architecture and upscale restaurants.': array([[ 0.06066373,  0.09566236,  0.08732635, ...,  0.10792209,\n",
              "         -0.02496418,  0.11791754]], dtype=float32),\n",
              " 'The Alamo, an 18th-century Spanish mission preserved as a museum, marks an infamous 1836 battle for Texan independence from Mexico.': array([[ 0.07794455,  0.07953716,  0.12853223, ...,  0.0202017 ,\n",
              "         -0.03814263, -0.0137701 ]], dtype=float32),\n",
              " 'HemisFair Park’s 750-ft. Tower of the Americas overlooks the city.': array([[ 0.07484709,  0.10411561,  0.04670799, ...,  0.02048974,\n",
              "         -0.02997642, -0.00866113]], dtype=float32),\n",
              " 'Architectural landmarks, from the 1883 Italianate-style Oddfellows building to Spanish Colonial Revival structures, make up the downtown historic district.': array([[ 0.03753885,  0.06273919,  0.1159185 , ...,  0.08939793,\n",
              "         -0.0186085 ,  0.02601303]], dtype=float32),\n",
              " 'Dallas, a modern metropolis in north Texas, is a commercial and cultural hub of the region.': array([[ 0.1344711 ,  0.10592926,  0.06547936, ...,  0.02032345,\n",
              "         -0.03814262,  0.10017537]], dtype=float32),\n",
              " 'In the Arts District, the Dallas Museum of Art and the Crow Collection of Asian Art cover thousands of years of art.': array([[ 0.04404325,  0.13512452,  0.03547791, ...,  0.07779726,\n",
              "         -0.03814263,  0.12549673]], dtype=float32),\n",
              " 'Austin is the state capital of Texas, an inland city bordering the Hill Country region.': array([[ 0.17545082,  0.15643267,  0.0442883 , ..., -0.0038281 ,\n",
              "         -0.03814263,  0.07325303]], dtype=float32),\n",
              " 'Its many parks and lakes are popular for hiking, biking, swimming and boating.': array([[ 0.12455308,  0.08761035,  0.04454531, ...,  0.07166623,\n",
              "         -0.00035734,  0.00151429]], dtype=float32),\n",
              " 'San Diego is a city on the Pacific coast of California known for its beaches, parks and warm climate.': array([[ 0.13956653,  0.21102545,  0.01986378, ...,  0.09325183,\n",
              "         -0.0064328 ,  0.03712065]], dtype=float32),\n",
              " 'A deep harbor is home to a large active naval fleet, with the USS Midway, an aircraft-carrier-turned-museum, open to the public.': array([[ 0.06891434,  0.08423564,  0.03015662, ...,  0.03324756,\n",
              "         -0.02937921, -0.0289226 ]], dtype=float32),\n",
              " 'It is the seat of Duval County, with which the city government consolidated in 1968.': array([[ 0.0662065 ,  0.12833354,  0.05392214, ...,  0.02936835,\n",
              "         -0.02627282,  0.05191816]], dtype=float32),\n",
              " 'Known for its year-round sun and warm temperatures, it anchors a sprawling, multicity metropolitan area known as the Valley of the Sun.': array([[ 0.09118952,  0.1169813 ,  0.07626437, ...,  0.1255228 ,\n",
              "         -0.03814263, -0.00327499]], dtype=float32),\n",
              " 'Other highlights include the Desert Botanical Garden, displaying cacti and numerous native plants Indianapolis, colloquially known as Indy, is the state capital and most-populous city of the U.S. state of Indiana and the seat of Marion County.': array([[ 0.12286294,  0.15934595,  0.08054406, ...,  0.13336515,\n",
              "         -0.03814263,  0.08892244]], dtype=float32),\n",
              " 'San Francisco, officially the City and County of San Francisco, is the commercial, financial, and cultural center of Northern California.': array([[ 0.07639043,  0.24304976,  0.03349979, ...,  0.01004848,\n",
              "         -0.03814262,  0.04651698]], dtype=float32),\n",
              " 'Denver, the capital of Colorado, is an American metropolis dating to the Old West era.': array([[ 0.10814111,  0.19801438,  0.11714973, ..., -0.02064429,\n",
              "         -0.03814263,  0.05294297]], dtype=float32),\n",
              " 'Museums include the Denver Art Museum, an ultramodern complex known for its collection of indigenous works, and the mansion of famed Titanic survivor Molly Brown.': array([[ 0.0283636 ,  0.13692902,  0.08072697, ...,  0.09077284,\n",
              "         -0.03814263,  0.11803211]], dtype=float32),\n",
              " 'Columbus is Ohio’s state capital.': array([[ 0.07824468,  0.08971863,  0.01809431, ..., -0.02032064,\n",
              "         -0.03814263,  0.05441431]], dtype=float32),\n",
              " 'On the west bank, the COSI science center offers hands-on exhibits and a planetarium.': array([[ 0.11290263,  0.05320204,  0.01288242, ...,  0.13298348,\n",
              "         -0.03814263,  0.0193181 ]], dtype=float32),\n",
              " 'The German Village area has restored brick houses built by 1800s settlers.': array([[ 0.08507086, -0.02722049,  0.0976042 , ...,  0.08776429,\n",
              "         -0.02711622,  0.08396139]], dtype=float32),\n",
              " 'In the late 19th century, it became an important trading post for cowboys at the end of the Chisholm Trail.': array([[ 0.04502092,  0.08663815,  0.03980375, ...,  0.00637941,\n",
              "         -0.03814263,  0.09418067]], dtype=float32),\n",
              " 'The Fort Worth Stockyards are home to rodeos, and the National Cowgirl Museum and Hall of Fame honors pioneers.': array([[ 0.04615559,  0.08812793,  0.06397963, ...,  0.02185308,\n",
              "         -0.03814262,  0.06890917]], dtype=float32),\n",
              " 'Near Downtown, the neoclassical Detroit Institute of Arts is famed for the Detroit Industry Murals painted by Diego Rivera, and inspired by the city’s ties to the auto industry, giving it the nickname \"Motor City.\"': array([[ 0.08687119,  0.19416292,  0.1319067 , ...,  0.04616603,\n",
              "         -0.02013356,  0.07081966]], dtype=float32),\n",
              " 'Its modern city center (Uptown) is home to the Levine Museum of the New South, which explores post–Civil War history in the South, and hands-on science displays at Discovery Place.': array([[ 0.11216967,  0.08674825,  0.11044192, ...,  0.12385479,\n",
              "         -0.03368411,  0.07640562]], dtype=float32),\n",
              " 'El Paso\\xa0is a city in and the\\xa0seat\\xa0of\\xa0El Paso County\\xa0in the western corner of the U.S. state of\\xa0Texas.': array([[ 0.12126088,  0.12040427,  0.17496252, ...,  0.01706957,\n",
              "         -0.03814263,  0.09323099]], dtype=float32),\n",
              " 'The city is also\\xa0the second-largest majority-Hispanic city\\xa0in the U.S., with 81% of its population being Hispanic.': array([[ 0.06774829,  0.12176458,  0.12474848, ...,  0.15656306,\n",
              "         -0.03814263, -0.02892261]], dtype=float32),\n",
              " 'Seattle, a city on Puget Sound in the Pacific Northwest, is surrounded by water, mountains and evergreen forests, and contains thousands of acres of parkland.': array([[ 0.04542077,  0.19885448,  0.01221655, ...,  0.17292681,\n",
              "         -0.02204764,  0.04520598]], dtype=float32),\n",
              " 'The futuristic Space Needle, a 1962 World’s Fair legacy, is its most iconic landmark Washington, DC, the U.S. capital, is a compact city on the Potomac River, bordering the states of Maryland and Virginia.': array([[ 0.06784686,  0.1337709 ,  0.14521803, ...,  0.10685576,\n",
              "         -0.03814262,  0.05086009]], dtype=float32),\n",
              " \"It's also home to iconic museums and performing-arts venues such as the Kennedy Center.\": array([[ 0.06160909,  0.0840507 ,  0.13286516, ...,  0.06670473,\n",
              "         -0.03814263,  0.0492088 ]], dtype=float32),\n",
              " 'Elvis Presley, B.B.': array([[ 0.09177411, -0.01019557,  0.01487582, ..., -0.03926747,\n",
              "         -0.03814263, -0.01604978]], dtype=float32),\n",
              " \"Other music landmarks include the Rock 'n' Soul Museum, Blues Hall of Fame and Stax Museum of American Soul Music.\": array([[ 0.11163865,  0.10554527,  0.0462205 , ...,  0.09762384,\n",
              "         -0.03814263,  0.08768075]], dtype=float32),\n",
              " 'It is the 24th-most populous city in the country.': array([[ 0.12258881,  0.05765232,  0.05754712, ...,  0.03829566,\n",
              "         -0.03814263, -0.02892261]], dtype=float32),\n",
              " 'It is the seat of\\xa0Suffolk County\\xa0(although the county government was disbanded on July 1, 1999).': array([[ 0.0662065 ,  0.1297893 ,  0.00255104, ...,  0.04724294,\n",
              "         -0.03814263,  0.06334456]], dtype=float32),\n",
              " 'Nashville-Davidson (balance)\\xa0is the name used by the\\xa0U.S. Census Bureau\\xa0to designate the portion of\\xa0Davidson County,\\xa0Tennessee,\\xa0United States\\xa0that does not include\\xa0satellite cities\\xa0of\\xa0Nashville.': array([[ 0.11776156,  0.12362205,  0.07803809, ...,  0.08094353,\n",
              "         -0.00982252,  0.09330031]], dtype=float32),\n",
              " 'The cities that are a part of Nashville-Davidson County.': array([[ 0.11471049,  0.12416517,  0.02207041, ...,  0.00366369,\n",
              "         -0.03814263,  0.04272125]], dtype=float32),\n",
              " 'The balance includes the area of Davidson County that made up the City of Nashville prior to the 1963 merger with Davidson County as well as large areas of previously unincorporated land.': array([[ 0.05289752,  0.09637792,  0.07669027, ...,  0.11582945,\n",
              "         -0.03814263,  0.13538635]], dtype=float32),\n",
              " 'The 2000 population was 545,524 Oklahoma\\xa0is a\\xa0state\\xa0in the\\xa0South Central\\xa0region of the\\xa0United States,\\xa0bordered by\\xa0Texas\\xa0on the south and west,\\xa0Kansas\\xa0on the north,\\xa0Missouri\\xa0on the northeast,\\xa0Arkansas\\xa0on the east,\\xa0New Mexico\\xa0on the west, and\\xa0Colorado\\xa0on the northwest.': array([[ 0.16213618,  0.10807285,  0.09580471, ...,  0.04213803,\n",
              "         -0.03793533,  0.10644455]], dtype=float32),\n",
              " 'Its residents are known as Oklahomans , and its capital and largest city is\\xa0Oklahoma City.': array([[ 0.08197093,  0.07454931,  0.07831715, ...,  0.0789343 ,\n",
              "         -0.03814263,  0.07244603]], dtype=float32),\n",
              " 'Fort McHenry, birthplace of the U.S. national anthem, “The Star-Spangled Banner,” sits at the mouth of Baltimore’s Inner Harbor.': array([[ 0.06787589,  0.14430225,  0.07575461, ...,  0.02377848,\n",
              "         -0.03814263,  0.04342698]], dtype=float32),\n",
              " 'Las Vegas\\xa0, often known simply as\\xa0Vegas, is the\\xa025th-most populous city\\xa0in the United States, the most populous city in the\\xa0state\\xa0of\\xa0Nevada, and the\\xa0county seat\\xa0of\\xa0Clark County.': array([[ 0.16173618,  0.11406589,  0.13268562, ...,  0.06133043,\n",
              "         -0.03814263,  0.10441028]], dtype=float32),\n",
              " 'Las Vegas is an internationally renowned major\\xa0resort city, known primarily for its\\xa0gambling, shopping, fine dining, entertainment, and\\xa0nightlife.': array([[ 0.16173618,  0.09706151,  0.04262351, ...,  0.05063332,\n",
              "         -0.03814263, -0.02892261]], dtype=float32),\n",
              " 'Portland, Oregon’s largest city, sits on the Columbia and Willamette rivers, in the shadow of snow-capped Mount Hood.': array([[ 0.13639544,  0.19269526,  0.07658095, ...,  0.05003989,\n",
              "         -0.01502401,  0.0941131 ]], dtype=float32),\n",
              " 'Iconic Washington Park encompasses sites from the formal Japanese Garden to Oregon Zoo and its railway.': array([[ 0.12101045,  0.15071948,  0.08769277, ...,  0.08414555,\n",
              "         -0.03575382,  0.05278492]], dtype=float32),\n",
              " \"It's known for its breweries, many of which offer tours chronicling its role in the beer industry.\": array([[ 0.07728583,  0.10446778,  0.05223054, ...,  0.12516813,\n",
              "         -0.03814263,  0.00171111]], dtype=float32),\n",
              " 'Nearby is the Milwaukee Public Museum, with its large-scale European Village and a recreation of old Milwaukee.': array([[ 0.07957115,  0.105881  ,  0.04681625, ...,  0.09287999,\n",
              "         -0.03814262,  0.00623066]], dtype=float32),\n",
              " 'Every May, its race course Churchill Downs hosts the Kentucky Derby, a renowned horse race whose long history is explored at the Kentucky Derby Museum.': array([[ 0.04806129,  0.05407238,  0.09842397, ...,  0.02572236,\n",
              "         -0.03814263,  0.07937863]], dtype=float32),\n",
              " \"Fresno is a city in California's San Joaquin Valley.\": array([[ 0.08681091,  0.17700054,  0.02734362, ...,  0.03268216,\n",
              "         -0.03814263,  0.10298914]], dtype=float32),\n",
              " 'Fresno Chaffee Zoo has sea lions and a stingray touch pool.': array([[ 0.06944298,  0.12928718, -0.00194658, ...,  0.02639791,\n",
              "         -0.01885713,  0.04578046]], dtype=float32),\n",
              " 'The city is a base for Yosemite National Park, with its waterfalls and giant rock formations.': array([[ 0.06173868,  0.12227798,  0.06782644, ...,  0.04441955,\n",
              "         -0.03814263, -0.0289226 ]], dtype=float32),\n",
              " 'Mesa Grande Cultural Park is home to a giant, centuries-old ceremonial mound, and artifacts of the ancient Hohokam people.': array([[ 0.03793977,  0.06618134,  0.10632806, ...,  0.02813868,\n",
              "         -0.03814263, -0.02892261]], dtype=float32),\n",
              " 'The nearby i.d.e.a.': array([[ 0.0453443 , -0.02722049,  0.02389297, ..., -0.03926747,\n",
              "         -0.03814263, -0.02892261]], dtype=float32),\n",
              " 'Mesa Arts Center presents theater, musicals and contemporary art.': array([[ 0.05966274,  0.1394129 ,  0.03109885, ...,  0.05880588,\n",
              "         -0.03814263,  0.07966226]], dtype=float32),\n",
              " 'Its modern Downtown core contrasts with Old Town Albuquerque, dating to the city’s 1706 founding as a Spanish colony.': array([[ 0.08124497,  0.06587259,  0.10652047, ...,  0.06597074,\n",
              "         -0.03814263,  0.02224177]], dtype=float32),\n",
              " 'Nearby, The Indian Pueblo Cultural Center traces the area’s tribal history.': array([[ 0.07169568,  0.12881395,  0.14805685, ...,  0.04647369,\n",
              "         -0.03814263,  0.02814306]], dtype=float32),\n",
              " 'It is the second largest city in Arizona behind Phoenix, with a population of 542,629 in the 2020 United States census, while the population of the entire Tucson metropolitan statistical area (MSA) is 1,043,433.': array([[0.11537563, 0.13636169, 0.09237055, ..., 0.12414108, 0.01833701,\n",
              "         0.02187984]], dtype=float32),\n",
              " 'Both Tucson and Phoenix anchor the Arizona Sun Corridor.': array([[ 0.07570497,  0.15250441,  0.04841598, ...,  0.02920199,\n",
              "         -0.03814263,  0.00179936]], dtype=float32),\n",
              " 'Tucson is the 34th largest city and the 53rd largest metropolitan area in the United States  Sacramento, capital of the U.S. state of California, lies at the confluence of the Sacramento River and American River.': array([[ 0.11936407,  0.20809402,  0.0932085 , ...,  0.10512992,\n",
              "         -0.03814263,  0.06928607]], dtype=float32),\n",
              " 'One of several museums in Old Sacramento, the California State Railroad Museum depicts the construction of the Transcontinental Railroad, one of the country’s earliest technological feats.': array([[ 0.09276595,  0.18352118,  0.10567081, ...,  0.17017192,\n",
              "         -0.03814263,  0.06220705]], dtype=float32),\n",
              " 'Moored in its Queensway Bay, RMS Queen Mary is a retired ocean liner and museum ship.': array([[ 0.13524474,  0.18360516,  0.04354156, ...,  0.04939643,\n",
              "         -0.03814263,  0.10895517]], dtype=float32),\n",
              " 'Modern and contemporary works are on display at the Museum of Latin American Art.': array([[ 0.0746379 ,  0.10263751,  0.06287468, ...,  0.03535214,\n",
              "         -0.03814263,  0.04246457]], dtype=float32),\n",
              " \"Kansas City sits on Missouri's western edge, straddling the border with Kansas.\": array([[ 0.12749286,  0.1018881 ,  0.07229964, ...,  0.05238749,\n",
              "         -0.03814263,  0.11885312]], dtype=float32),\n",
              " 'Downtown, the American Jazz Museum shares a building with the Negro Leagues Baseball Museum in the historic 18th & Vine Jazz District.': array([[ 0.02912598,  0.10303586,  0.12727664, ...,  0.08004327,\n",
              "         -0.03814263,  0.08506498]], dtype=float32),\n",
              " 'Atlanta is the capital of the U.S. state of Georgia.': array([[ 0.09648912,  0.16107206,  0.06714555, ..., -0.01354603,\n",
              "         -0.03814263,  0.03496354]], dtype=float32),\n",
              " \"Atlanta History Center chronicles the city's past, and the Martin Luther King Jr. National Historic Site is dedicated to the African-American leader’s life and times.\": array([[ 0.06900706,  0.10605389,  0.11835481, ...,  0.02449994,\n",
              "         -0.03814263,  0.14983346]], dtype=float32),\n",
              " 'Raleigh is the capital city of North Carolina.': array([[ 0.07194072,  0.19231535,  0.03910386, ...,  0.0148775 ,\n",
              "         -0.03814263,  0.00211139]], dtype=float32),\n",
              " 'The number of technology and scholarly institutions around Raleigh, Chapel Hill and Durham make the area known as the Research Triangle.': array([[0.05357958, 0.13566959, 0.07678017, ..., 0.07285549, 0.01936078,\n",
              "         0.03558875]], dtype=float32),\n",
              " 'Colorado Springs, at an elevation of 6,035 ft., is a city in Colorado at the eastern foot of the Rocky Mountains.': array([[ 0.09639643,  0.11904216,  0.17699163, ...,  0.02820133,\n",
              "         -0.03814263,  0.06913491]], dtype=float32),\n",
              " \"The city's Garden of the Gods park features iconic red-sandstone formations and mountain views.\": array([[ 0.04408422,  0.12115909,  0.10174072, ...,  0.04507257,\n",
              "          0.00451058, -0.00668115]], dtype=float32),\n",
              " 'A 3-mile boardwalk stretches along its beach-lined oceanfront.': array([[ 0.00717716,  0.02485642,  0.0704731 , ...,  0.10944366,\n",
              "         -0.03814262, -0.01545514]], dtype=float32),\n",
              " 'The Virginia Aquarium & Marine Science Center exhibits ocean life including sharks, rays and sea turtles in globally themed habitats.': array([[ 0.1943409 ,  0.1971731 ,  0.01143771, ...,  0.11686126,\n",
              "         -0.03814263,  0.04969902]], dtype=float32),\n",
              " 'Jack London Square has a statue of the writer, who frequented the area.': array([[ 0.11652201,  0.09431167,  0.09118825, ...,  0.02412556,\n",
              "         -0.03814263,  0.01651617]], dtype=float32),\n",
              " 'Near Chinatown, the Oakland Museum of California covers state history, nature and art.': array([[ 0.06455589,  0.19182345,  0.07202365, ...,  0.01355564,\n",
              "         -0.03814263,  0.02510642]], dtype=float32),\n",
              " 'Omaha is a city in the U.S. state of Nebraska, on the Missouri River close to the Iowa border.': array([[ 0.08676432,  0.13671541,  0.03461436, ...,  0.04461146,\n",
              "         -0.03814263,  0.1510614 ]], dtype=float32),\n",
              " 'The Henry Doorly Zoo and Aquarium spearheads conservation work and features a big cat complex as well as indoor jungle, rainforest and desert habitats.': array([[ 0.13669454,  0.14079705,  0.0623095 , ...,  0.07915581,\n",
              "         -0.03243829,  0.11335622]], dtype=float32),\n",
              " \"Bisected by the Mississippi River, it's known for its parks and lakes.\": array([[ 0.03959919,  0.14362286,  0.04557197, ...,  0.1031143 ,\n",
              "         -0.03814263,  0.15774421]], dtype=float32),\n",
              " 'Tulsa is a city on the Arkansas River, in the U.S. state of Oklahoma.': array([[ 0.07819268,  0.12190995,  0.03511595, ...,  0.02613831,\n",
              "         -0.03814263,  0.13077995]], dtype=float32),\n",
              " 'Landmarks like the Philcade and Philtower buildings reflect a 20th-century construction boom fueled by the prosperous local oil industry.': array([[ 0.09935395,  0.14644557,  0.15899086, ...,  0.11641242,\n",
              "         -0.02160068, -0.01241533]], dtype=float32),\n",
              " 'Miami\\xa0, officially the\\xa0City of Miami, known as \"the 305\", \"The Magic City\", and \"Gateway to the Americas\", is a\\xa0coastal\\xa0metropolis and the\\xa0county seat\\xa0of\\xa0Miami-Dade County\\xa0in\\xa0South Florida.': array([[ 0.12617394,  0.13261747,  0.0846737 , ...,  0.04687596,\n",
              "         -0.03814263,  0.04304728]], dtype=float32),\n",
              " 'The\\xa0Miami metropolitan area\\xa0is the ninth largest in the U.S. with a population of 6.138\\xa0million people as of 2020.': array([[ 0.13042802,  0.14790308,  0.08880983, ...,  0.04882886,\n",
              "         -0.03814263, -0.02892261]], dtype=float32),\n",
              " 'Nicknamed the \"Big Easy,\" it\\'s known for its round-the-clock nightlife, vibrant live-music scene and spicy, singular cuisine reflecting its history as a melting pot of French, African and American cultures.': array([[ 0.12649176,  0.15742686,  0.19885838, ...,  0.11575457,\n",
              "         -0.03814263,  0.07771494]], dtype=float32),\n",
              " 'Cleveland\\xa0, officially the\\xa0City of Cleveland, is a city in the\\xa0U.S.\\xa0state\\xa0of\\xa0Ohio\\xa0and the\\xa0county seat\\xa0of\\xa0Cuyahoga County.': array([[ 0.06434675,  0.12083241,  0.05612541, ...,  0.04057546,\n",
              "         -0.03814262,  0.05863117]], dtype=float32),\n",
              " 'The largest city on Lake Erie and one of the major cities of the\\xa0Great Lakes region, Cleveland ranks as the\\xa054th-largest city\\xa0in the U.S. with a 2020 population of 372,624.': array([[ 0.12703356,  0.11253799,  0.06437696, ...,  0.07889959,\n",
              "         -0.03814263,  0.11981693]], dtype=float32),\n",
              " 'The CSA is the most populous in Ohio and the 17th largest in the country, with a population of 3.63 million in 2020, while the MSA ranks as\\xa034th largest\\xa0at 2.09 million.': array([[ 0.12216564,  0.1501072 ,  0.08055358, ...,  0.07268976,\n",
              "         -0.03814263,  0.03889624]], dtype=float32),\n",
              " 'Exploration Place features hands-on science exhibits and Kansas in Miniature, a display of animated models depicting 1950s Kansas.': array([[ 0.11869217,  0.1506119 ,  0.11949202, ...,  0.1291724 ,\n",
              "         -0.03814263,  0.09332368]], dtype=float32),\n",
              " 'Themed gardens at Botanica Wichita include a wildflower meadow and a Chinese garden.': array([[ 0.08081793,  0.10937588,  0.04202822, ...,  0.09216173,\n",
              "         -0.03074288,  0.03117572]], dtype=float32),\n",
              " 'Aurora is a home rule municipality located in Arapahoe, Adams, and Douglas counties, Colorado, United States.': array([[ 0.11419217,  0.11463681,  0.03803021, ...,  0.02009084,\n",
              "         -0.03814263,  0.07485291]], dtype=float32),\n",
              " 'Arlington is a city in Texas, west of Dallas.': array([[ 0.09594474,  0.1039611 ,  0.03172024, ...,  0.01365972,\n",
              "         -0.03814263,  0.0901845 ]], dtype=float32),\n",
              " 'In River Legacy Parks, trails cut through hardwood forest rich in wildlife.': array([[0.11882006, 0.13152637, 0.01552917, ..., 0.01819133, 0.0076797 ,\n",
              "         0.09627851]], dtype=float32),\n",
              " 'The Dallas Cowboys football team plays at AT&T Stadium, which also hosts concerts.': array([[ 0.07755157, -0.00090053,  0.01877834, ...,  0.02894297,\n",
              "         -0.03814263,  0.09886847]], dtype=float32),\n",
              " 'Displays at the Buena Vista Museum of Natural History focus on geology and paleontology.': array([[0.05210233, 0.12413371, 0.02096646, ..., 0.04519395, 0.00041626,\n",
              "         0.04995828]], dtype=float32),\n",
              " 'Northeast, trails wind through the mountains of the Kern River Ranger District, part of Sequoia National Forest.� Corpus Christi is a Texas city on the Gulf of Mexico.': array([[ 0.07430435,  0.11688971,  0.12179137, ...,  0.02403093,\n",
              "         -0.03814263,  0.11809301]], dtype=float32),\n",
              " 'The Padre Island National Seashore is home to migratory birds and endangered Kemp�s ridley sea turtles.': array([[ 0.09227563,  0.14399466,  0.03383821, ...,  0.03081994,\n",
              "         -0.03814263,  0.10678735]], dtype=float32),\n",
              " 'Nearby, a WWII aircraft carrier, USS Lexington, now houses a naval aviation museum.� Stockton is a city on the San Joaquin River, in California�s Central Valley.': array([[ 0.07300898,  0.12810212,  0.04308865, ...,  0.07003235,\n",
              "         -0.03814263,  0.13328445]], dtype=float32),\n",
              " 'Oak Grove Regional Park has trails, a nature center and a lake stocked with catfish.': array([[ 0.09906861,  0.14552803,  0.04308425, ...,  0.02784492,\n",
              "         -0.02262972,  0.12477383]], dtype=float32),\n",
              " 'The Children�s Museum of Stockton offers hands-on exhibits.': array([[ 0.03414434,  0.0969101 , -0.02357255, ...,  0.11851147,\n",
              "         -0.03814263,  0.05183516]], dtype=float32),\n",
              " 'The Greensboro Science Center houses red pandas, sharks and a hands-on museum.': array([[ 0.08858304,  0.15804473,  0.04865064, ...,  0.09890875,\n",
              "         -0.01744993,  0.03982309]], dtype=float32),\n",
              " 'Video re-enactments and interactive exhibits trace the civil rights struggle at the International Civil Rights Center & Museum.': array([[ 0.05287005,  0.08259675,  0.06978951, ...,  0.10968468,\n",
              "         -0.02337564,  0.06853523]], dtype=float32),\n",
              " 'Lexington is a city in Kentucky.': array([[ 0.08153822,  0.07187626,  0.02607127, ...,  0.01510927,\n",
              "         -0.03814262,  0.0507009 ]], dtype=float32),\n",
              " 'The Kentucky Horse Park features the International Museum of the Horse, the Hall of Champions and many equine breeds.': array([[ 0.11321571,  0.09047609,  0.05454779, ...,  0.1011546 ,\n",
              "         -0.03814263,  0.09169936]], dtype=float32),\n",
              " 'Clay is buried at the Lexington Cemetery, which has an arboretum, lakes and a Romanesque gatehouse.': array([[ 0.08012354,  0.08355478,  0.03836852, ..., -0.00614315,\n",
              "         -0.00689567,  0.10639542]], dtype=float32),\n",
              " 'A major business center, it�s also known for its museums and other cultural offerings.': array([[ 0.0603897 ,  0.08386727,  0.03231258, ...,  0.10592303,\n",
              "         -0.03814263, -0.02775884]], dtype=float32),\n",
              " 'The historic Ybor City neighborhood, developed by Cuban and Spanish cigar-factory workers at the turn of the 20th century, is a dining and nightlife destination.� Anaheim is a city outside Los Angeles, in Southern California.': array([[ 0.10149787,  0.22566444,  0.13913804, ...,  0.06041579,\n",
              "         -0.03814263,  0.05666309]], dtype=float32),\n",
              " \"The city's also home to pro sports teams.\": array([[ 0.04408422,  0.05263606,  0.0574519 , ..., -0.03926747,\n",
              "         -0.03814263, -0.02185365]], dtype=float32),\n",
              " 'Santa Ana is a city in Orange County, California.': array([[ 0.05332719,  0.15938501,  0.0297536 , ...,  0.02323355,\n",
              "         -0.03814263,  0.05787474]], dtype=float32),\n",
              " 'In a Mission Revival�style building, the Bowers Museum displays a large collection of Native American art.': array([[ 0.0515184 ,  0.11221887,  0.06429279, ...,  0.07912906,\n",
              "         -0.03814263,  0.05569891]], dtype=float32),\n",
              " 'The Heritage Museum of Orange County features restored 1890s homes set amid gardens.': array([[ 0.0567898 ,  0.1846936 ,  0.06621154, ...,  0.07977392,\n",
              "         -0.03814263,  0.0537142 ]], dtype=float32),\n",
              " \"Its iconic, 630-ft. Gateway Arch, built in the 1960s, honors the early 19th-century explorations of Lewis and Clark and America's westward expansion in general.\": array([[ 0.09938116,  0.08488616,  0.07050435, ...,  0.04550944,\n",
              "         -0.03814263,  0.14409871]], dtype=float32),\n",
              " 'The Soulard district is home to barbecue restaurants and clubs playing blues music.': array([[ 0.09608229,  0.06548655,  0.08088345, ...,  0.08614925,\n",
              "         -0.03814262,  0.0268101 ]], dtype=float32),\n",
              " 'The Over-the-Rhine district is known for its 19th-century architecture, including Findlay Market, which has food and craft vendors.': array([[ 0.0611438 ,  0.12304756,  0.04584173, ...,  0.10020018,\n",
              "         -0.03814263,  0.03286336]], dtype=float32),\n",
              " \"The Cincinnati Museum Center encompasses history, science and children's museums in the art deco Union Terminal.\": array([[ 0.05016588,  0.09333433,  0.10747866, ...,  0.07678807,\n",
              "         -0.03052704,  0.01700935]], dtype=float32),\n",
              " 'It is named for its location beside the Santa Ana River.': array([[ 0.07798457,  0.07836637,  0.04264115, ...,  0.08743483,\n",
              "         -0.03814263,  0.06718567]], dtype=float32),\n",
              " 'Honolulu, on the island of Oahu�s south shore, is capital of Hawaii and gateway to the U.S. island chain.': array([[ 0.1372753 ,  0.22160713,  0.01820977, ...,  0.04846193,\n",
              "         -0.01426403, -0.02892261]], dtype=float32),\n",
              " 'Sites relating to the World War II attack on Pearl Harbor include the USS Arizona Memorial.': array([[ 0.09586248,  0.13294443,  0.04184274, ...,  0.07408301,\n",
              "         -0.03814263,  0.00340564]], dtype=float32),\n",
              " 'Its Gilded Age sites, including the Carnegie Museum of Natural History, the Carnegie Museum of Art and the Phipps Conservatory and Botanical Gardens, speak to its history as an early-20th-century industrial capital.': array([[ 0.14499089,  0.11984579,  0.09420668, ...,  0.13761257,\n",
              "         -0.03814263,  0.08158243]], dtype=float32),\n",
              " 'The Heritage Farmstead Museum is a restored 19th-century farm with original tools and furniture, plus a replica 1895 schoolroom.': array([[ 0.00120148,  0.04030948,  0.06300264, ...,  0.08944016,\n",
              "         -0.03814262,  0.06278256]], dtype=float32),\n",
              " 'Trails wind through a nature preserve in Oak Point Park.': array([[ 0.07133084,  0.07746424, -0.02428471, ..., -0.02705824,\n",
              "         -0.03814263,  0.01311528]], dtype=float32),\n",
              " \"It's known for its cultural sites, including the Alaska Native Heritage Center, which displays traditional crafts, stages dances, and presents replicas of dwellings from the area�s indigenous groups.\": array([[ 0.09029652,  0.18418884,  0.07804372, ...,  0.14052624,\n",
              "         -0.03814263,  0.09626397]], dtype=float32),\n",
              " 'Newark is a New Jersey city, home to Newark Liberty International Airport.': array([[ 0.0816694 ,  0.09768528,  0.1131188 , ..., -0.01668864,\n",
              "         -0.03089687,  0.00535906]], dtype=float32),\n",
              " 'Newark Museum�s broad art collection features American paintings and sculptures.': array([[ 0.08965982,  0.0788414 ,  0.07369854, ...,  0.04185729,\n",
              "         -0.03814263, -0.00967641]], dtype=float32),\n",
              " 'The huge Cathedral Basilica of the Sacred Heart was built over decades, starting in 1898.': array([[ 0.0509704 ,  0.1412413 ,  0.04945935, ...,  0.04039373,\n",
              "         -0.03814263,  0.03045437]], dtype=float32),\n",
              " 'Chief among its claims to fame is Walt Disney World, comprised of parks like the Magic Kingdom and Epcot, as well as water parks.': array([[0.09380702, 0.1394143 , 0.01292306, ..., 0.09408174, 0.03152813,\n",
              "         0.04408241]], dtype=float32),\n",
              " 'Saint Paul, the state capital of Minnesota, forms the \"Twin Cities\" with neighboring Minneapolis.': array([[ 0.09732092,  0.13416438,  0.02013344, ...,  0.06023119,\n",
              "         -0.03814262,  0.14718442]], dtype=float32),\n",
              " \"The Minnesota History Center has interactive exhibits about the region's history.\": array([[ 0.0799485 ,  0.09249344,  0.06881002, ...,  0.13195147,\n",
              "         -0.03814262,  0.17004217]], dtype=float32),\n",
              " 'The Cass Gilbert�designed Minnesota State Capitol features paintings of Civil War scenes.': array([[ 0.03484065,  0.14895329,  0.07233231, ...,  0.05518912,\n",
              "         -0.03814263,  0.14944115]], dtype=float32),\n",
              " \"It's home to the Toledo Museum of Art, with its vast collection of modern and Renaissance work.\": array([[ 0.02735267,  0.11442064,  0.05025927, ...,  0.09937666,\n",
              "         -0.03814263,  0.05309438]], dtype=float32),\n",
              " \"By the Maumee River, the Imagination Station is a children's science museum with hands-on exhibits.\": array([[ 0.01760284,  0.14451498, -0.00533113, ...,  0.12518479,\n",
              "         -0.03295239,  0.08976107]], dtype=float32),\n",
              " 'Clark County Museum has exhibits on regional history, and features restored vintage homes.': array([[ 0.04064364,  0.08876789,  0.05944982, ...,  0.11771701,\n",
              "         -0.03229239,  0.10613099]], dtype=float32),\n",
              " 'To the east, vast Lake Mead is dotted with marinas, and set in a rocky landscape with valleys and trails.': array([[ 0.11748959,  0.09670723,  0.0289273 , ...,  0.07826954,\n",
              "         -0.03049639,  0.14909405]], dtype=float32),\n",
              " 'Lincoln is the capital city of Nebraska.': array([[ 0.07817643,  0.09632892,  0.03604605, ...,  0.02528131,\n",
              "         -0.03814263,  0.09906696]], dtype=float32),\n",
              " 'Built in 1930, the Sunken Gardens features themed gardens, sculptures and lily ponds.': array([[ 0.10503644,  0.03206114,  0.05571195, ...,  0.13151923,\n",
              "         -0.03814263,  0.05093086]], dtype=float32),\n",
              " 'Sheldon Museum of Art, on the University of Nebraska campus, has a notable collection of American art and a sculpture garden.': array([[ 0.02767488,  0.14477676,  0.06465768, ...,  0.04187421,\n",
              "         -0.03814263,  0.12327201]], dtype=float32),\n",
              " 'Its eastern waterfront faces the Hudson River where it meets Upper New York Bay.': array([[ 0.15744196,  0.13897006,  0.13232379, ...,  0.03247437,\n",
              "         -0.03814263,  0.10735161]], dtype=float32),\n",
              " 'The park�s Liberty Science Center features interactive exhibits, live animals and an IMAX Dome theater.': array([[ 0.06775307,  0.1491546 , -0.02357255, ...,  0.09005661,\n",
              "         -0.01343107,  0.08079433]], dtype=float32),\n",
              " 'Chula Vista is the second-largest city in the San Diego metropolitan area, the seventh largest city in Southern California, the fifteenth largest city in the state of California, and the 78th-largest city in the United States.': array([[ 0.11568259,  0.18997338,  0.05939336, ...,  0.07281607,\n",
              "         -0.03814263,  0.06919162]], dtype=float32),\n",
              " 'Laredo is a city on the Mexican border, in southern Texas.': array([[ 0.17913963,  0.09646082,  0.15802483, ...,  0.03721257,\n",
              "         -0.03814262,  0.09323099]], dtype=float32),\n",
              " 'Next to Los Dos Laredos Park, a bridge crosses the Rio Grande into Mexico.': array([[ 0.08010551,  0.09385764,  0.11329277, ...,  0.00620585,\n",
              "         -0.03814263,  0.02994179]], dtype=float32),\n",
              " \"The Imaginarium of South Texas is a children�s museum with hands-on exhibits.� Gilbert is a town in Maricopa County, Arizona, United States, located southeast of Phoenix within the city's metropolitan area.\": array([[ 0.14250545,  0.1580504 ,  0.07535706, ...,  0.06697207,\n",
              "         -0.03814263,  0.09835628]], dtype=float32),\n",
              " 'It is the fifth-largest municipality in Arizona, and the fourth-largest in the Phoenix metro area.': array([[ 0.0662065 ,  0.13057747,  0.10189728, ...,  0.0271372 ,\n",
              "         -0.03449291,  0.02743684]], dtype=float32),\n",
              " 'Fort Wayne is a city in northeastern Indiana.': array([[ 0.11578494,  0.04350203,  0.05680328, ...,  0.0337833 ,\n",
              "         -0.03814263,  0.0436997 ]], dtype=float32),\n",
              " 'American painting and sculpture are the focus at Fort Wayne Museum of Art.': array([[ 0.03876694,  0.09240919,  0.08319622, ...,  0.00748684,\n",
              "         -0.03814263,  0.07392348]], dtype=float32),\n",
              " 'Animal habitats at Fort Wayne Children�s Zoo include an African savannah and an Indonesian rainforest.� Buffalo is the second-largest city in the U.S. state of New York and the seat of Erie County.': array([[ 0.18528268,  0.1073605 ,  0.12438396, ...,  0.06336896,\n",
              "         -0.03814263,  0.08564468]], dtype=float32),\n",
              " 'With a population of 278,349 according to the 2020 census, Buffalo is the 78th-largest city in the United States.': array([[ 0.10932213,  0.16172798,  0.05025262, ...,  0.05278471,\n",
              "         -0.03814262,  0.02068258]], dtype=float32),\n",
              " 'To the east, Orange County Great Park features an antique carousel and a giant, anchored helium balloon.': array([[ 0.11748959,  0.15432213,  0.02492244, ...,  0.03546162,\n",
              "         -0.03814263,  0.09124297]], dtype=float32),\n",
              " 'Trails wind past ancient sycamore trees in Bommer Canyon.': array([[ 0.05706162,  0.04584113,  0.01636326, ...,  0.05635723,\n",
              "         -0.0255145 ,  0.01075254]], dtype=float32),\n",
              " 'Impressionist art from around California is displayed at the Irvine Museum.� Chandler is a city southeast of Phoenix, in Arizona.': array([[ 0.10659599,  0.18330057,  0.07908289, ...,  0.04277804,\n",
              "         -0.03814263,  0.06626757]], dtype=float32),\n",
              " 'Veterans Oasis Park has wetlands and a Sonoran Desert landscape, plus the Solar System Walk, a scale model of the planets.': array([[0.06602518, 0.14269038, 0.06040058, ..., 0.11280799, 0.02678441,\n",
              "         0.04969468]], dtype=float32),\n",
              " 'The Arizona Railway Museum exhibits antique trains.': array([[ 0.0379396 ,  0.12461011,  0.01775592, ...,  0.07685791,\n",
              "         -0.03814263,  0.01851136]], dtype=float32),\n",
              " \"It's known for its pleasant weather (hence its �Sunshine City� nickname), making it popular for golfing, boating, fishing and beachgoing.\": array([[ 0.07346475,  0.06867562,  0.09582857, ...,  0.01574145,\n",
              "         -0.03814263,  0.01808139]], dtype=float32),\n",
              " 'Durham is a city in North Carolina.': array([[ 0.09480377,  0.18149911,  0.04047747, ..., -0.00196019,\n",
              "         -0.03814263,  0.00211139]], dtype=float32),\n",
              " 'On the Duke University campus are the neo-Gothic Duke Chapel and the Nasher Museum of Art, with work by contemporary artists like Christian Marclay and Ai Weiwei.': array([[ 0.04358261,  0.18679962,  0.0814988 , ...,  0.03157642,\n",
              "         -0.01898201,  0.1144717 ]], dtype=float32),\n",
              " 'It�s known for the domed Wisconsin State Capitol, which sits on an isthmus between lakes Mendota and Monona.': array([[ 0.08050939,  0.14292978,  0.03601468, ...,  0.0050011 ,\n",
              "         -0.03814263,  0.08512562]], dtype=float32),\n",
              " \"The city's paved Capital City State Trail runs past Monona Terrace, a lakefront convention center designed by Frank Lloyd Wright.\": array([[ 0.04408422,  0.11959565,  0.06529612, ...,  0.07139506,\n",
              "         -0.03814263,  0.1835012 ]], dtype=float32),\n",
              " 'It�s home to Naval Station Norfolk, a massive naval base on Chesapeake Bay.': array([[ 0.08960173,  0.21414886,  0.06479589, ...,  0.04417242,\n",
              "         -0.03814263,  0.02430448]], dtype=float32),\n",
              " 'The Chrysler Museum of Art showcases a vast collection of glass art, plus European and American paintings and sculpture.': array([[ 0.06970228,  0.15731794,  0.03842876, ...,  0.0786422 ,\n",
              "         -0.03814263,  0.0699784 ]], dtype=float32),\n",
              " 'Lubbock is a city in northwest Texas known as the birthplace of rock �n� roll legend Buddy Holly.': array([[ 0.1079828 ,  0.10162338,  0.06299789, ...,  0.02662492,\n",
              "         -0.03814263,  0.11833349]], dtype=float32),\n",
              " 'Nearby is the West Texas Walk of Fame, with a statue of Holly and plaques honoring musicians from the region.': array([[ 0.10162691,  0.1181681 ,  0.07312725, ...,  0.11743461,\n",
              "         -0.03814263,  0.10723612]], dtype=float32),\n",
              " 'With a population of 223,109 as of the 2020 census, Hialeah is the sixth-largest city in Florida.': array([[ 0.07758527,  0.1428794 ,  0.10717009, ...,  0.04711127,\n",
              "         -0.03814263,  0.04304728]], dtype=float32),\n",
              " 'Winston-Salem is a city and the county seat of Forsyth County, North Carolina, United States.': array([[ 0.11462489,  0.14272061,  0.0276036 , ...,  0.01893629,\n",
              "         -0.03814263,  0.03410137]], dtype=float32),\n",
              " 'Winston-Salem is home to the tallest office building in the region, 100 North Main Street, formerly known as the Wachovia Building and now known locally as the Wells Fargo Center.': array([[ 0.09385945,  0.1299926 ,  0.09338624, ...,  0.08617754,\n",
              "         -0.00746811,  0.02782347]], dtype=float32),\n",
              " 'As of the 2020 census, it had a population of 248,325.': array([[ 0.01550439,  0.13912441,  0.07179572, ...,  0.04696308,\n",
              "         -0.03814263,  0.03347   ]], dtype=float32),\n",
              " 'The population density was 3,929.5 inhabitants per square mile Reno is a city in the northwest section of the U.S. state of Nevada, along the Nevada-California border, about 22 miles north from Lake Tahoe, known as \"The Biggest Little City in the World\".�Known for its casino and tourism industry, Reno is the county seat and largest city of Washoe County and sits in the High Eastern Sierra foothills, in the Truckee River valley, on the eastern side of the Sierra Nevada.': array([[ 0.09898705,  0.13786414,  0.13746545, ...,  0.09360662,\n",
              "         -0.03814263,  0.1250998 ]], dtype=float32),\n",
              " 'As of the 2020 census, the population was 249,422, it is the second-most populous independent city in Virginia, tenth-largest in the Mid-Atlantic, and the 90th most populous city in the United States.� Garland is a city in the U.S. state of Texas.': array([[ 0.10859483,  0.13912441,  0.09024884, ...,  0.06350762,\n",
              "         -0.03814262,  0.09323099]], dtype=float32),\n",
              " 'It is located within Dallas County except for small portions located in Collin and Rockwall Counties.': array([[ 0.14244302,  0.05331852,  0.02046392, ...,  0.12128469,\n",
              "         -0.03814263,  0.0791055 ]], dtype=float32),\n",
              " 'Richmond, the capital of Virginia, is among America�s oldest major cities.': array([[ 0.080299  ,  0.13397597,  0.0736036 , ...,  0.08280907,\n",
              "         -0.03814262, -0.01347445]], dtype=float32),\n",
              " \"Founding Father, famously declared �Give me liberty or give me death� at its St. John's Church in 1775, leading to the Revolutionary War.\": array([[ 0.0668707 ,  0.13235973,  0.05121453, ...,  0.04425105,\n",
              "         -0.03814262,  0.1312994 ]], dtype=float32),\n",
              " 'Irving is a Texas city just northwest of Dallas.': array([[ 0.08169595,  0.14028521,  0.04585078, ...,  0.01928005,\n",
              "         -0.03814263,  0.06678917]], dtype=float32),\n",
              " 'Dominating the center of Williams Square is Robert Glen\\'s �Mustangs of Las Colinas,\" a bronze sculpture of 9 wild horses galloping through water.': array([[0.04488685, 0.1399729 , 0.03359575, ..., 0.10912587, 0.01868068,\n",
              "         0.13317962]], dtype=float32),\n",
              " 'As of the 2010 census it had a population of 216,961, with an estimated population of 251,974 in 2019.': array([[ 0.06630694,  0.11138465,  0.0939574 , ...,  0.11286292,\n",
              "         -0.03814262,  0.03411188]], dtype=float32),\n",
              " 'It is the fourth largest city in the state of Nevada.': array([[ 0.089873  ,  0.19782825,  0.03544236, ...,  0.08057302,\n",
              "         -0.02937433, -0.01633093]], dtype=float32),\n",
              " \"It's known for its spa resorts and golf courses, including TPC Scottsdale.\": array([[ 0.07963209,  0.10254943,  0.04233621, ...,  0.1151715 ,\n",
              "         -0.03814263, -0.02350252]], dtype=float32),\n",
              " 'Nearby is Taliesin West, architect Frank Lloyd Wright�s former home and studio.': array([[ 0.10485498,  0.01323054,  0.05286684, ...,  0.02595702,\n",
              "         -0.03814263,  0.15243489]], dtype=float32),\n",
              " 'Baton Rouge is a city on the Mississippi River, and the capital of Louisiana.': array([[ 0.12500687,  0.12486871,  0.11077297, ...,  0.03044201,\n",
              "         -0.03814263,  0.14810082]], dtype=float32),\n",
              " 'LSU Rural Life Museum is a complex of refurbished buildings illustrating 18th- and 19th-century life.': array([[ 0.04089068,  0.08685668,  0.0908962 , ...,  0.14344059,\n",
              "          0.00035637, -0.00292997]], dtype=float32),\n",
              " 'San Bernardino is a city in California, east of Los Angeles.': array([[ 0.1024074 ,  0.17449085,  0.12271552, ...,  0.03195229,\n",
              "         -0.03814262,  0.03415917]], dtype=float32),\n",
              " 'In the city center, Seccombe Lake Park offers playgrounds and fishing.': array([[ 0.05681182,  0.07885414,  0.01853557, ...,  0.03001497,\n",
              "         -0.00877226,  0.10170098]], dtype=float32),\n",
              " 'The resort town of Big Bear Lake, in San Bernardino National Forest, is northeast of the city.� Boise is the capital city of Idaho.': array([[ 0.09229259,  0.13676362,  0.04722018, ...,  0.02857937,\n",
              "         -0.03814263,  0.12367554]], dtype=float32),\n",
              " 'In an art deco building, downtown�s Boise Art Museum has contemporary works and an outdoor sculpture garden.': array([[ 0.06044976,  0.08748876,  0.04450323, ...,  0.01836685,\n",
              "         -0.03282556,  0.06785754]], dtype=float32),\n",
              " 'The Old Idaho Penitentiary contains 19th-century prison cells and gallows, plus historic military weaponry.': array([[ 0.12868851,  0.09591442,  0.0882854 , ...,  0.13295679,\n",
              "         -0.02730593,  0.06261729]], dtype=float32),\n",
              " 'The Niles Essanay Silent Film Museum traces the early days of filmmaking through artifacts and photos.': array([[ 0.0004523 ,  0.09394204,  0.0801426 , ...,  0.04894854,\n",
              "         -0.03814263,  0.02066188]], dtype=float32),\n",
              " 'The Ardenwood Historic Farm demonstrates horse-powered farming, and features a Victorian mansion.': array([[ 0.0901013 ,  0.09733845,  0.02560281, ...,  0.10262091,\n",
              "         -0.03814263,  0.12648545]], dtype=float32),\n",
              " 'In which state is Los Angeles?': array([[ 0.06884657,  0.08740424,  0.12076794, ...,  0.00593783,\n",
              "         -0.03814262, -0.00125304]], dtype=float32),\n",
              " 'What are some iconic thing about the city?': array([[ 0.08044811,  0.06524622,  0.12197173, ...,  0.04424258,\n",
              "         -0.03814263,  0.00673456]], dtype=float32),\n",
              " 'What more could be said about the city?': array([[ 0.02274915,  0.07845166,  0.05628522, ...,  0.03193023,\n",
              "         -0.03814263,  0.0392399 ]], dtype=float32),\n",
              " 'In which state is the city located?': array([[ 0.0985166 ,  0.08740424,  0.02269481, ...,  0.0409457 ,\n",
              "         -0.03814263, -0.02892261]], dtype=float32),\n",
              " 'Are there any museums in the city?': array([[ 0.08917408,  0.06316352,  0.00695522, ...,  0.03842025,\n",
              "         -0.03814263, -0.02555663]], dtype=float32),\n",
              " 'Is there any historic importance about the city?': array([[ 0.02097128,  0.0625665 ,  0.03064851, ...,  0.06433538,\n",
              "         -0.03814263,  0.00233435]], dtype=float32),\n",
              " 'What could be said about the downtown of the city?': array([[ 0.03727284,  0.13571103,  0.04741256, ...,  0.04967427,\n",
              "         -0.03814263,  0.03805955]], dtype=float32),\n",
              " 'Is there anything more about the city?': array([[ 0.02097128,  0.10303998,  0.01842356, ...,  0.0511345 ,\n",
              "         -0.03814263,  0.02204788]], dtype=float32),\n",
              " 'Is the city a capital of any state?': array([[ 0.04474951,  0.13056096,  0.02199302, ..., -0.00139066,\n",
              "         -0.03814263, -0.00674183]], dtype=float32),\n",
              " 'What are the major attraction of San Diego?': array([[ 0.06177381,  0.1281935 ,  0.02073041, ...,  0.01745034,\n",
              "         -0.03814263,  0.00445817]], dtype=float32),\n",
              " 'Is it the capital of any state?': array([[ 0.0357795 ,  0.1445791 ,  0.01179783, ..., -0.0318337 ,\n",
              "         -0.03814263,  0.00498515]], dtype=float32),\n",
              " 'What is the city locally known as?': array([[ 0.08057451,  0.05411832,  0.03877363, ...,  0.01982851,\n",
              "         -0.03814263, -0.00998283]], dtype=float32),\n",
              " 'Is there historic significance of the city?': array([[ 0.02097128,  0.11639378,  0.03394834, ...,  0.06962176,\n",
              "         -0.03814263, -0.00090976]], dtype=float32),\n",
              " 'What states capital is Columbus?': array([[ 0.08939747,  0.06531623,  0.02649093, ...,  0.03678173,\n",
              "         -0.03814263, -0.01157782]], dtype=float32),\n",
              " 'In which state is Detroit located?': array([[ 0.13808599,  0.08740424,  0.02737563, ..., -0.03078202,\n",
              "         -0.03814262,  0.04756541]], dtype=float32),\n",
              " 'In which state is Charlotte located?': array([[ 0.12871611,  0.08740424,  0.09022891, ..., -0.03615949,\n",
              "         -0.03814262,  0.00891656]], dtype=float32),\n",
              " 'What could be said about the demographics of the city?': array([[ 0.03727284,  0.10443081,  0.06861126, ...,  0.0534851 ,\n",
              "         -0.03814263,  0.03989416]], dtype=float32),\n",
              " 'What is the geography of the city?': array([[ 0.0711433 ,  0.09157022,  0.04021022, ...,  0.04700261,\n",
              "         -0.03814263, -0.00931682]], dtype=float32),\n",
              " 'What is the span of the city?': array([[ 0.0711433 ,  0.10825772,  0.02819111, ...,  0.0804568 ,\n",
              "         -0.03814263, -0.00096242]], dtype=float32),\n",
              " 'What are the residents known as?': array([[ 0.06177381,  0.05251949,  0.06744975, ..., -0.01217518,\n",
              "         -0.03814262, -0.01899372]], dtype=float32),\n",
              " 'Which states border the location?': array([[ 0.14440742,  0.08346421,  0.07477341, ...,  0.09944868,\n",
              "         -0.03814263, -0.02431463]], dtype=float32),\n",
              " 'How significant is the city to state?': array([[ 0.04255242,  0.07023542,  0.05091134, ...,  0.00033143,\n",
              "          0.01024332, -0.00486688]], dtype=float32),\n",
              " 'How is the geography of the city?': array([[ 0.0719931 ,  0.08789287,  0.0416686 , ...,  0.04700261,\n",
              "         -0.03814263, -0.00717695]], dtype=float32),\n",
              " 'Where is the  city situated?': array([[ 0.11198355,  0.04470092,  0.015366  , ...,  0.03308641,\n",
              "         -0.03814263, -0.0289226 ]], dtype=float32),\n",
              " 'Which state is the city located?': array([[ 0.10842655,  0.06191112,  0.01607198, ...,  0.04094569,\n",
              "         -0.03814262, -0.0289226 ]], dtype=float32),\n",
              " 'When and how is the city founded?': array([[ 0.0447504 ,  0.04379855,  0.03698121, ...,  0.02627167,\n",
              "         -0.03814263,  0.03349103]], dtype=float32),\n",
              " 'What could be said about the museums in the city?': array([[ 0.04937839,  0.07859112,  0.04007443, ...,  0.05732136,\n",
              "         -0.03814263,  0.03674872]], dtype=float32),\n",
              " 'Could we know anything about the museums in the city?': array([[ 0.06653238,  0.08714853,  0.02320629, ...,  0.05732136,\n",
              "         -0.03814263,  0.03465813]], dtype=float32),\n",
              " 'What is the capital of North Carolina?': array([[ 0.0711433 ,  0.21526931,  0.02803397, ..., -0.01858059,\n",
              "         -0.03814263,  0.01194354]], dtype=float32),\n",
              " 'What could be said about the location of the city?': array([[ 0.03727284,  0.10442888,  0.07816598, ...,  0.0421098 ,\n",
              "         -0.03814263,  0.03534511]], dtype=float32),\n",
              " 'In which state is oakland located?': array([[ 0.10181415,  0.08740424,  0.01053773, ..., -0.02345455,\n",
              "         -0.03814262, -0.0289226 ]], dtype=float32),\n",
              " 'What is the speciality of the museum in the city?': array([[ 0.07410904,  0.13669786,  0.04142641, ...,  0.05873243,\n",
              "         -0.03753838,  0.00202495]], dtype=float32),\n",
              " 'What is the city also known as?': array([[ 0.0711433 ,  0.05411832,  0.06100398, ..., -0.02914139,\n",
              "         -0.03814263, -0.01112322]], dtype=float32),\n",
              " 'Which county is the city?': array([[ 0.09330739,  0.04893919,  0.01869674, ...,  0.03339846,\n",
              "         -0.03814263, -0.00710516]], dtype=float32),\n",
              " 'Which state is the city in?': array([[ 0.09268935,  0.06191112,  0.02170805, ...,  0.01517469,\n",
              "         -0.02595412, -0.0289226 ]], dtype=float32),\n",
              " 'What is the city?': array([[ 0.0711433 ,  0.05411832,  0.01857761, ...,  0.01520706,\n",
              "         -0.03814263, -0.00970917]], dtype=float32),\n",
              " 'What is the city known for?\\n': array([[ 0.0711433 ,  0.05411832,  0.04241567, ...,  0.00583017,\n",
              "         -0.03814262, -0.01066381]], dtype=float32),\n",
              " 'What are some of the famous museums in Greensboro? ': array([[ 0.07202607,  0.1332936 ,  0.06166083, ...,  0.0695983 ,\n",
              "         -0.03814263, -0.00417812]], dtype=float32),\n",
              " 'What are the pro sports teams based in Anaheim?': array([[ 0.09290797,  0.06058948, -0.01426548, ...,  0.02970023,\n",
              "         -0.03814263,  0.04600519]], dtype=float32),\n",
              " 'What are some famous museums in Cincinnati?': array([[ 0.09051964,  0.04468318,  0.05449577, ...,  0.11278936,\n",
              "         -0.03814263,  0.03364277]], dtype=float32),\n",
              " 'What are some of the famous museums in Plano Texas?': array([[ 0.07202607,  0.1332936 ,  0.05100774, ...,  0.0800326 ,\n",
              "         -0.03814263,  0.10316405]], dtype=float32),\n",
              " 'What are some of the most famous theme parks in Orlando?': array([[ 0.08382944,  0.1332936 ,  0.0951784 , ...,  0.1040552 ,\n",
              "         -0.03814263, -0.00053468]], dtype=float32),\n",
              " 'What are some of the famous museums in Toledo?': array([[ 0.07202607,  0.1332936 ,  0.05100774, ...,  0.07638768,\n",
              "         -0.03814263, -0.00440951]], dtype=float32),\n",
              " 'What are some of the famous museums in Irvine?\\n': array([[ 0.07202607,  0.1332936 ,  0.05100774, ...,  0.07741677,\n",
              "         -0.03814263,  0.02105553]], dtype=float32),\n",
              " 'What are some of the museums of in Durham?\\n': array([[ 0.06177381,  0.1332936 ,  0.05017772, ...,  0.05901857,\n",
              "         -0.03814263,  0.00064253]], dtype=float32),\n",
              " 'What are some of the famous museums in Norfolk?\\n': array([[ 0.07202607,  0.1332936 ,  0.05100774, ...,  0.0809195 ,\n",
              "         -0.03814263, -0.00527433]], dtype=float32),\n",
              " 'What are some of the major attractions in Scottsdale Arizona?': array([[ 0.09740407,  0.15221   ,  0.04637941, ...,  0.05081697,\n",
              "         -0.03814263,  0.0214076 ]], dtype=float32)}"
            ]
          },
          "metadata": {},
          "execution_count": 71
        }
      ]
    },
    {
      "cell_type": "code",
      "source": [
        "with open('Vineet/dict_embeddings1.pickle', 'wb') as handle:\n",
        "    pickle.dump(d1, handle)"
      ],
      "metadata": {
        "id": "w3v__WJ5OWUN"
      },
      "execution_count": 76,
      "outputs": []
    },
    {
      "cell_type": "code",
      "source": [
        "with open('Vineet/dict_embeddings2.pickle', 'wb') as handle:\n",
        "    pickle.dump(d2, handle)"
      ],
      "metadata": {
        "id": "73IAGLb_Oj39"
      },
      "execution_count": 77,
      "outputs": []
    },
    {
      "cell_type": "code",
      "source": [],
      "metadata": {
        "id": "9vWJTjjhWYHJ"
      },
      "execution_count": null,
      "outputs": []
    }
  ]
}