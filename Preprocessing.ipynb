{
  "cells": [
    {
      "cell_type": "code",
      "execution_count": null,
      "id": "16712adb",
      "metadata": {
        "id": "16712adb"
      },
      "outputs": [],
      "source": [
        "import requests\n",
        "import json\n",
        "import pandas as pd"
      ]
    },
    {
      "cell_type": "code",
      "execution_count": null,
      "id": "c5b62890",
      "metadata": {
        "id": "c5b62890",
        "outputId": "05238fec-3d21-4841-c483-7993a2b7eaa7",
        "colab": {
          "base_uri": "https://localhost:8080/"
        }
      },
      "outputs": [
        {
          "output_type": "stream",
          "name": "stdout",
          "text": [
            "--2022-11-19 17:13:33--  https://raw.githubusercontent.com/rajpurkar/SQuAD-explorer/master/dataset/train-v1.1.json\n",
            "Resolving raw.githubusercontent.com (raw.githubusercontent.com)... 185.199.108.133, 185.199.109.133, 185.199.110.133, ...\n",
            "Connecting to raw.githubusercontent.com (raw.githubusercontent.com)|185.199.108.133|:443... connected.\n",
            "HTTP request sent, awaiting response... 200 OK\n",
            "Length: 30288272 (29M) [text/plain]\n",
            "Saving to: ‘train-v1.1.json’\n",
            "\n",
            "train-v1.1.json     100%[===================>]  28.88M  --.-KB/s    in 0.1s    \n",
            "\n",
            "2022-11-19 17:13:35 (300 MB/s) - ‘train-v1.1.json’ saved [30288272/30288272]\n",
            "\n"
          ]
        }
      ],
      "source": [
        "#importing the dataset into the notebook\n",
        "!wget 'https://raw.githubusercontent.com/rajpurkar/SQuAD-explorer/master/dataset/train-v1.1.json'\n",
        "with open(\"train-v1.1.json\") as f:\n",
        "  squad = json.load(f)"
      ]
    },
    {
      "cell_type": "code",
      "execution_count": null,
      "id": "770f496c",
      "metadata": {
        "id": "770f496c",
        "outputId": "dfd10902-3582-4fca-b4ef-d57af3b551e9",
        "colab": {
          "base_uri": "https://localhost:8080/"
        }
      },
      "outputs": [
        {
          "output_type": "execute_result",
          "data": {
            "text/plain": [
              "dict_keys(['title', 'paragraphs'])"
            ]
          },
          "metadata": {},
          "execution_count": 4
        }
      ],
      "source": [
        "squad['data'][0].keys()"
      ]
    },
    {
      "cell_type": "markdown",
      "id": "56ad31ab",
      "metadata": {
        "id": "56ad31ab"
      },
      "source": [
        "As we can see there are two keys in the dataset, title and paragraph "
      ]
    },
    {
      "cell_type": "markdown",
      "id": "1a37e170",
      "metadata": {
        "id": "1a37e170"
      },
      "source": [
        "Each title has many paragraph inside it, and for each paragraph there are many questions and corresponding answers."
      ]
    },
    {
      "cell_type": "markdown",
      "id": "ebb8e575",
      "metadata": {
        "id": "ebb8e575"
      },
      "source": [
        "So there are 35 rows with title and paragraph keys in this dataset"
      ]
    },
    {
      "cell_type": "markdown",
      "id": "1fd4b2c0",
      "metadata": {
        "id": "1fd4b2c0"
      },
      "source": [
        "## Preprocesing"
      ]
    },
    {
      "cell_type": "markdown",
      "id": "ab8a8a30",
      "metadata": {
        "id": "ab8a8a30"
      },
      "source": [
        "Since the dataset is created by us using the annotation tool as explained in the proposal. There is no pre-processing required. "
      ]
    },
    {
      "cell_type": "code",
      "execution_count": null,
      "id": "56149062",
      "metadata": {
        "id": "56149062"
      },
      "outputs": [],
      "source": []
    }
  ],
  "metadata": {
    "kernelspec": {
      "display_name": "Python 3 (ipykernel)",
      "language": "python",
      "name": "python3"
    },
    "language_info": {
      "codemirror_mode": {
        "name": "ipython",
        "version": 3
      },
      "file_extension": ".py",
      "mimetype": "text/x-python",
      "name": "python",
      "nbconvert_exporter": "python",
      "pygments_lexer": "ipython3",
      "version": "3.9.12"
    },
    "colab": {
      "provenance": []
    }
  },
  "nbformat": 4,
  "nbformat_minor": 5
}