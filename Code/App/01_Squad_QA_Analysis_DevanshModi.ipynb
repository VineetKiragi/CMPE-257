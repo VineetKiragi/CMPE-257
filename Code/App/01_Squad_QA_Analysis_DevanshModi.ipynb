{
  "cells": [
    {
      "cell_type": "code",
      "execution_count": 20,
      "id": "16712adb",
      "metadata": {
        "id": "16712adb"
      },
      "outputs": [],
      "source": [
        "import requests\n",
        "import json\n",
        "import pandas as pd\n",
        "from sklearn.feature_extraction.text import TfidfVectorizer\n",
        "from sklearn.neighbors import NearestNeighbors"
      ]
    },
    {
      "cell_type": "markdown",
      "source": [
        "## Initial Analysis of Squad Data Format"
      ],
      "metadata": {
        "id": "wp9AfHFgUHj9"
      },
      "id": "wp9AfHFgUHj9"
    },
    {
      "cell_type": "code",
      "execution_count": 2,
      "id": "c5b62890",
      "metadata": {
        "id": "c5b62890",
        "outputId": "7569a4a1-ecd6-4663-ba59-48b273c99408",
        "colab": {
          "base_uri": "https://localhost:8080/"
        }
      },
      "outputs": [
        {
          "output_type": "stream",
          "name": "stdout",
          "text": [
            "--2022-12-07 01:53:15--  https://raw.githubusercontent.com/rajpurkar/SQuAD-explorer/master/dataset/train-v1.1.json\n",
            "Resolving raw.githubusercontent.com (raw.githubusercontent.com)... 185.199.108.133, 185.199.111.133, 185.199.109.133, ...\n",
            "Connecting to raw.githubusercontent.com (raw.githubusercontent.com)|185.199.108.133|:443... connected.\n",
            "HTTP request sent, awaiting response... 200 OK\n",
            "Length: 30288272 (29M) [text/plain]\n",
            "Saving to: ‘train-v1.1.json’\n",
            "\n",
            "train-v1.1.json     100%[===================>]  28.88M  79.6MB/s    in 0.4s    \n",
            "\n",
            "2022-12-07 01:53:19 (79.6 MB/s) - ‘train-v1.1.json’ saved [30288272/30288272]\n",
            "\n"
          ]
        }
      ],
      "source": [
        "#importing the dataset into the notebook\n",
        "!wget 'https://raw.githubusercontent.com/rajpurkar/SQuAD-explorer/master/dataset/train-v1.1.json'\n",
        "with open(\"train-v1.1.json\") as f:\n",
        "  squad = json.load(f)"
      ]
    },
    {
      "cell_type": "code",
      "execution_count": 3,
      "id": "770f496c",
      "metadata": {
        "id": "770f496c",
        "outputId": "83d0877f-e031-441b-8be2-9feb161fbaad",
        "colab": {
          "base_uri": "https://localhost:8080/"
        }
      },
      "outputs": [
        {
          "output_type": "execute_result",
          "data": {
            "text/plain": [
              "dict_keys(['title', 'paragraphs'])"
            ]
          },
          "metadata": {},
          "execution_count": 3
        }
      ],
      "source": [
        "squad['data'][0].keys()"
      ]
    },
    {
      "cell_type": "markdown",
      "id": "56ad31ab",
      "metadata": {
        "id": "56ad31ab"
      },
      "source": [
        "As we can see there are two keys in the dataset, title and paragraph "
      ]
    },
    {
      "cell_type": "markdown",
      "id": "1a37e170",
      "metadata": {
        "id": "1a37e170"
      },
      "source": [
        "Each title has many paragraph inside it, and for each paragraph there are many questions and corresponding answers."
      ]
    },
    {
      "cell_type": "markdown",
      "id": "ebb8e575",
      "metadata": {
        "id": "ebb8e575"
      },
      "source": [
        "So there are 35 rows with title and paragraph keys in this dataset"
      ]
    },
    {
      "cell_type": "markdown",
      "id": "1fd4b2c0",
      "metadata": {
        "id": "1fd4b2c0"
      },
      "source": [
        "## Preprocesing"
      ]
    },
    {
      "cell_type": "code",
      "source": [
        "import json"
      ],
      "metadata": {
        "id": "VTbMVkVaZpKA"
      },
      "id": "VTbMVkVaZpKA",
      "execution_count": 4,
      "outputs": []
    },
    {
      "cell_type": "code",
      "source": [
        "from google.colab import drive\n",
        "drive.mount('/content/drive')"
      ],
      "metadata": {
        "id": "cn1J9jGWUZ5U",
        "outputId": "084ad51a-8d1b-4108-8b18-6b0d12dec5c2",
        "colab": {
          "base_uri": "https://localhost:8080/"
        }
      },
      "id": "cn1J9jGWUZ5U",
      "execution_count": 5,
      "outputs": [
        {
          "output_type": "stream",
          "name": "stdout",
          "text": [
            "Mounted at /content/drive\n"
          ]
        }
      ]
    },
    {
      "cell_type": "code",
      "source": [
        "# This file has been saved in my Google Drive\n",
        "with open('/content/drive/MyDrive/merged_file.json', 'rb') as f:\n",
        "  val_data= json.load(f)\n",
        "\n",
        "print('Size of the complete dataset ' + str(len(val_data['data'])))"
      ],
      "metadata": {
        "id": "2gKwVb9AURYz",
        "outputId": "0db8331a-5768-44ca-adcb-d40d628e18a6",
        "colab": {
          "base_uri": "https://localhost:8080/"
        }
      },
      "id": "2gKwVb9AURYz",
      "execution_count": 6,
      "outputs": [
        {
          "output_type": "stream",
          "name": "stdout",
          "text": [
            "Size of the complete dataset 151\n"
          ]
        }
      ]
    },
    {
      "cell_type": "code",
      "source": [
        "import numpy as np\n",
        "import pandas as pd"
      ],
      "metadata": {
        "id": "jnhlc13ha6ub"
      },
      "id": "jnhlc13ha6ub",
      "execution_count": 7,
      "outputs": []
    },
    {
      "cell_type": "code",
      "execution_count": 8,
      "id": "56149062",
      "metadata": {
        "id": "56149062"
      },
      "outputs": [],
      "source": [
        "def squad_to_df(path):\n",
        "    file = json.loads(open(path).read())\n",
        "\n",
        "    json_data = pd.json_normalize(file, 'data')\n",
        "    qas = pd.json_normalize(file, ['data','paragraphs','qas'])\n",
        "    context = pd.json_normalize(file,['data','paragraphs'])\n",
        "    \n",
        "    #print(r['context'].values)\n",
        "\n",
        "    contexts = np.repeat(context['context'].values, context.qas.str.len())\n",
        "    qas['context'] = contexts\n",
        "\n",
        "    data = qas[['id','question','context','answers']].set_index('id').reset_index()\n",
        "    data['context_id'] = data['context'].factorize()[0]\n",
        "    \n",
        "    return data"
      ]
    },
    {
      "cell_type": "code",
      "source": [
        "data = squad_to_df('/content/drive/MyDrive/merged_file.json')\n",
        "data.head()"
      ],
      "metadata": {
        "id": "MyuTVz7YbzCg",
        "outputId": "1b503bd3-7925-4bfd-c4a3-3e5d302f9a01",
        "colab": {
          "base_uri": "https://localhost:8080/",
          "height": 206
        }
      },
      "id": "MyuTVz7YbzCg",
      "execution_count": 9,
      "outputs": [
        {
          "output_type": "execute_result",
          "data": {
            "text/plain": [
              "       id                                       question  \\\n",
              "0  597553                 In which state is Los Angeles?   \n",
              "1  597555          What more can be told about the city?   \n",
              "2  597559     What are some iconic thing about the city?   \n",
              "3  597559     What are some iconic thing about the city?   \n",
              "4  598541  What could be said the geography of the city?   \n",
              "\n",
              "                                             context  \\\n",
              "0  Los Angeles is a sprawling Southern California...   \n",
              "1  Los Angeles is a sprawling Southern California...   \n",
              "2  Los Angeles is a sprawling Southern California...   \n",
              "3  New York City comprises 5 boroughs sitting whe...   \n",
              "4  New York City comprises 5 boroughs sitting whe...   \n",
              "\n",
              "                                             answers  context_id  \n",
              "0  [{'answer_id': 647225, 'document_id': 1202512,...           0  \n",
              "1  [{'answer_id': 647227, 'document_id': 1202512,...           0  \n",
              "2  [{'answer_id': 647232, 'document_id': 1202512,...           0  \n",
              "3  [{'answer_id': 647231, 'document_id': 1202511,...           1  \n",
              "4  [{'answer_id': 650227, 'document_id': 1202511,...           1  "
            ],
            "text/html": [
              "\n",
              "  <div id=\"df-68e29e71-3dc0-4962-b22f-ecba79f6a51e\">\n",
              "    <div class=\"colab-df-container\">\n",
              "      <div>\n",
              "<style scoped>\n",
              "    .dataframe tbody tr th:only-of-type {\n",
              "        vertical-align: middle;\n",
              "    }\n",
              "\n",
              "    .dataframe tbody tr th {\n",
              "        vertical-align: top;\n",
              "    }\n",
              "\n",
              "    .dataframe thead th {\n",
              "        text-align: right;\n",
              "    }\n",
              "</style>\n",
              "<table border=\"1\" class=\"dataframe\">\n",
              "  <thead>\n",
              "    <tr style=\"text-align: right;\">\n",
              "      <th></th>\n",
              "      <th>id</th>\n",
              "      <th>question</th>\n",
              "      <th>context</th>\n",
              "      <th>answers</th>\n",
              "      <th>context_id</th>\n",
              "    </tr>\n",
              "  </thead>\n",
              "  <tbody>\n",
              "    <tr>\n",
              "      <th>0</th>\n",
              "      <td>597553</td>\n",
              "      <td>In which state is Los Angeles?</td>\n",
              "      <td>Los Angeles is a sprawling Southern California...</td>\n",
              "      <td>[{'answer_id': 647225, 'document_id': 1202512,...</td>\n",
              "      <td>0</td>\n",
              "    </tr>\n",
              "    <tr>\n",
              "      <th>1</th>\n",
              "      <td>597555</td>\n",
              "      <td>What more can be told about the city?</td>\n",
              "      <td>Los Angeles is a sprawling Southern California...</td>\n",
              "      <td>[{'answer_id': 647227, 'document_id': 1202512,...</td>\n",
              "      <td>0</td>\n",
              "    </tr>\n",
              "    <tr>\n",
              "      <th>2</th>\n",
              "      <td>597559</td>\n",
              "      <td>What are some iconic thing about the city?</td>\n",
              "      <td>Los Angeles is a sprawling Southern California...</td>\n",
              "      <td>[{'answer_id': 647232, 'document_id': 1202512,...</td>\n",
              "      <td>0</td>\n",
              "    </tr>\n",
              "    <tr>\n",
              "      <th>3</th>\n",
              "      <td>597559</td>\n",
              "      <td>What are some iconic thing about the city?</td>\n",
              "      <td>New York City comprises 5 boroughs sitting whe...</td>\n",
              "      <td>[{'answer_id': 647231, 'document_id': 1202511,...</td>\n",
              "      <td>1</td>\n",
              "    </tr>\n",
              "    <tr>\n",
              "      <th>4</th>\n",
              "      <td>598541</td>\n",
              "      <td>What could be said the geography of the city?</td>\n",
              "      <td>New York City comprises 5 boroughs sitting whe...</td>\n",
              "      <td>[{'answer_id': 650227, 'document_id': 1202511,...</td>\n",
              "      <td>1</td>\n",
              "    </tr>\n",
              "  </tbody>\n",
              "</table>\n",
              "</div>\n",
              "      <button class=\"colab-df-convert\" onclick=\"convertToInteractive('df-68e29e71-3dc0-4962-b22f-ecba79f6a51e')\"\n",
              "              title=\"Convert this dataframe to an interactive table.\"\n",
              "              style=\"display:none;\">\n",
              "        \n",
              "  <svg xmlns=\"http://www.w3.org/2000/svg\" height=\"24px\"viewBox=\"0 0 24 24\"\n",
              "       width=\"24px\">\n",
              "    <path d=\"M0 0h24v24H0V0z\" fill=\"none\"/>\n",
              "    <path d=\"M18.56 5.44l.94 2.06.94-2.06 2.06-.94-2.06-.94-.94-2.06-.94 2.06-2.06.94zm-11 1L8.5 8.5l.94-2.06 2.06-.94-2.06-.94L8.5 2.5l-.94 2.06-2.06.94zm10 10l.94 2.06.94-2.06 2.06-.94-2.06-.94-.94-2.06-.94 2.06-2.06.94z\"/><path d=\"M17.41 7.96l-1.37-1.37c-.4-.4-.92-.59-1.43-.59-.52 0-1.04.2-1.43.59L10.3 9.45l-7.72 7.72c-.78.78-.78 2.05 0 2.83L4 21.41c.39.39.9.59 1.41.59.51 0 1.02-.2 1.41-.59l7.78-7.78 2.81-2.81c.8-.78.8-2.07 0-2.86zM5.41 20L4 18.59l7.72-7.72 1.47 1.35L5.41 20z\"/>\n",
              "  </svg>\n",
              "      </button>\n",
              "      \n",
              "  <style>\n",
              "    .colab-df-container {\n",
              "      display:flex;\n",
              "      flex-wrap:wrap;\n",
              "      gap: 12px;\n",
              "    }\n",
              "\n",
              "    .colab-df-convert {\n",
              "      background-color: #E8F0FE;\n",
              "      border: none;\n",
              "      border-radius: 50%;\n",
              "      cursor: pointer;\n",
              "      display: none;\n",
              "      fill: #1967D2;\n",
              "      height: 32px;\n",
              "      padding: 0 0 0 0;\n",
              "      width: 32px;\n",
              "    }\n",
              "\n",
              "    .colab-df-convert:hover {\n",
              "      background-color: #E2EBFA;\n",
              "      box-shadow: 0px 1px 2px rgba(60, 64, 67, 0.3), 0px 1px 3px 1px rgba(60, 64, 67, 0.15);\n",
              "      fill: #174EA6;\n",
              "    }\n",
              "\n",
              "    [theme=dark] .colab-df-convert {\n",
              "      background-color: #3B4455;\n",
              "      fill: #D2E3FC;\n",
              "    }\n",
              "\n",
              "    [theme=dark] .colab-df-convert:hover {\n",
              "      background-color: #434B5C;\n",
              "      box-shadow: 0px 1px 3px 1px rgba(0, 0, 0, 0.15);\n",
              "      filter: drop-shadow(0px 1px 2px rgba(0, 0, 0, 0.3));\n",
              "      fill: #FFFFFF;\n",
              "    }\n",
              "  </style>\n",
              "\n",
              "      <script>\n",
              "        const buttonEl =\n",
              "          document.querySelector('#df-68e29e71-3dc0-4962-b22f-ecba79f6a51e button.colab-df-convert');\n",
              "        buttonEl.style.display =\n",
              "          google.colab.kernel.accessAllowed ? 'block' : 'none';\n",
              "\n",
              "        async function convertToInteractive(key) {\n",
              "          const element = document.querySelector('#df-68e29e71-3dc0-4962-b22f-ecba79f6a51e');\n",
              "          const dataTable =\n",
              "            await google.colab.kernel.invokeFunction('convertToInteractive',\n",
              "                                                     [key], {});\n",
              "          if (!dataTable) return;\n",
              "\n",
              "          const docLinkHtml = 'Like what you see? Visit the ' +\n",
              "            '<a target=\"_blank\" href=https://colab.research.google.com/notebooks/data_table.ipynb>data table notebook</a>'\n",
              "            + ' to learn more about interactive tables.';\n",
              "          element.innerHTML = '';\n",
              "          dataTable['output_type'] = 'display_data';\n",
              "          await google.colab.output.renderOutput(dataTable, element);\n",
              "          const docLink = document.createElement('div');\n",
              "          docLink.innerHTML = docLinkHtml;\n",
              "          element.appendChild(docLink);\n",
              "        }\n",
              "      </script>\n",
              "    </div>\n",
              "  </div>\n",
              "  "
            ]
          },
          "metadata": {},
          "execution_count": 9
        }
      ]
    },
    {
      "cell_type": "markdown",
      "source": [
        "## Get Unique Documents"
      ],
      "metadata": {
        "id": "x-PB_fIEgYvQ"
      },
      "id": "x-PB_fIEgYvQ"
    },
    {
      "cell_type": "code",
      "source": [
        "data[['context']].drop_duplicates().reset_index(drop=True)"
      ],
      "metadata": {
        "id": "rBWnJ8qjgbRR",
        "outputId": "c263fcc3-017e-4100-e924-0ae4cc5f5350",
        "colab": {
          "base_uri": "https://localhost:8080/",
          "height": 423
        }
      },
      "id": "rBWnJ8qjgbRR",
      "execution_count": 10,
      "outputs": [
        {
          "output_type": "execute_result",
          "data": {
            "text/plain": [
              "                                               context\n",
              "0    Los Angeles is a sprawling Southern California...\n",
              "1    New York City comprises 5 boroughs sitting whe...\n",
              "2    Philadelphia, Pennsylvania’s largest city, is ...\n",
              "3    Chicago, on Lake Michigan in Illinois, is amon...\n",
              "4    Houston is a large metropolis in Texas, extend...\n",
              "..                                                 ...\n",
              "146  Rochester is a city on Lake Ontario, in New Yo...\n",
              "147  Des Moines is the capital city of Iowa. The go...\n",
              "148  Moreno Valley is a city in Riverside County, C...\n",
              "149  Oxnard is a seaside city west of Los Angeles, ...\n",
              "150  Columbus is a city in western Georgia. The Cha...\n",
              "\n",
              "[151 rows x 1 columns]"
            ],
            "text/html": [
              "\n",
              "  <div id=\"df-8fb01533-9852-4928-9c7c-ee17f886f10b\">\n",
              "    <div class=\"colab-df-container\">\n",
              "      <div>\n",
              "<style scoped>\n",
              "    .dataframe tbody tr th:only-of-type {\n",
              "        vertical-align: middle;\n",
              "    }\n",
              "\n",
              "    .dataframe tbody tr th {\n",
              "        vertical-align: top;\n",
              "    }\n",
              "\n",
              "    .dataframe thead th {\n",
              "        text-align: right;\n",
              "    }\n",
              "</style>\n",
              "<table border=\"1\" class=\"dataframe\">\n",
              "  <thead>\n",
              "    <tr style=\"text-align: right;\">\n",
              "      <th></th>\n",
              "      <th>context</th>\n",
              "    </tr>\n",
              "  </thead>\n",
              "  <tbody>\n",
              "    <tr>\n",
              "      <th>0</th>\n",
              "      <td>Los Angeles is a sprawling Southern California...</td>\n",
              "    </tr>\n",
              "    <tr>\n",
              "      <th>1</th>\n",
              "      <td>New York City comprises 5 boroughs sitting whe...</td>\n",
              "    </tr>\n",
              "    <tr>\n",
              "      <th>2</th>\n",
              "      <td>Philadelphia, Pennsylvania’s largest city, is ...</td>\n",
              "    </tr>\n",
              "    <tr>\n",
              "      <th>3</th>\n",
              "      <td>Chicago, on Lake Michigan in Illinois, is amon...</td>\n",
              "    </tr>\n",
              "    <tr>\n",
              "      <th>4</th>\n",
              "      <td>Houston is a large metropolis in Texas, extend...</td>\n",
              "    </tr>\n",
              "    <tr>\n",
              "      <th>...</th>\n",
              "      <td>...</td>\n",
              "    </tr>\n",
              "    <tr>\n",
              "      <th>146</th>\n",
              "      <td>Rochester is a city on Lake Ontario, in New Yo...</td>\n",
              "    </tr>\n",
              "    <tr>\n",
              "      <th>147</th>\n",
              "      <td>Des Moines is the capital city of Iowa. The go...</td>\n",
              "    </tr>\n",
              "    <tr>\n",
              "      <th>148</th>\n",
              "      <td>Moreno Valley is a city in Riverside County, C...</td>\n",
              "    </tr>\n",
              "    <tr>\n",
              "      <th>149</th>\n",
              "      <td>Oxnard is a seaside city west of Los Angeles, ...</td>\n",
              "    </tr>\n",
              "    <tr>\n",
              "      <th>150</th>\n",
              "      <td>Columbus is a city in western Georgia. The Cha...</td>\n",
              "    </tr>\n",
              "  </tbody>\n",
              "</table>\n",
              "<p>151 rows × 1 columns</p>\n",
              "</div>\n",
              "      <button class=\"colab-df-convert\" onclick=\"convertToInteractive('df-8fb01533-9852-4928-9c7c-ee17f886f10b')\"\n",
              "              title=\"Convert this dataframe to an interactive table.\"\n",
              "              style=\"display:none;\">\n",
              "        \n",
              "  <svg xmlns=\"http://www.w3.org/2000/svg\" height=\"24px\"viewBox=\"0 0 24 24\"\n",
              "       width=\"24px\">\n",
              "    <path d=\"M0 0h24v24H0V0z\" fill=\"none\"/>\n",
              "    <path d=\"M18.56 5.44l.94 2.06.94-2.06 2.06-.94-2.06-.94-.94-2.06-.94 2.06-2.06.94zm-11 1L8.5 8.5l.94-2.06 2.06-.94-2.06-.94L8.5 2.5l-.94 2.06-2.06.94zm10 10l.94 2.06.94-2.06 2.06-.94-2.06-.94-.94-2.06-.94 2.06-2.06.94z\"/><path d=\"M17.41 7.96l-1.37-1.37c-.4-.4-.92-.59-1.43-.59-.52 0-1.04.2-1.43.59L10.3 9.45l-7.72 7.72c-.78.78-.78 2.05 0 2.83L4 21.41c.39.39.9.59 1.41.59.51 0 1.02-.2 1.41-.59l7.78-7.78 2.81-2.81c.8-.78.8-2.07 0-2.86zM5.41 20L4 18.59l7.72-7.72 1.47 1.35L5.41 20z\"/>\n",
              "  </svg>\n",
              "      </button>\n",
              "      \n",
              "  <style>\n",
              "    .colab-df-container {\n",
              "      display:flex;\n",
              "      flex-wrap:wrap;\n",
              "      gap: 12px;\n",
              "    }\n",
              "\n",
              "    .colab-df-convert {\n",
              "      background-color: #E8F0FE;\n",
              "      border: none;\n",
              "      border-radius: 50%;\n",
              "      cursor: pointer;\n",
              "      display: none;\n",
              "      fill: #1967D2;\n",
              "      height: 32px;\n",
              "      padding: 0 0 0 0;\n",
              "      width: 32px;\n",
              "    }\n",
              "\n",
              "    .colab-df-convert:hover {\n",
              "      background-color: #E2EBFA;\n",
              "      box-shadow: 0px 1px 2px rgba(60, 64, 67, 0.3), 0px 1px 3px 1px rgba(60, 64, 67, 0.15);\n",
              "      fill: #174EA6;\n",
              "    }\n",
              "\n",
              "    [theme=dark] .colab-df-convert {\n",
              "      background-color: #3B4455;\n",
              "      fill: #D2E3FC;\n",
              "    }\n",
              "\n",
              "    [theme=dark] .colab-df-convert:hover {\n",
              "      background-color: #434B5C;\n",
              "      box-shadow: 0px 1px 3px 1px rgba(0, 0, 0, 0.15);\n",
              "      filter: drop-shadow(0px 1px 2px rgba(0, 0, 0, 0.3));\n",
              "      fill: #FFFFFF;\n",
              "    }\n",
              "  </style>\n",
              "\n",
              "      <script>\n",
              "        const buttonEl =\n",
              "          document.querySelector('#df-8fb01533-9852-4928-9c7c-ee17f886f10b button.colab-df-convert');\n",
              "        buttonEl.style.display =\n",
              "          google.colab.kernel.accessAllowed ? 'block' : 'none';\n",
              "\n",
              "        async function convertToInteractive(key) {\n",
              "          const element = document.querySelector('#df-8fb01533-9852-4928-9c7c-ee17f886f10b');\n",
              "          const dataTable =\n",
              "            await google.colab.kernel.invokeFunction('convertToInteractive',\n",
              "                                                     [key], {});\n",
              "          if (!dataTable) return;\n",
              "\n",
              "          const docLinkHtml = 'Like what you see? Visit the ' +\n",
              "            '<a target=\"_blank\" href=https://colab.research.google.com/notebooks/data_table.ipynb>data table notebook</a>'\n",
              "            + ' to learn more about interactive tables.';\n",
              "          element.innerHTML = '';\n",
              "          dataTable['output_type'] = 'display_data';\n",
              "          await google.colab.output.renderOutput(dataTable, element);\n",
              "          const docLink = document.createElement('div');\n",
              "          docLink.innerHTML = docLinkHtml;\n",
              "          element.appendChild(docLink);\n",
              "        }\n",
              "      </script>\n",
              "    </div>\n",
              "  </div>\n",
              "  "
            ]
          },
          "metadata": {},
          "execution_count": 10
        }
      ]
    },
    {
      "cell_type": "code",
      "source": [
        "vectorizer_cnf = {\n",
        "    'lowercase': True,\n",
        "    'stop_words': 'english',\n",
        "    'analyzer': 'word',\n",
        "    'binary': True,\n",
        "}\n",
        "\n",
        "nn_cnf = {\n",
        "    'n_neighbors': 4,\n",
        "    'metric': 'cosine' #'euclidean'\n",
        "}\n",
        "\n",
        "embedding = TfidfVectorizer(**vectorizer_cnf)\n",
        "nearest_neighbor = NearestNeighbors(**nn_cnf)"
      ],
      "metadata": {
        "id": "jQb4KXy4Xbhx"
      },
      "id": "jQb4KXy4Xbhx",
      "execution_count": 38,
      "outputs": []
    },
    {
      "cell_type": "code",
      "source": [
        "import sklearn\n",
        "sorted(sklearn.neighbors.VALID_METRICS['brute'])"
      ],
      "metadata": {
        "id": "M60oWdioaSyi"
      },
      "id": "M60oWdioaSyi",
      "execution_count": null,
      "outputs": []
    },
    {
      "cell_type": "code",
      "source": [
        "X = embedding.fit_transform(data['context'])\n",
        "nearest_neighbor.fit(X, data['context_id'])"
      ],
      "metadata": {
        "colab": {
          "base_uri": "https://localhost:8080/"
        },
        "id": "UkMe6_xhXjx_",
        "outputId": "919fff2e-fd31-46d3-9a01-37b3845494ef"
      },
      "id": "UkMe6_xhXjx_",
      "execution_count": 39,
      "outputs": [
        {
          "output_type": "execute_result",
          "data": {
            "text/plain": [
              "NearestNeighbors(metric='cosine', n_neighbors=4)"
            ]
          },
          "metadata": {},
          "execution_count": 39
        }
      ]
    },
    {
      "cell_type": "code",
      "source": [
        "text = 'What are the most popular things in Houston?'\n",
        "\n",
        "vector = embedding.transform([text])\n",
        "vector = embedding.inverse_transform(vector)\n",
        "\n",
        "vector"
      ],
      "metadata": {
        "colab": {
          "base_uri": "https://localhost:8080/"
        },
        "id": "RdAeQkGOXuWO",
        "outputId": "ffa9e6ff-8d4e-4898-e38e-89a765579c72"
      },
      "id": "RdAeQkGOXuWO",
      "execution_count": 45,
      "outputs": [
        {
          "output_type": "execute_result",
          "data": {
            "text/plain": [
              "[array(['popular', 'houston'], dtype='<U16')]"
            ]
          },
          "metadata": {},
          "execution_count": 45
        }
      ]
    },
    {
      "cell_type": "code",
      "source": [
        "value = nearest_neighbor.kneighbors(embedding.transform([text]), return_distance=False)\n",
        "selected = data.iloc[value[0][0]]['context']\n",
        "selected"
      ],
      "metadata": {
        "colab": {
          "base_uri": "https://localhost:8080/",
          "height": 54
        },
        "id": "oAjwXsRvbvNn",
        "outputId": "8dc854f0-043d-4749-cb02-078dff946240"
      },
      "id": "oAjwXsRvbvNn",
      "execution_count": 48,
      "outputs": [
        {
          "output_type": "execute_result",
          "data": {
            "text/plain": [
              "'Houston is a large metropolis in Texas, extending to Galveston Bay. It’s closely linked with the Space Center Houston, the coastal visitor center at NASA’s astronaut training and flight control complex. The city’s relatively compact Downtown includes the Theater District, home to the renowned Houston Grand Opera, and the Historic District, with 19th-century architecture and upscale restaurants.'"
            ],
            "application/vnd.google.colaboratory.intrinsic+json": {
              "type": "string"
            }
          },
          "metadata": {},
          "execution_count": 48
        }
      ]
    }
  ],
  "metadata": {
    "kernelspec": {
      "display_name": "Python 3 (ipykernel)",
      "language": "python",
      "name": "python3"
    },
    "language_info": {
      "codemirror_mode": {
        "name": "ipython",
        "version": 3
      },
      "file_extension": ".py",
      "mimetype": "text/x-python",
      "name": "python",
      "nbconvert_exporter": "python",
      "pygments_lexer": "ipython3",
      "version": "3.9.12"
    },
    "colab": {
      "provenance": []
    }
  },
  "nbformat": 4,
  "nbformat_minor": 5
}