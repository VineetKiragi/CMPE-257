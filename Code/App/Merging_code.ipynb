{
  "cells": [
    {
      "cell_type": "markdown",
      "metadata": {
        "id": "view-in-github",
        "colab_type": "text"
      },
      "source": [
        "<a href=\"https://colab.research.google.com/github/VineetKiragi/CMPE-257/blob/main/Merging_code.ipynb\" target=\"_parent\"><img src=\"https://colab.research.google.com/assets/colab-badge.svg\" alt=\"Open In Colab\"/></a>"
      ]
    },
    {
      "cell_type": "code",
      "execution_count": null,
      "id": "7f2aacb3",
      "metadata": {
        "id": "7f2aacb3"
      },
      "outputs": [],
      "source": [
        "import json"
      ]
    },
    {
      "cell_type": "markdown",
      "id": "44cd386a",
      "metadata": {
        "id": "44cd386a"
      },
      "source": [
        "Rahul Dataset"
      ]
    },
    {
      "cell_type": "code",
      "execution_count": null,
      "id": "ca2b0b92",
      "metadata": {
        "id": "ca2b0b92"
      },
      "outputs": [],
      "source": [
        "# Load the training dataset and take a look at it\n",
        "with open('/Users/Rahul/Documents/Machine Learning/Project/milestone3/answers.json', 'rb') as f:\n",
        "  rahul = json.load(f)"
      ]
    },
    {
      "cell_type": "code",
      "execution_count": null,
      "id": "c2d5495f",
      "metadata": {
        "id": "c2d5495f",
        "outputId": "4bb5da4a-10fc-4f52-ddb1-1e1fa026d928"
      },
      "outputs": [
        {
          "data": {
            "text/plain": [
              "dict_keys(['paragraphs'])"
            ]
          },
          "execution_count": 3,
          "metadata": {},
          "output_type": "execute_result"
        }
      ],
      "source": [
        "rahul['data'][0].keys()\n"
      ]
    },
    {
      "cell_type": "code",
      "execution_count": null,
      "id": "4c8f0cc4",
      "metadata": {
        "id": "4c8f0cc4",
        "outputId": "f88f99cb-2992-47be-ba3f-8cfdf10a19fb"
      },
      "outputs": [
        {
          "data": {
            "text/plain": [
              "{'paragraphs': [{'qas': [{'question': 'In which state is Los Angeles?',\n",
              "     'id': 597553,\n",
              "     'answers': [{'answer_id': 647225,\n",
              "       'document_id': 1202512,\n",
              "       'question_id': 597553,\n",
              "       'text': 'California',\n",
              "       'answer_start': 36,\n",
              "       'answer_end': 46,\n",
              "       'answer_category': None}],\n",
              "     'is_impossible': False},\n",
              "    {'question': 'What more can be told about the city?',\n",
              "     'id': 597555,\n",
              "     'answers': [{'answer_id': 647227,\n",
              "       'document_id': 1202512,\n",
              "       'question_id': 597555,\n",
              "       'text': 'TCL Chinese Theatre displays celebrities’ hand- and footprints, the Walk of Fame honors thousands of luminaries and vendors sell maps to stars’ homes',\n",
              "       'answer_start': 266,\n",
              "       'answer_end': 415,\n",
              "       'answer_category': None}],\n",
              "     'is_impossible': False},\n",
              "    {'question': 'What are some iconic thing about the city?',\n",
              "     'id': 597559,\n",
              "     'answers': [{'answer_id': 647232,\n",
              "       'document_id': 1202512,\n",
              "       'question_id': 597559,\n",
              "       'text': 'Paramount Pictures, Universal and Warner Brothers',\n",
              "       'answer_start': 161,\n",
              "       'answer_end': 210,\n",
              "       'answer_category': None}],\n",
              "     'is_impossible': False}],\n",
              "   'context': 'Los Angeles is a sprawling Southern California city and the center of the nation’s film and television industry. Near its iconic Hollywood sign, studios such as Paramount Pictures, Universal and Warner Brothers offer behind-the-scenes tours. On Hollywood Boulevard, TCL Chinese Theatre displays celebrities’ hand- and footprints, the Walk of Fame honors thousands of luminaries and vendors sell maps to stars’ homes',\n",
              "   'document_id': 1202512}]}"
            ]
          },
          "execution_count": 4,
          "metadata": {},
          "output_type": "execute_result"
        }
      ],
      "source": [
        "rahul['data'][0]"
      ]
    },
    {
      "cell_type": "code",
      "execution_count": null,
      "id": "5ead2c99",
      "metadata": {
        "id": "5ead2c99",
        "outputId": "0cfe154d-400c-41d9-cd99-c4ea4394c1c7"
      },
      "outputs": [
        {
          "data": {
            "text/plain": [
              "50"
            ]
          },
          "execution_count": 5,
          "metadata": {},
          "output_type": "execute_result"
        }
      ],
      "source": [
        "len(rahul['data'])"
      ]
    },
    {
      "cell_type": "markdown",
      "id": "90650e77",
      "metadata": {
        "id": "90650e77"
      },
      "source": [
        "Vineet Dataset"
      ]
    },
    {
      "cell_type": "code",
      "execution_count": null,
      "id": "2c18e1b5",
      "metadata": {
        "id": "2c18e1b5"
      },
      "outputs": [],
      "source": [
        "# Load the training dataset and take a look at it\n",
        "with open('/Users/Rahul/Documents/Machine Learning/Project/milestone3/Answers_Vineet.json', 'rb') as f:\n",
        "  vineet = json.load(f)"
      ]
    },
    {
      "cell_type": "code",
      "execution_count": null,
      "id": "2ec0b689",
      "metadata": {
        "id": "2ec0b689",
        "outputId": "75dd83fd-670b-4cc5-e835-add87758a55b"
      },
      "outputs": [
        {
          "data": {
            "text/plain": [
              "dict_keys(['paragraphs'])"
            ]
          },
          "execution_count": 7,
          "metadata": {},
          "output_type": "execute_result"
        }
      ],
      "source": [
        "vineet['data'][0].keys()"
      ]
    },
    {
      "cell_type": "code",
      "execution_count": null,
      "id": "912ec53a",
      "metadata": {
        "id": "912ec53a",
        "outputId": "9ca627f3-a29b-457d-d1b9-268606bb418a"
      },
      "outputs": [
        {
          "data": {
            "text/plain": [
              "{'paragraphs': [{'qas': [{'question': 'Which state is the city in?',\n",
              "     'id': 598544,\n",
              "     'answers': [{'answer_id': 650235,\n",
              "       'document_id': 1271057,\n",
              "       'question_id': 598544,\n",
              "       'text': 'Colorado',\n",
              "       'answer_start': 85,\n",
              "       'answer_end': 93,\n",
              "       'answer_category': None}],\n",
              "     'is_impossible': False},\n",
              "    {'question': 'Where is the city located?\\n',\n",
              "     'id': 598545,\n",
              "     'answers': [{'answer_id': 650236,\n",
              "       'document_id': 1271057,\n",
              "       'question_id': 598545,\n",
              "       'text': ' located in Arapahoe, Adams, and Douglas counties,',\n",
              "       'answer_start': 34,\n",
              "       'answer_end': 84,\n",
              "       'answer_category': None}],\n",
              "     'is_impossible': False},\n",
              "    {'question': \"What is Aurora city's population?\",\n",
              "     'id': 598548,\n",
              "     'answers': [{'answer_id': 650238,\n",
              "       'document_id': 1271057,\n",
              "       'question_id': 598548,\n",
              "       'text': \"The city's population was 386,261 at the 2020 United States Census with 336,035 residing in Arapahoe County, 47,720 residing in Adams County, and 2,506 residing in Douglas County.\",\n",
              "       'answer_start': 110,\n",
              "       'answer_end': 289,\n",
              "       'answer_category': None}],\n",
              "     'is_impossible': False},\n",
              "    {'question': 'What is the city?',\n",
              "     'id': 598543,\n",
              "     'answers': [{'answer_id': 650234,\n",
              "       'document_id': 1271057,\n",
              "       'question_id': 598543,\n",
              "       'text': 'Aurora ',\n",
              "       'answer_start': 0,\n",
              "       'answer_end': 7,\n",
              "       'answer_category': None}],\n",
              "     'is_impossible': False},\n",
              "    {'question': 'What is the city known for?\\n',\n",
              "     'id': 598546,\n",
              "     'answers': [],\n",
              "     'is_impossible': True}],\n",
              "   'context': \"Aurora is a home rule municipality located in Arapahoe, Adams, and Douglas counties, Colorado, United States. The city's population was 386,261 at the 2020 United States Census with 336,035 residing in Arapahoe County, 47,720 residing in Adams County, and 2,506 residing in Douglas County.\",\n",
              "   'document_id': 1271057}]}"
            ]
          },
          "execution_count": 8,
          "metadata": {},
          "output_type": "execute_result"
        }
      ],
      "source": [
        "vineet['data'][0]"
      ]
    },
    {
      "cell_type": "code",
      "execution_count": null,
      "id": "ba4e170b",
      "metadata": {
        "id": "ba4e170b",
        "outputId": "d39e349a-96bd-47bb-fceb-5a0086084740"
      },
      "outputs": [
        {
          "data": {
            "text/plain": [
              "50"
            ]
          },
          "execution_count": 9,
          "metadata": {},
          "output_type": "execute_result"
        }
      ],
      "source": [
        "len(vineet['data'])"
      ]
    },
    {
      "cell_type": "markdown",
      "id": "c4d24b7a",
      "metadata": {
        "id": "c4d24b7a"
      },
      "source": [
        "Devansh Dataset"
      ]
    },
    {
      "cell_type": "code",
      "execution_count": null,
      "id": "f9bd9166",
      "metadata": {
        "id": "f9bd9166"
      },
      "outputs": [],
      "source": [
        "# Load the training dataset and take a look at it\n",
        "with open('/Users/Rahul/Documents/Machine Learning/Project/milestone3/answers_Devansh.json', 'rb') as f:\n",
        "  priyank = json.load(f)"
      ]
    },
    {
      "cell_type": "code",
      "execution_count": null,
      "id": "535fa4fd",
      "metadata": {
        "id": "535fa4fd",
        "outputId": "9b990453-e537-413d-f88e-203c92dd579c"
      },
      "outputs": [
        {
          "data": {
            "text/plain": [
              "dict_keys(['paragraphs'])"
            ]
          },
          "execution_count": 11,
          "metadata": {},
          "output_type": "execute_result"
        }
      ],
      "source": [
        "priyank['data'][0].keys()"
      ]
    },
    {
      "cell_type": "code",
      "execution_count": null,
      "id": "d24398d5",
      "metadata": {
        "id": "d24398d5",
        "outputId": "58e6fb33-d001-4e7d-bb31-6c0a6aaa1a66"
      },
      "outputs": [
        {
          "data": {
            "text/plain": [
              "{'paragraphs': [{'qas': [{'question': 'Where is the city located?',\n",
              "     'id': 598663,\n",
              "     'answers': [{'answer_id': 651120,\n",
              "       'document_id': 1271492,\n",
              "       'question_id': 598663,\n",
              "       'text': 'Tacoma is a city in Washington state, on the banks of Puget Sound, south of Seattle',\n",
              "       'answer_start': 0,\n",
              "       'answer_end': 83,\n",
              "       'answer_category': None}],\n",
              "     'is_impossible': False},\n",
              "    {'question': 'What are the popular landmarks in this city?',\n",
              "     'id': 598666,\n",
              "     'answers': [{'answer_id': 651118,\n",
              "       'document_id': 1271492,\n",
              "       'question_id': 598666,\n",
              "       'text': 'The Tacoma Art Museum has a strong Northwest regional focus. The Washington State History Museum features hands-on exhibits, plus a vast model railroad.',\n",
              "       'answer_start': 255,\n",
              "       'answer_end': 407,\n",
              "       'answer_category': None}],\n",
              "     'is_impossible': False},\n",
              "    {'question': 'What is this city known for?',\n",
              "     'id': 598664,\n",
              "     'answers': [{'answer_id': 651119,\n",
              "       'document_id': 1271492,\n",
              "       'question_id': 598664,\n",
              "       'text': \"It's known for the Museum of Glass, which has works by renowned glass artist Dale Chihuly among its exhibits\",\n",
              "       'answer_start': 85,\n",
              "       'answer_end': 193,\n",
              "       'answer_category': None}],\n",
              "     'is_impossible': False}],\n",
              "   'context': \"Tacoma is a city in Washington state, on the banks of Puget Sound, south of Seattle. It's known for the Museum of Glass, which has works by renowned glass artist Dale Chihuly among its exhibits. These include installations on the Chihuly Bridge of Glass. The Tacoma Art Museum has a strong Northwest regional focus. The Washington State History Museum features hands-on exhibits, plus a vast model railroad.\",\n",
              "   'document_id': 1271492}]}"
            ]
          },
          "execution_count": 12,
          "metadata": {},
          "output_type": "execute_result"
        }
      ],
      "source": [
        "priyank['data'][0]"
      ]
    },
    {
      "cell_type": "code",
      "execution_count": null,
      "id": "aedc7b93",
      "metadata": {
        "id": "aedc7b93",
        "outputId": "2f32533f-27dd-4074-dc96-5cff34d1a0eb"
      },
      "outputs": [
        {
          "data": {
            "text/plain": [
              "51"
            ]
          },
          "execution_count": 13,
          "metadata": {},
          "output_type": "execute_result"
        }
      ],
      "source": [
        "len(priyank['data'])"
      ]
    },
    {
      "cell_type": "markdown",
      "id": "4537c9c2",
      "metadata": {
        "id": "4537c9c2"
      },
      "source": [
        "Merged Dataset"
      ]
    },
    {
      "cell_type": "code",
      "execution_count": null,
      "id": "90933f3b",
      "metadata": {
        "id": "90933f3b"
      },
      "outputs": [],
      "source": [
        "# Load the training dataset and take a look at it\n",
        "with open('/Users/Rahul/Documents/Machine Learning/Project/milestone3/merged_file.json', 'rb') as f:\n",
        "  merged= json.load(f)"
      ]
    },
    {
      "cell_type": "code",
      "execution_count": null,
      "id": "f586b1b4",
      "metadata": {
        "id": "f586b1b4",
        "outputId": "3ba9570e-5d20-4f1c-af37-ee89cc98a262"
      },
      "outputs": [
        {
          "data": {
            "text/plain": [
              "dict_keys(['paragraphs'])"
            ]
          },
          "execution_count": 15,
          "metadata": {},
          "output_type": "execute_result"
        }
      ],
      "source": [
        "merged['data'][0].keys()"
      ]
    },
    {
      "cell_type": "code",
      "execution_count": null,
      "id": "69f8dfac",
      "metadata": {
        "id": "69f8dfac",
        "outputId": "63465fd0-026c-4479-f65b-226aa72bb33a"
      },
      "outputs": [
        {
          "data": {
            "text/plain": [
              "{'paragraphs': [{'qas': [{'question': 'In which state is Los Angeles?',\n",
              "     'id': 597553,\n",
              "     'answers': [{'answer_id': 647225,\n",
              "       'document_id': 1202512,\n",
              "       'question_id': 597553,\n",
              "       'text': 'California',\n",
              "       'answer_start': 36,\n",
              "       'answer_end': 46,\n",
              "       'answer_category': None}],\n",
              "     'is_impossible': False},\n",
              "    {'question': 'What more can be told about the city?',\n",
              "     'id': 597555,\n",
              "     'answers': [{'answer_id': 647227,\n",
              "       'document_id': 1202512,\n",
              "       'question_id': 597555,\n",
              "       'text': 'TCL Chinese Theatre displays celebrities’ hand- and footprints, the Walk of Fame honors thousands of luminaries and vendors sell maps to stars’ homes',\n",
              "       'answer_start': 266,\n",
              "       'answer_end': 415,\n",
              "       'answer_category': None}],\n",
              "     'is_impossible': False},\n",
              "    {'question': 'What are some iconic thing about the city?',\n",
              "     'id': 597559,\n",
              "     'answers': [{'answer_id': 647232,\n",
              "       'document_id': 1202512,\n",
              "       'question_id': 597559,\n",
              "       'text': 'Paramount Pictures, Universal and Warner Brothers',\n",
              "       'answer_start': 161,\n",
              "       'answer_end': 210,\n",
              "       'answer_category': None}],\n",
              "     'is_impossible': False}],\n",
              "   'context': 'Los Angeles is a sprawling Southern California city and the center of the nation’s film and television industry. Near its iconic Hollywood sign, studios such as Paramount Pictures, Universal and Warner Brothers offer behind-the-scenes tours. On Hollywood Boulevard, TCL Chinese Theatre displays celebrities’ hand- and footprints, the Walk of Fame honors thousands of luminaries and vendors sell maps to stars’ homes',\n",
              "   'document_id': 1202512}]}"
            ]
          },
          "execution_count": 16,
          "metadata": {},
          "output_type": "execute_result"
        }
      ],
      "source": [
        "merged['data'][0]"
      ]
    },
    {
      "cell_type": "code",
      "execution_count": null,
      "id": "6bc85f31",
      "metadata": {
        "id": "6bc85f31",
        "outputId": "d1627556-8f34-4a19-b7b0-32243a0e5142"
      },
      "outputs": [
        {
          "data": {
            "text/plain": [
              "151"
            ]
          },
          "execution_count": 17,
          "metadata": {},
          "output_type": "execute_result"
        }
      ],
      "source": [
        "len(merged['data'])"
      ]
    }
  ],
  "metadata": {
    "kernelspec": {
      "display_name": "Python 3 (ipykernel)",
      "language": "python",
      "name": "python3"
    },
    "language_info": {
      "codemirror_mode": {
        "name": "ipython",
        "version": 3
      },
      "file_extension": ".py",
      "mimetype": "text/x-python",
      "name": "python",
      "nbconvert_exporter": "python",
      "pygments_lexer": "ipython3",
      "version": "3.9.12"
    },
    "colab": {
      "provenance": [],
      "include_colab_link": true
    }
  },
  "nbformat": 4,
  "nbformat_minor": 5
}